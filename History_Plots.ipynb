{
 "cells": [
  {
   "cell_type": "markdown",
   "metadata": {},
   "source": [
    "# Test if we can plot saved histories"
   ]
  },
  {
   "cell_type": "code",
   "execution_count": 8,
   "metadata": {},
   "outputs": [
    {
     "name": "stdout",
     "output_type": "stream",
     "text": [
      "-rw-r--r-- 1 will sudo 237 Aug  4 22:51 models/42e568301c0b4a7e96b47188ffee05b3.history.json\r\n",
      "-rw-r--r-- 1 will sudo 238 Aug  4 23:38 models/b59fee58f5334820b68f7be7ffee83aa.history.json\r\n"
     ]
    }
   ],
   "source": [
    "!ls -l models/*.history.json"
   ]
  },
  {
   "cell_type": "code",
   "execution_count": 9,
   "metadata": {},
   "outputs": [
    {
     "name": "stdout",
     "output_type": "stream",
     "text": [
      "{\"val_loss\": [NaN, NaN, NaN, NaN], \"val_mean_absolute_error\": [NaN, NaN, NaN, NaN], \"val_acc\": [0.0, 0.0, 0.0, 0.0], \"loss\": [NaN, NaN, NaN, NaN], \"mean_absolute_error\": [NaN, NaN, NaN, NaN], \"acc\": [0.0006714413774632511, 0.0, 0.0, 0.0]}"
     ]
    }
   ],
   "source": [
    "!cat models/b59fee58f5334820b68f7be7ffee83aa.history.json"
   ]
  },
  {
   "cell_type": "code",
   "execution_count": 7,
   "metadata": {},
   "outputs": [
    {
     "name": "stdout",
     "output_type": "stream",
     "text": [
      "{\"val_loss\": [NaN, NaN, NaN, NaN], \"val_mean_absolute_error\": [NaN, NaN, NaN, NaN], \"val_acc\": [0.0, 0.0, 0.0, 0.0], \"loss\": [NaN, NaN, NaN, NaN], \"mean_absolute_error\": [NaN, NaN, NaN, NaN], \"acc\": [0.014100268381441823, 0.0, 0.0, 0.0]}"
     ]
    }
   ],
   "source": [
    "!cat models/42e568301c0b4a7e96b47188ffee05b3.history.json"
   ]
  },
  {
   "cell_type": "markdown",
   "metadata": {},
   "source": [
    ": ("
   ]
  },
  {
   "cell_type": "markdown",
   "metadata": {},
   "source": [
    ": ("
   ]
  },
  {
   "cell_type": "markdown",
   "metadata": {},
   "source": [
    ": ("
   ]
  },
  {
   "cell_type": "markdown",
   "metadata": {},
   "source": [
    ": ("
   ]
  },
  {
   "cell_type": "markdown",
   "metadata": {},
   "source": [
    "Nothing worth plotting yet"
   ]
  },
  {
   "cell_type": "code",
   "execution_count": null,
   "metadata": {},
   "outputs": [],
   "source": []
  }
 ],
 "metadata": {
  "kernelspec": {
   "display_name": "Python 3",
   "language": "python",
   "name": "python3"
  },
  "language_info": {
   "codemirror_mode": {
    "name": "ipython",
    "version": 3
   },
   "file_extension": ".py",
   "mimetype": "text/x-python",
   "name": "python",
   "nbconvert_exporter": "python",
   "pygments_lexer": "ipython3",
   "version": "3.7.3"
  }
 },
 "nbformat": 4,
 "nbformat_minor": 2
}
