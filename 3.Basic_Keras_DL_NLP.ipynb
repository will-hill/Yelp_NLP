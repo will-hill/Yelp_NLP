{
 "cells": [
  {
   "cell_type": "markdown",
   "metadata": {},
   "source": [
    "# Basic Keras Deep Learning NLP\n",
    "inspired from \n",
    "* https://www.kaggle.com/ngyptr/lstm-sentiment-analysis-keras\n",
    "* https://medium.com/datadriveninvestor/building-neural-network-using-keras-for-regression-ceee5a9eadff\n"
   ]
  },
  {
   "cell_type": "code",
   "execution_count": 1,
   "metadata": {},
   "outputs": [
    {
     "name": "stdout",
     "output_type": "stream",
     "text": [
      "plaidml\t \n"
     ]
    }
   ],
   "source": [
    "from sys import platform\n",
    "if platform == \"darwin\":\n",
    "    import plaidml.keras\n",
    "    plaidml.keras.install_backend()\n",
    "else:\n",
    "    import keras\n",
    "del platform\n",
    "%who"
   ]
  },
  {
   "cell_type": "code",
   "execution_count": 2,
   "metadata": {},
   "outputs": [
    {
     "data": {
      "text/html": [
       "<div>\n",
       "<style scoped>\n",
       "    .dataframe tbody tr th:only-of-type {\n",
       "        vertical-align: middle;\n",
       "    }\n",
       "\n",
       "    .dataframe tbody tr th {\n",
       "        vertical-align: top;\n",
       "    }\n",
       "\n",
       "    .dataframe thead th {\n",
       "        text-align: right;\n",
       "    }\n",
       "</style>\n",
       "<table border=\"1\" class=\"dataframe\">\n",
       "  <thead>\n",
       "    <tr style=\"text-align: right;\">\n",
       "      <th></th>\n",
       "      <th>review_id</th>\n",
       "      <th>user_id</th>\n",
       "      <th>business_id</th>\n",
       "      <th>stars</th>\n",
       "      <th>useful</th>\n",
       "      <th>funny</th>\n",
       "      <th>cool</th>\n",
       "      <th>text</th>\n",
       "      <th>date</th>\n",
       "    </tr>\n",
       "  </thead>\n",
       "  <tbody>\n",
       "    <tr>\n",
       "      <th>0</th>\n",
       "      <td>Q1sbwvVQXV2734tPgoKj4Q</td>\n",
       "      <td>hG7b0MtEbXx5QzbzE6C_VA</td>\n",
       "      <td>ujmEBvifdJM6h6RLv4wQIg</td>\n",
       "      <td>1.0</td>\n",
       "      <td>6</td>\n",
       "      <td>1</td>\n",
       "      <td>0</td>\n",
       "      <td>Total bill for this horrible service? Over $8G...</td>\n",
       "      <td>2013-05-07 04:34:36</td>\n",
       "    </tr>\n",
       "    <tr>\n",
       "      <th>1</th>\n",
       "      <td>GJXCdrto3ASJOqKeVWPi6Q</td>\n",
       "      <td>yXQM5uF2jS6es16SJzNHfg</td>\n",
       "      <td>NZnhc2sEQy3RmzKTZnqtwQ</td>\n",
       "      <td>5.0</td>\n",
       "      <td>0</td>\n",
       "      <td>0</td>\n",
       "      <td>0</td>\n",
       "      <td>I *adore* Travis at the Hard Rock's new Kelly ...</td>\n",
       "      <td>2017-01-14 21:30:33</td>\n",
       "    </tr>\n",
       "    <tr>\n",
       "      <th>2</th>\n",
       "      <td>2TzJjDVDEuAW6MR5Vuc1ug</td>\n",
       "      <td>n6-Gk65cPZL6Uz8qRm3NYw</td>\n",
       "      <td>WTqjgwHlXbSFevF32_DJVw</td>\n",
       "      <td>5.0</td>\n",
       "      <td>3</td>\n",
       "      <td>0</td>\n",
       "      <td>0</td>\n",
       "      <td>I have to say that this office really has it t...</td>\n",
       "      <td>2016-11-09 20:09:03</td>\n",
       "    </tr>\n",
       "  </tbody>\n",
       "</table>\n",
       "</div>"
      ],
      "text/plain": [
       "                review_id                 user_id             business_id  \\\n",
       "0  Q1sbwvVQXV2734tPgoKj4Q  hG7b0MtEbXx5QzbzE6C_VA  ujmEBvifdJM6h6RLv4wQIg   \n",
       "1  GJXCdrto3ASJOqKeVWPi6Q  yXQM5uF2jS6es16SJzNHfg  NZnhc2sEQy3RmzKTZnqtwQ   \n",
       "2  2TzJjDVDEuAW6MR5Vuc1ug  n6-Gk65cPZL6Uz8qRm3NYw  WTqjgwHlXbSFevF32_DJVw   \n",
       "\n",
       "   stars  useful  funny  cool  \\\n",
       "0    1.0       6      1     0   \n",
       "1    5.0       0      0     0   \n",
       "2    5.0       3      0     0   \n",
       "\n",
       "                                                text                 date  \n",
       "0  Total bill for this horrible service? Over $8G...  2013-05-07 04:34:36  \n",
       "1  I *adore* Travis at the Hard Rock's new Kelly ...  2017-01-14 21:30:33  \n",
       "2  I have to say that this office really has it t...  2016-11-09 20:09:03  "
      ]
     },
     "metadata": {},
     "output_type": "display_data"
    },
    {
     "data": {
      "text/html": [
       "<div>\n",
       "<style scoped>\n",
       "    .dataframe tbody tr th:only-of-type {\n",
       "        vertical-align: middle;\n",
       "    }\n",
       "\n",
       "    .dataframe tbody tr th {\n",
       "        vertical-align: top;\n",
       "    }\n",
       "\n",
       "    .dataframe thead th {\n",
       "        text-align: right;\n",
       "    }\n",
       "</style>\n",
       "<table border=\"1\" class=\"dataframe\">\n",
       "  <thead>\n",
       "    <tr style=\"text-align: right;\">\n",
       "      <th></th>\n",
       "      <th>stars</th>\n",
       "      <th>useful</th>\n",
       "      <th>funny</th>\n",
       "      <th>cool</th>\n",
       "    </tr>\n",
       "  </thead>\n",
       "  <tbody>\n",
       "    <tr>\n",
       "      <th>count</th>\n",
       "      <td>1000.000000</td>\n",
       "      <td>1000.000000</td>\n",
       "      <td>1000.000000</td>\n",
       "      <td>1000.000000</td>\n",
       "    </tr>\n",
       "    <tr>\n",
       "      <th>mean</th>\n",
       "      <td>3.654000</td>\n",
       "      <td>1.271000</td>\n",
       "      <td>0.452000</td>\n",
       "      <td>0.524000</td>\n",
       "    </tr>\n",
       "    <tr>\n",
       "      <th>std</th>\n",
       "      <td>1.469845</td>\n",
       "      <td>2.380594</td>\n",
       "      <td>1.268584</td>\n",
       "      <td>1.384681</td>\n",
       "    </tr>\n",
       "    <tr>\n",
       "      <th>min</th>\n",
       "      <td>1.000000</td>\n",
       "      <td>0.000000</td>\n",
       "      <td>0.000000</td>\n",
       "      <td>0.000000</td>\n",
       "    </tr>\n",
       "    <tr>\n",
       "      <th>25%</th>\n",
       "      <td>3.000000</td>\n",
       "      <td>0.000000</td>\n",
       "      <td>0.000000</td>\n",
       "      <td>0.000000</td>\n",
       "    </tr>\n",
       "    <tr>\n",
       "      <th>50%</th>\n",
       "      <td>4.000000</td>\n",
       "      <td>0.000000</td>\n",
       "      <td>0.000000</td>\n",
       "      <td>0.000000</td>\n",
       "    </tr>\n",
       "    <tr>\n",
       "      <th>75%</th>\n",
       "      <td>5.000000</td>\n",
       "      <td>1.000000</td>\n",
       "      <td>0.000000</td>\n",
       "      <td>1.000000</td>\n",
       "    </tr>\n",
       "    <tr>\n",
       "      <th>max</th>\n",
       "      <td>5.000000</td>\n",
       "      <td>23.000000</td>\n",
       "      <td>14.000000</td>\n",
       "      <td>15.000000</td>\n",
       "    </tr>\n",
       "  </tbody>\n",
       "</table>\n",
       "</div>"
      ],
      "text/plain": [
       "             stars       useful        funny         cool\n",
       "count  1000.000000  1000.000000  1000.000000  1000.000000\n",
       "mean      3.654000     1.271000     0.452000     0.524000\n",
       "std       1.469845     2.380594     1.268584     1.384681\n",
       "min       1.000000     0.000000     0.000000     0.000000\n",
       "25%       3.000000     0.000000     0.000000     0.000000\n",
       "50%       4.000000     0.000000     0.000000     0.000000\n",
       "75%       5.000000     1.000000     0.000000     1.000000\n",
       "max       5.000000    23.000000    14.000000    15.000000"
      ]
     },
     "metadata": {},
     "output_type": "display_data"
    },
    {
     "name": "stdout",
     "output_type": "stream",
     "text": [
      "<class 'pandas.core.frame.DataFrame'>\n",
      "Int64Index: 1000 entries, 0 to 999\n",
      "Data columns (total 9 columns):\n",
      "review_id      1000 non-null object\n",
      "user_id        1000 non-null object\n",
      "business_id    1000 non-null object\n",
      "stars          1000 non-null float64\n",
      "useful         1000 non-null int64\n",
      "funny          1000 non-null int64\n",
      "cool           1000 non-null int64\n",
      "text           1000 non-null object\n",
      "date           1000 non-null object\n",
      "dtypes: float64(1), int64(3), object(5)\n",
      "memory usage: 78.1+ KB\n"
     ]
    },
    {
     "data": {
      "text/plain": [
       "None"
      ]
     },
     "metadata": {},
     "output_type": "display_data"
    },
    {
     "name": "stdout",
     "output_type": "stream",
     "text": [
      "(670, 510) (670,)\n",
      "(330, 510) (330,)\n",
      "X\t X_test\t X_train\t Y\t Y_test\t Y_train\t max_features\t plaidml\t \n"
     ]
    }
   ],
   "source": [
    "import pandas as pd\n",
    "from keras.preprocessing.text import Tokenizer\n",
    "from keras.preprocessing.sequence import pad_sequences\n",
    "from sklearn.model_selection import train_test_split\n",
    "\n",
    "###\n",
    "\n",
    "df = pd.read_hdf('reviews.h5')\n",
    "display(df.head(3))\n",
    "display(df.describe())\n",
    "display(df.info())\n",
    "max_features=100\n",
    "tokenizer = Tokenizer(num_words=max_features, split=' ')\n",
    "tokenizer.fit_on_texts(df['text'].values)\n",
    "X = tokenizer.texts_to_sequences(df['text'].values)\n",
    "X = pad_sequences(X)\n",
    "\n",
    "Y = df.stars\n",
    "X_train, X_test, Y_train, Y_test = train_test_split(X,Y, test_size = 0.33, random_state = 42)\n",
    "print(X_train.shape,Y_train.shape)\n",
    "print(X_test.shape,Y_test.shape)\n",
    "\n",
    "###\n",
    "\n",
    "del pd, Tokenizer, pad_sequences, tokenizer, train_test_split, df\n",
    "%who"
   ]
  },
  {
   "cell_type": "code",
   "execution_count": 3,
   "metadata": {},
   "outputs": [
    {
     "name": "stderr",
     "output_type": "stream",
     "text": [
      "INFO:plaidml:Opening device \"opencl_amd_radeon_pro_560x_compute_engine.0\"\n"
     ]
    },
    {
     "name": "stdout",
     "output_type": "stream",
     "text": [
      "_________________________________________________________________\n",
      "Layer (type)                 Output Shape              Param #   \n",
      "=================================================================\n",
      "embedding_1 (Embedding)      (None, 510, 12)           1200      \n",
      "_________________________________________________________________\n",
      "lstm_1 (LSTM)                (None, 19)                2432      \n",
      "_________________________________________________________________\n",
      "dense_1 (Dense)              (None, 1)                 20        \n",
      "=================================================================\n",
      "Total params: 3,652\n",
      "Trainable params: 3,652\n",
      "Non-trainable params: 0\n",
      "_________________________________________________________________\n",
      "None\n"
     ]
    }
   ],
   "source": [
    "from keras.models import Sequential\n",
    "from keras.layers import Dense, Embedding, LSTM, SpatialDropout1D\n",
    "\n",
    "embed_dim = 12#8\n",
    "lstm_out = 19#6\n",
    "\n",
    "model = Sequential()\n",
    "model.add(Embedding(max_features, embed_dim, input_length = X.shape[1]))\n",
    "#model.add(SpatialDropout1D(0.4))\n",
    "model.add(LSTM(lstm_out, dropout=0.2, recurrent_dropout=0.2))\n",
    "model.add(Dense(1))\n",
    "\n",
    "model.compile(optimizer='adam', loss='mean_squared_error',  metrics=['mae','accuracy'])\n",
    "print(model.summary())"
   ]
  },
  {
   "cell_type": "code",
   "execution_count": null,
   "metadata": {},
   "outputs": [
    {
     "name": "stdout",
     "output_type": "stream",
     "text": [
      "Epoch 1/1\n"
     ]
    },
    {
     "name": "stderr",
     "output_type": "stream",
     "text": [
      "INFO:plaidml:Analyzing Ops: 862 of 58862 operations complete\n",
      "INFO:plaidml:Analyzing Ops: 2193 of 58862 operations complete\n",
      "INFO:plaidml:Analyzing Ops: 2901 of 58862 operations complete\n",
      "INFO:plaidml:Analyzing Ops: 3595 of 58862 operations complete\n",
      "INFO:plaidml:Analyzing Ops: 4315 of 58862 operations complete\n",
      "INFO:plaidml:Analyzing Ops: 5061 of 58862 operations complete\n",
      "INFO:plaidml:Analyzing Ops: 5845 of 58862 operations complete\n",
      "INFO:plaidml:Analyzing Ops: 6648 of 58862 operations complete\n",
      "INFO:plaidml:Analyzing Ops: 7478 of 58862 operations complete\n",
      "INFO:plaidml:Analyzing Ops: 8329 of 58862 operations complete\n",
      "INFO:plaidml:Analyzing Ops: 9229 of 58862 operations complete\n",
      "INFO:plaidml:Analyzing Ops: 10210 of 58862 operations complete\n",
      "INFO:plaidml:Analyzing Ops: 11271 of 58862 operations complete\n",
      "INFO:plaidml:Analyzing Ops: 12383 of 58862 operations complete\n",
      "INFO:plaidml:Analyzing Ops: 13585 of 58862 operations complete\n",
      "INFO:plaidml:Analyzing Ops: 14858 of 58862 operations complete\n",
      "INFO:plaidml:Analyzing Ops: 16240 of 58862 operations complete\n",
      "INFO:plaidml:Analyzing Ops: 17760 of 58862 operations complete\n",
      "INFO:plaidml:Analyzing Ops: 19220 of 58862 operations complete\n",
      "INFO:plaidml:Analyzing Ops: 20785 of 58862 operations complete\n",
      "INFO:plaidml:Analyzing Ops: 22675 of 58862 operations complete\n",
      "INFO:plaidml:Analyzing Ops: 25393 of 58862 operations complete\n",
      "INFO:plaidml:Analyzing Ops: 27700 of 58862 operations complete\n",
      "INFO:plaidml:Analyzing Ops: 29770 of 58862 operations complete\n",
      "INFO:plaidml:Analyzing Ops: 32017 of 58862 operations complete\n",
      "INFO:plaidml:Analyzing Ops: 34232 of 58862 operations complete\n",
      "INFO:plaidml:Analyzing Ops: 36544 of 58862 operations complete\n",
      "INFO:plaidml:Analyzing Ops: 38960 of 58862 operations complete\n",
      "INFO:plaidml:Analyzing Ops: 41211 of 58862 operations complete\n",
      "INFO:plaidml:Analyzing Ops: 43504 of 58862 operations complete\n",
      "INFO:plaidml:Analyzing Ops: 45824 of 58862 operations complete\n",
      "INFO:plaidml:Analyzing Ops: 48109 of 58862 operations complete\n",
      "INFO:plaidml:Analyzing Ops: 51471 of 58862 operations complete\n",
      "INFO:plaidml:Analyzing Ops: 54700 of 58862 operations complete\n"
     ]
    },
    {
     "name": "stdout",
     "output_type": "stream",
     "text": [
      "640/670 [===========================>..] - ETA: 8s - loss: 15.5831 - mean_absolute_error: 3.6674 - acc: 0.0000e+00 "
     ]
    },
    {
     "name": "stderr",
     "output_type": "stream",
     "text": [
      "INFO:plaidml:Analyzing Ops: 1020 of 58862 operations complete\n",
      "INFO:plaidml:Analyzing Ops: 2193 of 58862 operations complete\n",
      "INFO:plaidml:Analyzing Ops: 2868 of 58862 operations complete\n",
      "INFO:plaidml:Analyzing Ops: 3486 of 58862 operations complete\n",
      "INFO:plaidml:Analyzing Ops: 4136 of 58862 operations complete\n",
      "INFO:plaidml:Analyzing Ops: 4823 of 58862 operations complete\n",
      "INFO:plaidml:Analyzing Ops: 5530 of 58862 operations complete\n",
      "INFO:plaidml:Analyzing Ops: 6276 of 58862 operations complete\n",
      "INFO:plaidml:Analyzing Ops: 7105 of 58862 operations complete\n",
      "INFO:plaidml:Analyzing Ops: 7953 of 58862 operations complete\n",
      "INFO:plaidml:Analyzing Ops: 8860 of 58862 operations complete\n",
      "INFO:plaidml:Analyzing Ops: 9805 of 58862 operations complete\n",
      "INFO:plaidml:Analyzing Ops: 10808 of 58862 operations complete\n",
      "INFO:plaidml:Analyzing Ops: 11778 of 58862 operations complete\n",
      "INFO:plaidml:Analyzing Ops: 12923 of 58862 operations complete\n",
      "INFO:plaidml:Analyzing Ops: 14138 of 58862 operations complete\n",
      "INFO:plaidml:Analyzing Ops: 15430 of 58862 operations complete\n",
      "INFO:plaidml:Analyzing Ops: 16825 of 58862 operations complete\n",
      "INFO:plaidml:Analyzing Ops: 18381 of 58862 operations complete\n",
      "INFO:plaidml:Analyzing Ops: 20110 of 58862 operations complete\n",
      "INFO:plaidml:Analyzing Ops: 22193 of 58862 operations complete\n"
     ]
    }
   ],
   "source": [
    "batch_size = 128\n",
    "epochs = 1\n",
    "model.fit(X_train, Y_train, epochs = epochs, batch_size=batch_size, verbose = 1)"
   ]
  },
  {
   "cell_type": "code",
   "execution_count": null,
   "metadata": {},
   "outputs": [],
   "source": [
    "score,acc = model.evaluate(X_test, Y_test, verbose = 2, batch_size = batch_size)"
   ]
  },
  {
   "cell_type": "code",
   "execution_count": null,
   "metadata": {},
   "outputs": [],
   "source": [
    "y_pred= regressor.predict(X_test)"
   ]
  },
  {
   "cell_type": "code",
   "execution_count": null,
   "metadata": {},
   "outputs": [],
   "source": [
    "fig, ax = plt.subplots()\n",
    "ax.scatter(y_test, y_pred)\n",
    "ax.plot([y_test.min(), y_test.max()], [y_test.min(), y_test.max()], 'k--', lw=4)\n",
    "ax.set_xlabel('Measured')\n",
    "ax.set_ylabel('Predicted')\n",
    "plt.show()"
   ]
  }
 ],
 "metadata": {
  "kernelspec": {
   "display_name": "Python 3",
   "language": "python",
   "name": "python3"
  },
  "language_info": {
   "codemirror_mode": {
    "name": "ipython",
    "version": 3
   },
   "file_extension": ".py",
   "mimetype": "text/x-python",
   "name": "python",
   "nbconvert_exporter": "python",
   "pygments_lexer": "ipython3",
   "version": "3.7.3"
  }
 },
 "nbformat": 4,
 "nbformat_minor": 2
}
