{
  "nbformat": 4,
  "nbformat_minor": 0,
  "metadata": {
    "colab": {
      "name": "Copy of Final Project.ipynb",
      "version": "0.3.2",
      "provenance": [],
      "collapsed_sections": [],
      "include_colab_link": true
    },
    "kernelspec": {
      "name": "python3",
      "display_name": "Python 3"
    },
    "accelerator": "GPU"
  },
  "cells": [
    {
      "cell_type": "markdown",
      "metadata": {
        "id": "view-in-github",
        "colab_type": "text"
      },
      "source": [
        "<a href=\"https://colab.research.google.com/github/will-hill/Yelp_NLP/blob/master/3.Basic_Keras_DL_NLP.ipynb\" target=\"_parent\"><img src=\"https://colab.research.google.com/assets/colab-badge.svg\" alt=\"Open In Colab\"/></a>"
      ]
    },
    {
      "cell_type": "markdown",
      "metadata": {
        "id": "69lloxhH4GbP",
        "colab_type": "text"
      },
      "source": [
        "# Basic Keras Deep Learning NLP\n",
        "inspired from \n",
        "* https://www.kaggle.com/ngyptr/lstm-sentiment-analysis-keras\n",
        "* https://medium.com/datadriveninvestor/building-neural-network-using-keras-for-regression-ceee5a9eadff\n"
      ]
    },
    {
      "cell_type": "markdown",
      "metadata": {
        "id": "klkILKLwM8Yp",
        "colab_type": "text"
      },
      "source": [
        "### Will Setup Code\n",
        "I created a couple subdirectories in my Google Drive"
      ]
    },
    {
      "cell_type": "code",
      "metadata": {
        "id": "uIgKzGkFO43I",
        "colab_type": "code",
        "colab": {
          "base_uri": "https://localhost:8080/",
          "height": 35
        },
        "outputId": "b7e799c5-7b07-44dc-9916-b7ea40a501e2"
      },
      "source": [
        "%who"
      ],
      "execution_count": 1,
      "outputs": [
        {
          "output_type": "stream",
          "text": [
            "Interactive namespace is empty.\n"
          ],
          "name": "stdout"
        }
      ]
    },
    {
      "cell_type": "code",
      "metadata": {
        "id": "Ar6urKZwM7mo",
        "colab_type": "code",
        "outputId": "7e40e3b6-a25d-43c6-984b-ec428c93d0fd",
        "colab": {
          "base_uri": "https://localhost:8080/",
          "height": 55
        }
      },
      "source": [
        "from google.colab import drive\n",
        "drive.mount('/content/drive')"
      ],
      "execution_count": 2,
      "outputs": [
        {
          "output_type": "stream",
          "text": [
            "Drive already mounted at /content/drive; to attempt to forcibly remount, call drive.mount(\"/content/drive\", force_remount=True).\n"
          ],
          "name": "stdout"
        }
      ]
    },
    {
      "cell_type": "code",
      "metadata": {
        "id": "NNalFkZaOQgc",
        "colab_type": "code",
        "outputId": "bfe9d560-ffdd-405d-a0b4-ef41f1b89eaa",
        "colab": {
          "base_uri": "https://localhost:8080/",
          "height": 69
        }
      },
      "source": [
        "# 534,7475,638 bytes -->  !ls -l /content/drive/My\\ Drive/colab/yelp_nlp/review.json\n",
        "#    6,685,900 lines -->  !wc -l /content/drive/My\\ Drive/colab/yelp_nlp/review.json"
      ],
      "execution_count": 11,
      "outputs": [
        {
          "output_type": "stream",
          "text": [
            "/content\n",
            "-rw------- 1 root root 5347475638 Aug  4 01:21 '/content/drive/My Drive/colab/yelp_nlp/review.json'\n",
            "6685900 /content/drive/My Drive/colab/yelp_nlp/review.json\n"
          ],
          "name": "stdout"
        }
      ]
    },
    {
      "cell_type": "code",
      "metadata": {
        "id": "W-y8egrgPBfJ",
        "colab_type": "code",
        "colab": {
          "base_uri": "https://localhost:8080/",
          "height": 35
        },
        "outputId": "29c4c46e-c0c7-4588-c9b9-19ca49cd25cf"
      },
      "source": [
        "%who"
      ],
      "execution_count": 2,
      "outputs": [
        {
          "output_type": "stream",
          "text": [
            "drive\t \n"
          ],
          "name": "stdout"
        }
      ]
    },
    {
      "cell_type": "code",
      "metadata": {
        "id": "9esZJkDhOCuR",
        "colab_type": "code",
        "outputId": "22dba335-489f-422d-dfd4-3736eba5296c",
        "colab": {
          "base_uri": "https://localhost:8080/",
          "height": 69
        }
      },
      "source": [
        "%%time\n",
        "REVIEWS_TO_INGEST = 6685900\n",
        "data_list = list()\n",
        "columns = ['review_id', 'user_id', 'business_id', 'stars', 'useful', 'funny', 'cool', 'text', 'date']\n",
        "\n",
        "# inspired by https://thedatafrog.com/text-mining-pandas-yelp/\n",
        "with open('/content/drive/My Drive/colab/yelp_nlp/review.json') as reviews:\n",
        "    import json\n",
        "    for i, line in enumerate(reviews):\n",
        "\n",
        "        if i == REVIEWS_TO_INGEST:\n",
        "            break\n",
        "\n",
        "            # convert json line to di t\n",
        "        data = json.loads(line)\n",
        "        data_list.append([data['review_id'],\n",
        "                          data['user_id'],\n",
        "                          data['business_id'],\n",
        "                          data['stars'],\n",
        "                          data['useful'],\n",
        "                          data['funny'],\n",
        "                          data['cool'],\n",
        "                          data['text'],\n",
        "                          data['date']])\n",
        "\n",
        "reviews.close()\n",
        "del reviews, i, line, data, REVIEWS_TO_INGEST, json\n",
        "###\n",
        "import pandas\n",
        "df = pandas.DataFrame(data_list, columns=columns)\n",
        "del data_list, columns, pandas\n",
        "\n",
        "%who"
      ],
      "execution_count": 3,
      "outputs": [
        {
          "output_type": "stream",
          "text": [
            "df\t drive\t \n",
            "CPU times: user 1min 14s, sys: 6.86 s, total: 1min 21s\n",
            "Wall time: 1min 24s\n"
          ],
          "name": "stdout"
        }
      ]
    },
    {
      "cell_type": "code",
      "metadata": {
        "id": "MeySR1NZPEdz",
        "colab_type": "code",
        "colab": {
          "base_uri": "https://localhost:8080/",
          "height": 486
        },
        "outputId": "9ffb89c6-2610-4f7b-985a-a4c15a4d3f19"
      },
      "source": [
        "display(df.head(3))\n",
        "df.shape"
      ],
      "execution_count": 4,
      "outputs": [
        {
          "output_type": "display_data",
          "data": {
            "text/html": [
              "<div>\n",
              "<style scoped>\n",
              "    .dataframe tbody tr th:only-of-type {\n",
              "        vertical-align: middle;\n",
              "    }\n",
              "\n",
              "    .dataframe tbody tr th {\n",
              "        vertical-align: top;\n",
              "    }\n",
              "\n",
              "    .dataframe thead th {\n",
              "        text-align: right;\n",
              "    }\n",
              "</style>\n",
              "<table border=\"1\" class=\"dataframe\">\n",
              "  <thead>\n",
              "    <tr style=\"text-align: right;\">\n",
              "      <th></th>\n",
              "      <th>review_id</th>\n",
              "      <th>user_id</th>\n",
              "      <th>business_id</th>\n",
              "      <th>stars</th>\n",
              "      <th>useful</th>\n",
              "      <th>funny</th>\n",
              "      <th>cool</th>\n",
              "      <th>text</th>\n",
              "      <th>date</th>\n",
              "    </tr>\n",
              "  </thead>\n",
              "  <tbody>\n",
              "    <tr>\n",
              "      <th>0</th>\n",
              "      <td>Q1sbwvVQXV2734tPgoKj4Q</td>\n",
              "      <td>hG7b0MtEbXx5QzbzE6C_VA</td>\n",
              "      <td>ujmEBvifdJM6h6RLv4wQIg</td>\n",
              "      <td>1.0</td>\n",
              "      <td>6</td>\n",
              "      <td>1</td>\n",
              "      <td>0</td>\n",
              "      <td>Total bill for this horrible service? Over $8G...</td>\n",
              "      <td>2013-05-07 04:34:36</td>\n",
              "    </tr>\n",
              "    <tr>\n",
              "      <th>1</th>\n",
              "      <td>GJXCdrto3ASJOqKeVWPi6Q</td>\n",
              "      <td>yXQM5uF2jS6es16SJzNHfg</td>\n",
              "      <td>NZnhc2sEQy3RmzKTZnqtwQ</td>\n",
              "      <td>5.0</td>\n",
              "      <td>0</td>\n",
              "      <td>0</td>\n",
              "      <td>0</td>\n",
              "      <td>I *adore* Travis at the Hard Rock's new Kelly ...</td>\n",
              "      <td>2017-01-14 21:30:33</td>\n",
              "    </tr>\n",
              "    <tr>\n",
              "      <th>2</th>\n",
              "      <td>2TzJjDVDEuAW6MR5Vuc1ug</td>\n",
              "      <td>n6-Gk65cPZL6Uz8qRm3NYw</td>\n",
              "      <td>WTqjgwHlXbSFevF32_DJVw</td>\n",
              "      <td>5.0</td>\n",
              "      <td>3</td>\n",
              "      <td>0</td>\n",
              "      <td>0</td>\n",
              "      <td>I have to say that this office really has it t...</td>\n",
              "      <td>2016-11-09 20:09:03</td>\n",
              "    </tr>\n",
              "  </tbody>\n",
              "</table>\n",
              "</div>"
            ],
            "text/plain": [
              "                review_id  ...                 date\n",
              "0  Q1sbwvVQXV2734tPgoKj4Q  ...  2013-05-07 04:34:36\n",
              "1  GJXCdrto3ASJOqKeVWPi6Q  ...  2017-01-14 21:30:33\n",
              "2  2TzJjDVDEuAW6MR5Vuc1ug  ...  2016-11-09 20:09:03\n",
              "\n",
              "[3 rows x 9 columns]"
            ]
          },
          "metadata": {
            "tags": []
          }
        },
        {
          "output_type": "execute_result",
          "data": {
            "text/plain": [
              "(6685900, 9)"
            ]
          },
          "metadata": {
            "tags": []
          },
          "execution_count": 4
        }
      ]
    },
    {
      "cell_type": "code",
      "metadata": {
        "id": "p4ZmkBI_VqPG",
        "colab_type": "code",
        "colab": {
          "base_uri": "https://localhost:8080/",
          "height": 52
        },
        "outputId": "2b0697af-acf5-4629-ae9a-e31dcacf3bc2"
      },
      "source": [
        "%time df.to_csv('/content/drive/My Drive/colab/yelp_nlp/reviews.csv', index=False, encoding='UTF-8')"
      ],
      "execution_count": 5,
      "outputs": [
        {
          "output_type": "stream",
          "text": [
            "CPU times: user 1min 45s, sys: 3.81 s, total: 1min 49s\n",
            "Wall time: 2min 8s\n"
          ],
          "name": "stdout"
        }
      ]
    },
    {
      "cell_type": "code",
      "metadata": {
        "id": "6N-hweXCWy7F",
        "colab_type": "code",
        "colab": {
          "base_uri": "https://localhost:8080/",
          "height": 86
        },
        "outputId": "22c7abd0-781c-4d3c-aa0f-b50d1e88d380"
      },
      "source": [
        "%whos"
      ],
      "execution_count": 6,
      "outputs": [
        {
          "output_type": "stream",
          "text": [
            "Variable   Type         Data/Info\n",
            "---------------------------------\n",
            "df         DataFrame                          rev<...>6685900 rows x 9 columns]\n",
            "drive      module       <module 'google.colab.dri<...>s/google/colab/drive.py'>\n"
          ],
          "name": "stdout"
        }
      ]
    },
    {
      "cell_type": "code",
      "metadata": {
        "id": "BhZdfBb3VDST",
        "colab_type": "code",
        "colab": {}
      },
      "source": [
        "df.to_hdf('/content/drive/My Drive/colab/yelp_nlp/reviews.h5', key='df', mode='w')"
      ],
      "execution_count": 0,
      "outputs": []
    },
    {
      "cell_type": "markdown",
      "metadata": {
        "id": "nB6pmZ465PnJ",
        "colab_type": "text"
      },
      "source": [
        "### Joanna Setup Code"
      ]
    },
    {
      "cell_type": "code",
      "metadata": {
        "id": "uxeRqXUTgpxF",
        "colab_type": "code",
        "outputId": "92ce5959-9f0b-47e8-b56d-0dfd75084e14",
        "colab": {
          "base_uri": "https://localhost:8080/",
          "height": 139
        }
      },
      "source": [
        "from google.colab import drive #python code\n",
        "drive.mount('/content/drive') # python code <- follow the resulting directions\n",
        "!ln -s drive/My\\ Drive data # bash command\n",
        "!ls # you should \"see\" drive directory now.\n",
        "hd5_path='data/reviews.h5'\n",
        "#!pip install numpy==1.15.4"
      ],
      "execution_count": 0,
      "outputs": [
        {
          "output_type": "stream",
          "text": [
            "Go to this URL in a browser: https://accounts.google.com/o/oauth2/auth?client_id=947318989803-6bn6qk8qdgf4n4g3pfee6491hc0brc4i.apps.googleusercontent.com&redirect_uri=urn%3Aietf%3Awg%3Aoauth%3A2.0%3Aoob&scope=email%20https%3A%2F%2Fwww.googleapis.com%2Fauth%2Fdocs.test%20https%3A%2F%2Fwww.googleapis.com%2Fauth%2Fdrive%20https%3A%2F%2Fwww.googleapis.com%2Fauth%2Fdrive.photos.readonly%20https%3A%2F%2Fwww.googleapis.com%2Fauth%2Fpeopleapi.readonly&response_type=code\n",
            "\n",
            "Enter your authorization code:\n",
            "··········\n",
            "Mounted at /content/drive\n",
            "data  drive  sample_data\n"
          ],
          "name": "stdout"
        }
      ]
    },
    {
      "cell_type": "code",
      "metadata": {
        "id": "_VR4DsevLBxk",
        "colab_type": "code",
        "outputId": "7e2bc8ec-3e5f-4fe8-8ff0-f56ab1054874",
        "colab": {
          "base_uri": "https://localhost:8080/",
          "height": 34
        }
      },
      "source": [
        "from google.colab import drive\n",
        "drive.mount('/content/drive')"
      ],
      "execution_count": 0,
      "outputs": [
        {
          "output_type": "stream",
          "text": [
            "Drive already mounted at /content/drive; to attempt to forcibly remount, call drive.mount(\"/content/drive\", force_remount=True).\n"
          ],
          "name": "stdout"
        }
      ]
    },
    {
      "cell_type": "markdown",
      "metadata": {
        "id": "MEBdJahR5hgq",
        "colab_type": "text"
      },
      "source": [
        "## Regression: Number of Stars"
      ]
    },
    {
      "cell_type": "code",
      "metadata": {
        "id": "GQ-iWw09bA74",
        "colab_type": "code",
        "colab": {
          "base_uri": "https://localhost:8080/",
          "height": 72
        },
        "outputId": "9b2a0c7e-4f74-4673-86c6-6f07b048fa0f"
      },
      "source": [
        "%%time\n",
        "import pandas as pd\n",
        "df = pd.read_csv('/content/drive/My Drive/colab/yelp_nlp/reviews.csv')\n",
        "del pd"
      ],
      "execution_count": 3,
      "outputs": [
        {
          "output_type": "stream",
          "text": [
            "/usr/local/lib/python3.6/dist-packages/IPython/core/interactiveshell.py:2718: DtypeWarning: Columns (0) have mixed types. Specify dtype option on import or set low_memory=False.\n",
            "  interactivity=interactivity, compiler=compiler, result=result)\n"
          ],
          "name": "stderr"
        }
      ]
    },
    {
      "cell_type": "code",
      "metadata": {
        "id": "cFXh0e-DbnCp",
        "colab_type": "code",
        "colab": {
          "base_uri": "https://localhost:8080/",
          "height": 35
        },
        "outputId": "5f82b7d6-b456-456d-b001-7ccc78c0d213"
      },
      "source": [
        "df.shape"
      ],
      "execution_count": 4,
      "outputs": [
        {
          "output_type": "execute_result",
          "data": {
            "text/plain": [
              "(6685902, 10)"
            ]
          },
          "metadata": {
            "tags": []
          },
          "execution_count": 4
        }
      ]
    },
    {
      "cell_type": "code",
      "metadata": {
        "id": "zcu9Yzlpmi8B",
        "colab_type": "code",
        "outputId": "a4fcc3d4-da57-426c-8edc-e00f90075967",
        "colab": {
          "base_uri": "https://localhost:8080/",
          "height": 999
        }
      },
      "source": [
        "import pandas as pd\n",
        "from keras.preprocessing.text import Tokenizer\n",
        "from keras.preprocessing.sequence import pad_sequences\n",
        "from sklearn.model_selection import train_test_split\n",
        "\n",
        "# APPROACH # 1\n",
        "# inspired by https://towardsdatascience.com/machine-learning-word-embedding-sentiment-classification-using-keras-b83c28087456\n",
        "tokenizer = Tokenizer()\n",
        "tokenizer.fit_on_text(df['text'].values)\n",
        "max_length = max([len(\n",
        "\n",
        "# df = pd.read_hdf(hd5_path)\n",
        "display(df.head(3))\n",
        "display(df.describe())\n",
        "display(df.info())\n",
        "\n",
        "tokenizer = Tokenizer(num_words=MAX_FEAUTRES, split=' ')\n",
        "tokenizer.fit_on_texts(df['text'].values)\n",
        "vocab_size = len(tokenizer.word_index) + 1\n",
        "\n",
        "X = tokenizer.texts_to_sequences(df['text'].values)\n",
        "X = pad_sequences(X)\n",
        "\n",
        "# Normalize Y to be between 0 and 1\n",
        "Y = df.stars / max(df.stars)\n",
        "\n",
        "X_train, X_test, Y_train, Y_test = train_test_split(X,Y, test_size = 0.33, random_state = 42)\n",
        "print(X_train.shape,Y_train.shape)\n",
        "print(X_test.shape,Y_test.shape)\n",
        "\n",
        "###\n",
        "\n",
        "del pd, Tokenizer, pad_sequences, tokenizer, train_test_split, df\n",
        "%who"
      ],
      "execution_count": 0,
      "outputs": [
        {
          "output_type": "display_data",
          "data": {
            "text/html": [
              "<div>\n",
              "<style scoped>\n",
              "    .dataframe tbody tr th:only-of-type {\n",
              "        vertical-align: middle;\n",
              "    }\n",
              "\n",
              "    .dataframe tbody tr th {\n",
              "        vertical-align: top;\n",
              "    }\n",
              "\n",
              "    .dataframe thead th {\n",
              "        text-align: right;\n",
              "    }\n",
              "</style>\n",
              "<table border=\"1\" class=\"dataframe\">\n",
              "  <thead>\n",
              "    <tr style=\"text-align: right;\">\n",
              "      <th></th>\n",
              "      <th>review_id</th>\n",
              "      <th>user_id</th>\n",
              "      <th>business_id</th>\n",
              "      <th>stars</th>\n",
              "      <th>useful</th>\n",
              "      <th>funny</th>\n",
              "      <th>cool</th>\n",
              "      <th>text</th>\n",
              "      <th>date</th>\n",
              "    </tr>\n",
              "  </thead>\n",
              "  <tbody>\n",
              "    <tr>\n",
              "      <th>0</th>\n",
              "      <td>Q1sbwvVQXV2734tPgoKj4Q</td>\n",
              "      <td>hG7b0MtEbXx5QzbzE6C_VA</td>\n",
              "      <td>ujmEBvifdJM6h6RLv4wQIg</td>\n",
              "      <td>1.0</td>\n",
              "      <td>6</td>\n",
              "      <td>1</td>\n",
              "      <td>0</td>\n",
              "      <td>Total bill for this horrible service? Over $8G...</td>\n",
              "      <td>2013-05-07 04:34:36</td>\n",
              "    </tr>\n",
              "    <tr>\n",
              "      <th>1</th>\n",
              "      <td>GJXCdrto3ASJOqKeVWPi6Q</td>\n",
              "      <td>yXQM5uF2jS6es16SJzNHfg</td>\n",
              "      <td>NZnhc2sEQy3RmzKTZnqtwQ</td>\n",
              "      <td>5.0</td>\n",
              "      <td>0</td>\n",
              "      <td>0</td>\n",
              "      <td>0</td>\n",
              "      <td>I *adore* Travis at the Hard Rock's new Kelly ...</td>\n",
              "      <td>2017-01-14 21:30:33</td>\n",
              "    </tr>\n",
              "    <tr>\n",
              "      <th>2</th>\n",
              "      <td>2TzJjDVDEuAW6MR5Vuc1ug</td>\n",
              "      <td>n6-Gk65cPZL6Uz8qRm3NYw</td>\n",
              "      <td>WTqjgwHlXbSFevF32_DJVw</td>\n",
              "      <td>5.0</td>\n",
              "      <td>3</td>\n",
              "      <td>0</td>\n",
              "      <td>0</td>\n",
              "      <td>I have to say that this office really has it t...</td>\n",
              "      <td>2016-11-09 20:09:03</td>\n",
              "    </tr>\n",
              "  </tbody>\n",
              "</table>\n",
              "</div>"
            ],
            "text/plain": [
              "                review_id  ...                 date\n",
              "0  Q1sbwvVQXV2734tPgoKj4Q  ...  2013-05-07 04:34:36\n",
              "1  GJXCdrto3ASJOqKeVWPi6Q  ...  2017-01-14 21:30:33\n",
              "2  2TzJjDVDEuAW6MR5Vuc1ug  ...  2016-11-09 20:09:03\n",
              "\n",
              "[3 rows x 9 columns]"
            ]
          },
          "metadata": {
            "tags": []
          }
        },
        {
          "output_type": "display_data",
          "data": {
            "text/html": [
              "<div>\n",
              "<style scoped>\n",
              "    .dataframe tbody tr th:only-of-type {\n",
              "        vertical-align: middle;\n",
              "    }\n",
              "\n",
              "    .dataframe tbody tr th {\n",
              "        vertical-align: top;\n",
              "    }\n",
              "\n",
              "    .dataframe thead th {\n",
              "        text-align: right;\n",
              "    }\n",
              "</style>\n",
              "<table border=\"1\" class=\"dataframe\">\n",
              "  <thead>\n",
              "    <tr style=\"text-align: right;\">\n",
              "      <th></th>\n",
              "      <th>stars</th>\n",
              "      <th>useful</th>\n",
              "      <th>funny</th>\n",
              "      <th>cool</th>\n",
              "    </tr>\n",
              "  </thead>\n",
              "  <tbody>\n",
              "    <tr>\n",
              "      <th>count</th>\n",
              "      <td>6.685900e+06</td>\n",
              "      <td>6.685900e+06</td>\n",
              "      <td>6.685900e+06</td>\n",
              "      <td>6.685900e+06</td>\n",
              "    </tr>\n",
              "    <tr>\n",
              "      <th>mean</th>\n",
              "      <td>3.716199e+00</td>\n",
              "      <td>1.354134e+00</td>\n",
              "      <td>4.827667e-01</td>\n",
              "      <td>5.787708e-01</td>\n",
              "    </tr>\n",
              "    <tr>\n",
              "      <th>std</th>\n",
              "      <td>1.463643e+00</td>\n",
              "      <td>3.700192e+00</td>\n",
              "      <td>2.378646e+00</td>\n",
              "      <td>2.359024e+00</td>\n",
              "    </tr>\n",
              "    <tr>\n",
              "      <th>min</th>\n",
              "      <td>1.000000e+00</td>\n",
              "      <td>-1.000000e+00</td>\n",
              "      <td>0.000000e+00</td>\n",
              "      <td>-1.000000e+00</td>\n",
              "    </tr>\n",
              "    <tr>\n",
              "      <th>25%</th>\n",
              "      <td>3.000000e+00</td>\n",
              "      <td>0.000000e+00</td>\n",
              "      <td>0.000000e+00</td>\n",
              "      <td>0.000000e+00</td>\n",
              "    </tr>\n",
              "    <tr>\n",
              "      <th>50%</th>\n",
              "      <td>4.000000e+00</td>\n",
              "      <td>0.000000e+00</td>\n",
              "      <td>0.000000e+00</td>\n",
              "      <td>0.000000e+00</td>\n",
              "    </tr>\n",
              "    <tr>\n",
              "      <th>75%</th>\n",
              "      <td>5.000000e+00</td>\n",
              "      <td>2.000000e+00</td>\n",
              "      <td>0.000000e+00</td>\n",
              "      <td>1.000000e+00</td>\n",
              "    </tr>\n",
              "    <tr>\n",
              "      <th>max</th>\n",
              "      <td>5.000000e+00</td>\n",
              "      <td>1.241000e+03</td>\n",
              "      <td>1.290000e+03</td>\n",
              "      <td>5.060000e+02</td>\n",
              "    </tr>\n",
              "  </tbody>\n",
              "</table>\n",
              "</div>"
            ],
            "text/plain": [
              "              stars        useful         funny          cool\n",
              "count  6.685900e+06  6.685900e+06  6.685900e+06  6.685900e+06\n",
              "mean   3.716199e+00  1.354134e+00  4.827667e-01  5.787708e-01\n",
              "std    1.463643e+00  3.700192e+00  2.378646e+00  2.359024e+00\n",
              "min    1.000000e+00 -1.000000e+00  0.000000e+00 -1.000000e+00\n",
              "25%    3.000000e+00  0.000000e+00  0.000000e+00  0.000000e+00\n",
              "50%    4.000000e+00  0.000000e+00  0.000000e+00  0.000000e+00\n",
              "75%    5.000000e+00  2.000000e+00  0.000000e+00  1.000000e+00\n",
              "max    5.000000e+00  1.241000e+03  1.290000e+03  5.060000e+02"
            ]
          },
          "metadata": {
            "tags": []
          }
        },
        {
          "output_type": "stream",
          "text": [
            "<class 'pandas.core.frame.DataFrame'>\n",
            "RangeIndex: 6685900 entries, 0 to 6685899\n",
            "Data columns (total 9 columns):\n",
            "review_id      object\n",
            "user_id        object\n",
            "business_id    object\n",
            "stars          float64\n",
            "useful         int64\n",
            "funny          int64\n",
            "cool           int64\n",
            "text           object\n",
            "date           object\n",
            "dtypes: float64(1), int64(3), object(5)\n",
            "memory usage: 459.1+ MB\n"
          ],
          "name": "stdout"
        },
        {
          "output_type": "display_data",
          "data": {
            "text/plain": [
              "None"
            ]
          },
          "metadata": {
            "tags": []
          }
        }
      ]
    },
    {
      "cell_type": "code",
      "metadata": {
        "id": "Yz-gTcdOmqm_",
        "colab_type": "code",
        "outputId": "6397910c-9a4d-40e0-e150-df412d71dd7d",
        "colab": {
          "base_uri": "https://localhost:8080/",
          "height": 294
        }
      },
      "source": [
        "from keras.models import Sequential\n",
        "from keras.layers import Dense, Embedding, LSTM, SpatialDropout1D\n",
        "\n",
        "embed_dim = 128\n",
        "lstm_out = 196\n",
        "\n",
        "model = Sequential()\n",
        "model.add(Embedding(max_features, embed_dim, input_length = X.shape[1]))\n",
        "model.add(SpatialDropout1D(0.4))\n",
        "model.add(LSTM(lstm_out, dropout=0.2, recurrent_dropout=0.2))\n",
        "model.add(Dense(1,activation='linear'))\n",
        "\n",
        "model.compile(optimizer='adam', loss='mean_squared_error',  metrics=['mae','accuracy'])\n",
        "print(model.summary())"
      ],
      "execution_count": 12,
      "outputs": [
        {
          "output_type": "stream",
          "text": [
            "_________________________________________________________________\n",
            "Layer (type)                 Output Shape              Param #   \n",
            "=================================================================\n",
            "embedding_2 (Embedding)      (None, 510, 128)          12800     \n",
            "_________________________________________________________________\n",
            "spatial_dropout1d_2 (Spatial (None, 510, 128)          0         \n",
            "_________________________________________________________________\n",
            "lstm_2 (LSTM)                (None, 196)               254800    \n",
            "_________________________________________________________________\n",
            "dense_2 (Dense)              (None, 1)                 197       \n",
            "=================================================================\n",
            "Total params: 267,797\n",
            "Trainable params: 267,797\n",
            "Non-trainable params: 0\n",
            "_________________________________________________________________\n",
            "None\n"
          ],
          "name": "stdout"
        }
      ]
    },
    {
      "cell_type": "code",
      "metadata": {
        "id": "c88Rto5fPt8X",
        "colab_type": "code",
        "colab": {
          "base_uri": "https://localhost:8080/",
          "height": 363
        },
        "outputId": "0e84bbf4-b56f-4333-f5d9-7a00492b7149"
      },
      "source": [
        "!nproc\n",
        "!free -g\n",
        "!nvidia-smi"
      ],
      "execution_count": 17,
      "outputs": [
        {
          "output_type": "stream",
          "text": [
            "2\n",
            "              total        used        free      shared  buff/cache   available\n",
            "Mem:             12           1           8           0           2          11\n",
            "Swap:             0           0           0\n",
            "Sun Aug  4 01:42:14 2019       \n",
            "+-----------------------------------------------------------------------------+\n",
            "| NVIDIA-SMI 418.67       Driver Version: 410.79       CUDA Version: 10.0     |\n",
            "|-------------------------------+----------------------+----------------------+\n",
            "| GPU  Name        Persistence-M| Bus-Id        Disp.A | Volatile Uncorr. ECC |\n",
            "| Fan  Temp  Perf  Pwr:Usage/Cap|         Memory-Usage | GPU-Util  Compute M. |\n",
            "|===============================+======================+======================|\n",
            "|   0  Tesla T4            Off  | 00000000:00:04.0 Off |                    0 |\n",
            "| N/A   76C    P0    29W /  70W |    803MiB / 15079MiB |      0%      Default |\n",
            "+-------------------------------+----------------------+----------------------+\n",
            "                                                                               \n",
            "+-----------------------------------------------------------------------------+\n",
            "| Processes:                                                       GPU Memory |\n",
            "|  GPU       PID   Type   Process name                             Usage      |\n",
            "|=============================================================================|\n",
            "+-----------------------------------------------------------------------------+\n"
          ],
          "name": "stdout"
        }
      ]
    },
    {
      "cell_type": "code",
      "metadata": {
        "id": "7gC2Vwgstfan",
        "colab_type": "code",
        "outputId": "b6e28266-6acb-42d8-880a-a6e3f8406c0f",
        "colab": {
          "base_uri": "https://localhost:8080/",
          "height": 1000
        }
      },
      "source": [
        "batch_size = 32\n",
        "epochs = 40\n",
        "history = model.fit(X_train, Y_train, epochs = epochs, batch_size=batch_size, verbose = 2)"
      ],
      "execution_count": 16,
      "outputs": [
        {
          "output_type": "stream",
          "text": [
            "Epoch 1/40\n",
            " - 18s - loss: 0.0823 - mean_absolute_error: 0.2391 - acc: 0.4119\n",
            "Epoch 2/40\n",
            " - 19s - loss: 0.0716 - mean_absolute_error: 0.2223 - acc: 0.4119\n",
            "Epoch 3/40\n",
            " - 18s - loss: 0.0661 - mean_absolute_error: 0.2115 - acc: 0.4119\n",
            "Epoch 4/40\n",
            " - 18s - loss: 0.0587 - mean_absolute_error: 0.1973 - acc: 0.4090\n",
            "Epoch 5/40\n",
            " - 18s - loss: 0.0590 - mean_absolute_error: 0.1966 - acc: 0.4090\n",
            "Epoch 6/40\n",
            " - 18s - loss: 0.0556 - mean_absolute_error: 0.1915 - acc: 0.4075\n",
            "Epoch 7/40\n",
            " - 18s - loss: 0.0557 - mean_absolute_error: 0.1912 - acc: 0.4060\n",
            "Epoch 8/40\n",
            " - 18s - loss: 0.0541 - mean_absolute_error: 0.1870 - acc: 0.4090\n",
            "Epoch 9/40\n",
            " - 18s - loss: 0.0505 - mean_absolute_error: 0.1796 - acc: 0.4104\n",
            "Epoch 10/40\n",
            " - 18s - loss: 0.0512 - mean_absolute_error: 0.1783 - acc: 0.4045\n",
            "Epoch 11/40\n",
            " - 18s - loss: 0.0499 - mean_absolute_error: 0.1791 - acc: 0.4090\n",
            "Epoch 12/40\n",
            " - 18s - loss: 0.0501 - mean_absolute_error: 0.1784 - acc: 0.4090\n",
            "Epoch 13/40\n",
            " - 18s - loss: 0.0461 - mean_absolute_error: 0.1725 - acc: 0.4075\n",
            "Epoch 14/40\n",
            " - 18s - loss: 0.0475 - mean_absolute_error: 0.1752 - acc: 0.4090\n",
            "Epoch 15/40\n",
            " - 18s - loss: 0.0470 - mean_absolute_error: 0.1721 - acc: 0.4104\n",
            "Epoch 16/40\n",
            " - 18s - loss: 0.0481 - mean_absolute_error: 0.1741 - acc: 0.4090\n",
            "Epoch 17/40\n",
            " - 18s - loss: 0.0498 - mean_absolute_error: 0.1785 - acc: 0.4060\n",
            "Epoch 18/40\n",
            " - 18s - loss: 0.0460 - mean_absolute_error: 0.1711 - acc: 0.4090\n",
            "Epoch 19/40\n",
            " - 18s - loss: 0.0449 - mean_absolute_error: 0.1701 - acc: 0.4090\n",
            "Epoch 20/40\n",
            " - 18s - loss: 0.0446 - mean_absolute_error: 0.1691 - acc: 0.4104\n",
            "Epoch 21/40\n",
            " - 18s - loss: 0.0426 - mean_absolute_error: 0.1630 - acc: 0.4104\n",
            "Epoch 22/40\n",
            " - 18s - loss: 0.0437 - mean_absolute_error: 0.1664 - acc: 0.4090\n",
            "Epoch 23/40\n",
            " - 17s - loss: 0.0427 - mean_absolute_error: 0.1633 - acc: 0.4104\n",
            "Epoch 24/40\n",
            " - 18s - loss: 0.0426 - mean_absolute_error: 0.1635 - acc: 0.4104\n",
            "Epoch 25/40\n",
            " - 17s - loss: 0.0417 - mean_absolute_error: 0.1618 - acc: 0.4075\n",
            "Epoch 26/40\n",
            " - 17s - loss: 0.0413 - mean_absolute_error: 0.1606 - acc: 0.4104\n",
            "Epoch 27/40\n",
            " - 17s - loss: 0.0398 - mean_absolute_error: 0.1591 - acc: 0.4104\n",
            "Epoch 28/40\n",
            " - 17s - loss: 0.0388 - mean_absolute_error: 0.1553 - acc: 0.4104\n",
            "Epoch 29/40\n",
            " - 17s - loss: 0.0404 - mean_absolute_error: 0.1604 - acc: 0.4104\n",
            "Epoch 30/40\n",
            " - 17s - loss: 0.0387 - mean_absolute_error: 0.1546 - acc: 0.4104\n",
            "Epoch 31/40\n",
            " - 17s - loss: 0.0372 - mean_absolute_error: 0.1544 - acc: 0.4090\n",
            "Epoch 32/40\n",
            " - 17s - loss: 0.0384 - mean_absolute_error: 0.1544 - acc: 0.4104\n",
            "Epoch 33/40\n",
            " - 18s - loss: 0.0377 - mean_absolute_error: 0.1520 - acc: 0.4090\n",
            "Epoch 34/40\n",
            " - 17s - loss: 0.0385 - mean_absolute_error: 0.1569 - acc: 0.4090\n",
            "Epoch 35/40\n",
            " - 17s - loss: 0.0344 - mean_absolute_error: 0.1457 - acc: 0.4104\n",
            "Epoch 36/40\n",
            " - 17s - loss: 0.0397 - mean_absolute_error: 0.1597 - acc: 0.4075\n",
            "Epoch 37/40\n",
            " - 18s - loss: 0.0350 - mean_absolute_error: 0.1498 - acc: 0.4119\n",
            "Epoch 38/40\n",
            " - 18s - loss: 0.0340 - mean_absolute_error: 0.1479 - acc: 0.4119\n",
            "Epoch 39/40\n",
            " - 17s - loss: 0.0342 - mean_absolute_error: 0.1480 - acc: 0.4090\n",
            "Epoch 40/40\n",
            " - 17s - loss: 0.0330 - mean_absolute_error: 0.1418 - acc: 0.4090\n"
          ],
          "name": "stdout"
        }
      ]
    },
    {
      "cell_type": "code",
      "metadata": {
        "id": "jrydM4PBtj8G",
        "colab_type": "code",
        "colab": {}
      },
      "source": [
        "loss, mae, acc = model.evaluate(X_test, Y_test, verbose = 2, batch_size = batch_size)"
      ],
      "execution_count": 0,
      "outputs": []
    },
    {
      "cell_type": "code",
      "metadata": {
        "id": "KaiYU61jw0zj",
        "colab_type": "code",
        "outputId": "60f62f62-4445-415a-b112-382872d1a642",
        "colab": {
          "base_uri": "https://localhost:8080/",
          "height": 69
        }
      },
      "source": [
        "print(loss) #mse\n",
        "print(mae)\n",
        "print(acc)"
      ],
      "execution_count": 0,
      "outputs": [
        {
          "output_type": "stream",
          "text": [
            "0.07139029947645736\n",
            "0.21283352095069308\n",
            "0.3999999963875973\n"
          ],
          "name": "stdout"
        }
      ]
    },
    {
      "cell_type": "code",
      "metadata": {
        "id": "IhlxZi_StscF",
        "colab_type": "code",
        "colab": {}
      },
      "source": [
        "y_pred= model.predict(X_test)"
      ],
      "execution_count": 0,
      "outputs": []
    },
    {
      "cell_type": "code",
      "metadata": {
        "id": "fTmU_8kStwHt",
        "colab_type": "code",
        "outputId": "9844ac47-72b9-4519-c75c-df62630ddce7",
        "colab": {
          "base_uri": "https://localhost:8080/",
          "height": 104
        }
      },
      "source": [
        "y_pred[0:5]"
      ],
      "execution_count": 0,
      "outputs": [
        {
          "output_type": "execute_result",
          "data": {
            "text/plain": [
              "array([[0.5443308],\n",
              "       [0.7830462],\n",
              "       [0.8388883],\n",
              "       [0.7754902],\n",
              "       [0.8813996]], dtype=float32)"
            ]
          },
          "metadata": {
            "tags": []
          },
          "execution_count": 15
        }
      ]
    },
    {
      "cell_type": "code",
      "metadata": {
        "id": "fzJ1euyzxUtZ",
        "colab_type": "code",
        "outputId": "37e94f00-7c7b-4900-f334-316c895dceec",
        "colab": {
          "base_uri": "https://localhost:8080/",
          "height": 121
        }
      },
      "source": [
        "Y_test[0:5]"
      ],
      "execution_count": 0,
      "outputs": [
        {
          "output_type": "execute_result",
          "data": {
            "text/plain": [
              "521    0.6\n",
              "737    1.0\n",
              "740    1.0\n",
              "660    0.6\n",
              "411    1.0\n",
              "Name: stars, dtype: float64"
            ]
          },
          "metadata": {
            "tags": []
          },
          "execution_count": 14
        }
      ]
    },
    {
      "cell_type": "code",
      "metadata": {
        "id": "3IreN0qJ6LfO",
        "colab_type": "code",
        "outputId": "89b4cd6f-2b59-4823-cb03-7906e127b3cb",
        "colab": {
          "base_uri": "https://localhost:8080/",
          "height": 284
        }
      },
      "source": [
        "import matplotlib.pyplot as plt\n",
        "fig, ax = plt.subplots()\n",
        "ax.scatter(Y_test, y_pred)\n",
        "ax.plot([Y_test.min(), Y_test.max()], [Y_test.min(), Y_test.max()], 'k--', lw=4)\n",
        "ax.set_xlabel('Measured')\n",
        "ax.set_ylabel('Predicted')\n",
        "plt.show()"
      ],
      "execution_count": 0,
      "outputs": [
        {
          "output_type": "display_data",
          "data": {
            "image/png": "[encoded data removed]",
            "text/plain": [
              "<Figure size 432x288 with 1 Axes>"
            ]
          },
          "metadata": {
            "tags": []
          }
        }
      ]
    }
  ]
}