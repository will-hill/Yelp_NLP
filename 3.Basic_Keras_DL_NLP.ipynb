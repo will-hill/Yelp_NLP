{
  "nbformat": 4,
  "nbformat_minor": 0,
  "metadata": {
    "colab": {
      "name": "Final Project.ipynb",
      "version": "0.3.2",
      "provenance": [],
      "collapsed_sections": [],
      "toc_visible": true,
      "include_colab_link": true
    },
    "kernelspec": {
      "name": "python3",
      "display_name": "Python 3"
    },
    "accelerator": "GPU"
  },
  "cells": [
    {
      "cell_type": "markdown",
      "metadata": {
        "id": "view-in-github",
        "colab_type": "text"
      },
      "source": [
        "<a href=\"https://colab.research.google.com/github/will-hill/Yelp_NLP/blob/master/3.Basic_Keras_DL_NLP.ipynb\" target=\"_parent\"><img src=\"https://colab.research.google.com/assets/colab-badge.svg\" alt=\"Open In Colab\"/></a>"
      ]
    },
    {
      "cell_type": "markdown",
      "metadata": {
        "id": "69lloxhH4GbP",
        "colab_type": "text"
      },
      "source": [
        "# Basic Keras Deep Learning NLP\n",
        "inspired from \n",
        "* https://www.kaggle.com/ngyptr/lstm-sentiment-analysis-keras\n",
        "* https://medium.com/datadriveninvestor/building-neural-network-using-keras-for-regression-ceee5a9eadff\n"
      ]
    },
    {
      "cell_type": "markdown",
      "metadata": {
        "id": "klkILKLwM8Yp",
        "colab_type": "text"
      },
      "source": [
        "### Will Setup Code\n",
        "I created a couple subdirectories in my Google Drive"
      ]
    },
    {
      "cell_type": "code",
      "metadata": {
        "id": "Ar6urKZwM7mo",
        "colab_type": "code",
        "colab": {
          "base_uri": "https://localhost:8080/",
          "height": 34
        },
        "outputId": "6b57f51d-610d-4d62-e098-e0235a70ec43"
      },
      "source": [
        "from google.colab import drive\n",
        "drive.mount('/content/drive')"
      ],
      "execution_count": 7,
      "outputs": [
        {
          "output_type": "stream",
          "text": [
            "Drive already mounted at /content/drive; to attempt to forcibly remount, call drive.mount(\"/content/drive\", force_remount=True).\n"
          ],
          "name": "stdout"
        }
      ]
    },
    {
      "cell_type": "code",
      "metadata": {
        "id": "NNalFkZaOQgc",
        "colab_type": "code",
        "colab": {
          "base_uri": "https://localhost:8080/",
          "height": 34
        },
        "outputId": "ccc3cf1b-1621-4239-85f2-b2eedb2ddc09"
      },
      "source": [
        "!ls -l /content/data/colab/yelp_nlp/review.json"
      ],
      "execution_count": 12,
      "outputs": [
        {
          "output_type": "stream",
          "text": [
            "-rw------- 1 root root 5347475638 Aug  4 01:21 /content/data/colab/yelp_nlp/review.json\n"
          ],
          "name": "stdout"
        }
      ]
    },
    {
      "cell_type": "code",
      "metadata": {
        "id": "9esZJkDhOCuR",
        "colab_type": "code",
        "colab": {
          "base_uri": "https://localhost:8080/",
          "height": 51
        },
        "outputId": "48f4f155-7dcd-48b7-d09e-510ac7526a1f"
      },
      "source": [
        "REVIEWS_TO_INGEST = 1000\n",
        "data_list = list()\n",
        "columns = ['review_id', 'user_id', 'business_id', 'stars', 'useful', 'funny', 'cool', 'text', 'date']\n",
        "\n",
        "# inspired by https://thedatafrog.com/text-mining-pandas-yelp/\n",
        "with open('/content/data/colab/yelp_nlp/review.json') as reviews:\n",
        "    import json\n",
        "    for i, line in enumerate(reviews):\n",
        "\n",
        "        if i == REVIEWS_TO_INGEST:\n",
        "            break\n",
        "\n",
        "            # convert json line to di t\n",
        "        data = json.loads(line)\n",
        "        data_list.append([data['review_id'],\n",
        "                          data['user_id'],\n",
        "                          data['business_id'],\n",
        "                          data['stars'],\n",
        "                          data['useful'],\n",
        "                          data['funny'],\n",
        "                          data['cool'],\n",
        "                          data['text'],\n",
        "                          data['date']])\n",
        "\n",
        "reviews.close()\n",
        "del reviews, i, line, data, REVIEWS_TO_INGEST, json\n",
        "###\n",
        "import pandas\n",
        "df = pandas.DataFrame(data_list, columns=columns)\n",
        "del data_list, columns, pandas\n",
        "\n",
        "%who"
      ],
      "execution_count": 14,
      "outputs": [
        {
          "output_type": "stream",
          "text": [
            "Tokenizer\t df\t drive\t hd5_path\t keras\t pad_sequences\t pd\t student\t train_test_split\t \n",
            "\n"
          ],
          "name": "stdout"
        }
      ]
    },
    {
      "cell_type": "markdown",
      "metadata": {
        "id": "nB6pmZ465PnJ",
        "colab_type": "text"
      },
      "source": [
        "### Joanna Setup Code"
      ]
    },
    {
      "cell_type": "code",
      "metadata": {
        "id": "uxeRqXUTgpxF",
        "colab_type": "code",
        "outputId": "92ce5959-9f0b-47e8-b56d-0dfd75084e14",
        "colab": {
          "base_uri": "https://localhost:8080/",
          "height": 139
        }
      },
      "source": [
        "from google.colab import drive #python code\n",
        "drive.mount('/content/drive') # python code <- follow the resulting directions\n",
        "!ln -s drive/My\\ Drive data # bash command\n",
        "!ls # you should \"see\" drive directory now.\n",
        "hd5_path='data/reviews.h5'\n",
        "#!pip install numpy==1.15.4"
      ],
      "execution_count": 2,
      "outputs": [
        {
          "output_type": "stream",
          "text": [
            "Go to this URL in a browser: https://accounts.google.com/o/oauth2/auth?client_id=947318989803-6bn6qk8qdgf4n4g3pfee6491hc0brc4i.apps.googleusercontent.com&redirect_uri=urn%3Aietf%3Awg%3Aoauth%3A2.0%3Aoob&scope=email%20https%3A%2F%2Fwww.googleapis.com%2Fauth%2Fdocs.test%20https%3A%2F%2Fwww.googleapis.com%2Fauth%2Fdrive%20https%3A%2F%2Fwww.googleapis.com%2Fauth%2Fdrive.photos.readonly%20https%3A%2F%2Fwww.googleapis.com%2Fauth%2Fpeopleapi.readonly&response_type=code\n",
            "\n",
            "Enter your authorization code:\n",
            "··········\n",
            "Mounted at /content/drive\n",
            "data  drive  sample_data\n"
          ],
          "name": "stdout"
        }
      ]
    },
    {
      "cell_type": "code",
      "metadata": {
        "id": "_VR4DsevLBxk",
        "colab_type": "code",
        "colab": {
          "base_uri": "https://localhost:8080/",
          "height": 34
        },
        "outputId": "7e2bc8ec-3e5f-4fe8-8ff0-f56ab1054874"
      },
      "source": [
        "from google.colab import drive\n",
        "drive.mount('/content/drive')"
      ],
      "execution_count": 4,
      "outputs": [
        {
          "output_type": "stream",
          "text": [
            "Drive already mounted at /content/drive; to attempt to forcibly remount, call drive.mount(\"/content/drive\", force_remount=True).\n"
          ],
          "name": "stdout"
        }
      ]
    },
    {
      "cell_type": "code",
      "metadata": {
        "id": "G7R8riAPmip5",
        "colab_type": "code",
        "outputId": "8d1c921f-0d57-4f0d-e7c9-2a87d9632033",
        "colab": {
          "base_uri": "https://localhost:8080/",
          "height": 51
        }
      },
      "source": [
        "from sys import platform\n",
        "if platform == \"darwin\":\n",
        "    import plaidml.keras\n",
        "    plaidml.keras.install_backend()\n",
        "else:\n",
        "    import keras\n",
        "del platform\n",
        "%who"
      ],
      "execution_count": 5,
      "outputs": [
        {
          "output_type": "stream",
          "text": [
            "Using TensorFlow backend.\n"
          ],
          "name": "stderr"
        },
        {
          "output_type": "stream",
          "text": [
            "drive\t hd5_path\t keras\t student\t \n"
          ],
          "name": "stdout"
        }
      ]
    },
    {
      "cell_type": "markdown",
      "metadata": {
        "id": "MEBdJahR5hgq",
        "colab_type": "text"
      },
      "source": [
        "## Regression: Number of Stars"
      ]
    },
    {
      "cell_type": "code",
      "metadata": {
        "id": "zcu9Yzlpmi8B",
        "colab_type": "code",
        "outputId": "4386ca1e-b485-419a-a749-7bd495c5ed9e",
        "colab": {
          "base_uri": "https://localhost:8080/",
          "height": 351
        }
      },
      "source": [
        "import pandas as pd\n",
        "from keras.preprocessing.text import Tokenizer\n",
        "from keras.preprocessing.sequence import pad_sequences\n",
        "from sklearn.model_selection import train_test_split\n",
        "\n",
        "\n",
        "df = pd.read_hdf(hd5_path)\n",
        "display(df.head(3))\n",
        "display(df.describe())\n",
        "display(df.info())\n",
        "max_features=100\n",
        "tokenizer = Tokenizer(num_words=max_features, split=' ')\n",
        "tokenizer.fit_on_texts(df['text'].values)\n",
        "X = tokenizer.texts_to_sequences(df['text'].values)\n",
        "X = pad_sequences(X)\n",
        "\n",
        "# Normalize Y to be between 0 and 1\n",
        "Y = df.stars / max(df.stars)\n",
        "\n",
        "X_train, X_test, Y_train, Y_test = train_test_split(X,Y, test_size = 0.33, random_state = 42)\n",
        "print(X_train.shape,Y_train.shape)\n",
        "print(X_test.shape,Y_test.shape)\n",
        "\n",
        "###\n",
        "\n",
        "del pd, Tokenizer, pad_sequences, tokenizer, train_test_split, df\n",
        "%who"
      ],
      "execution_count": 6,
      "outputs": [
        {
          "output_type": "error",
          "ename": "FileNotFoundError",
          "evalue": "ignored",
          "traceback": [
            "\u001b[0;31m---------------------------------------------------------------------------\u001b[0m",
            "\u001b[0;31mFileNotFoundError\u001b[0m                         Traceback (most recent call last)",
            "\u001b[0;32m<ipython-input-6-09a54c2a52c6>\u001b[0m in \u001b[0;36m<module>\u001b[0;34m()\u001b[0m\n\u001b[1;32m      5\u001b[0m \u001b[0;34m\u001b[0m\u001b[0m\n\u001b[1;32m      6\u001b[0m \u001b[0;34m\u001b[0m\u001b[0m\n\u001b[0;32m----> 7\u001b[0;31m \u001b[0mdf\u001b[0m \u001b[0;34m=\u001b[0m \u001b[0mpd\u001b[0m\u001b[0;34m.\u001b[0m\u001b[0mread_hdf\u001b[0m\u001b[0;34m(\u001b[0m\u001b[0mhd5_path\u001b[0m\u001b[0;34m)\u001b[0m\u001b[0;34m\u001b[0m\u001b[0;34m\u001b[0m\u001b[0m\n\u001b[0m\u001b[1;32m      8\u001b[0m \u001b[0mdisplay\u001b[0m\u001b[0;34m(\u001b[0m\u001b[0mdf\u001b[0m\u001b[0;34m.\u001b[0m\u001b[0mhead\u001b[0m\u001b[0;34m(\u001b[0m\u001b[0;36m3\u001b[0m\u001b[0;34m)\u001b[0m\u001b[0;34m)\u001b[0m\u001b[0;34m\u001b[0m\u001b[0;34m\u001b[0m\u001b[0m\n\u001b[1;32m      9\u001b[0m \u001b[0mdisplay\u001b[0m\u001b[0;34m(\u001b[0m\u001b[0mdf\u001b[0m\u001b[0;34m.\u001b[0m\u001b[0mdescribe\u001b[0m\u001b[0;34m(\u001b[0m\u001b[0;34m)\u001b[0m\u001b[0;34m)\u001b[0m\u001b[0;34m\u001b[0m\u001b[0;34m\u001b[0m\u001b[0m\n",
            "\u001b[0;32m/usr/local/lib/python3.6/dist-packages/pandas/io/pytables.py\u001b[0m in \u001b[0;36mread_hdf\u001b[0;34m(path_or_buf, key, mode, **kwargs)\u001b[0m\n\u001b[1;32m    364\u001b[0m         \u001b[0;32mif\u001b[0m \u001b[0;32mnot\u001b[0m \u001b[0mexists\u001b[0m\u001b[0;34m:\u001b[0m\u001b[0;34m\u001b[0m\u001b[0;34m\u001b[0m\u001b[0m\n\u001b[1;32m    365\u001b[0m             raise compat.FileNotFoundError(\n\u001b[0;32m--> 366\u001b[0;31m                 'File {path} does not exist'.format(path=path_or_buf))\n\u001b[0m\u001b[1;32m    367\u001b[0m \u001b[0;34m\u001b[0m\u001b[0m\n\u001b[1;32m    368\u001b[0m         \u001b[0mstore\u001b[0m \u001b[0;34m=\u001b[0m \u001b[0mHDFStore\u001b[0m\u001b[0;34m(\u001b[0m\u001b[0mpath_or_buf\u001b[0m\u001b[0;34m,\u001b[0m \u001b[0mmode\u001b[0m\u001b[0;34m=\u001b[0m\u001b[0mmode\u001b[0m\u001b[0;34m,\u001b[0m \u001b[0;34m**\u001b[0m\u001b[0mkwargs\u001b[0m\u001b[0;34m)\u001b[0m\u001b[0;34m\u001b[0m\u001b[0;34m\u001b[0m\u001b[0m\n",
            "\u001b[0;31mFileNotFoundError\u001b[0m: File data/reviews.h5 does not exist"
          ]
        }
      ]
    },
    {
      "cell_type": "code",
      "metadata": {
        "id": "Yz-gTcdOmqm_",
        "colab_type": "code",
        "outputId": "6dd3cf65-49ff-468c-8ad6-0b2ba6ac650e",
        "colab": {
          "base_uri": "https://localhost:8080/",
          "height": 260
        }
      },
      "source": [
        "from keras.models import Sequential\n",
        "from keras.layers import Dense, Embedding, LSTM, SpatialDropout1D\n",
        "\n",
        "embed_dim = 12#8\n",
        "lstm_out = 19#6\n",
        "\n",
        "model = Sequential()\n",
        "model.add(Embedding(max_features, embed_dim, input_length = X.shape[1]))\n",
        "#model.add(SpatialDropout1D(0.4))\n",
        "model.add(LSTM(lstm_out, dropout=0.2, recurrent_dropout=0.2))\n",
        "model.add(Dense(1,activation='linear'))\n",
        "\n",
        "model.compile(optimizer='adam', loss='mean_squared_error',  metrics=['mae','accuracy'])\n",
        "print(model.summary())"
      ],
      "execution_count": 0,
      "outputs": [
        {
          "output_type": "stream",
          "text": [
            "_________________________________________________________________\n",
            "Layer (type)                 Output Shape              Param #   \n",
            "=================================================================\n",
            "embedding_2 (Embedding)      (None, 510, 12)           1200      \n",
            "_________________________________________________________________\n",
            "lstm_2 (LSTM)                (None, 19)                2432      \n",
            "_________________________________________________________________\n",
            "dense_2 (Dense)              (None, 1)                 20        \n",
            "=================================================================\n",
            "Total params: 3,652\n",
            "Trainable params: 3,652\n",
            "Non-trainable params: 0\n",
            "_________________________________________________________________\n",
            "None\n"
          ],
          "name": "stdout"
        }
      ]
    },
    {
      "cell_type": "code",
      "metadata": {
        "id": "7gC2Vwgstfan",
        "colab_type": "code",
        "outputId": "038300db-8d00-4dc5-8a9c-fc47dc02c721",
        "colab": {
          "base_uri": "https://localhost:8080/",
          "height": 1000
        }
      },
      "source": [
        "batch_size = 128\n",
        "epochs = 40\n",
        "model.fit(X_train, Y_train, epochs = epochs, batch_size=batch_size, verbose = 1)"
      ],
      "execution_count": 0,
      "outputs": [
        {
          "output_type": "stream",
          "text": [
            "Epoch 1/40\n",
            "670/670 [==============================] - 6s 9ms/step - loss: 0.6059 - mean_absolute_error: 0.7213 - acc: 0.0000e+00\n",
            "Epoch 2/40\n",
            "670/670 [==============================] - 5s 7ms/step - loss: 0.5434 - mean_absolute_error: 0.6770 - acc: 0.0000e+00\n",
            "Epoch 3/40\n",
            "670/670 [==============================] - 5s 7ms/step - loss: 0.4672 - mean_absolute_error: 0.6181 - acc: 0.0000e+00\n",
            "Epoch 4/40\n",
            "670/670 [==============================] - 5s 7ms/step - loss: 0.3669 - mean_absolute_error: 0.5346 - acc: 0.0000e+00\n",
            "Epoch 5/40\n",
            "670/670 [==============================] - 5s 7ms/step - loss: 0.2442 - mean_absolute_error: 0.4367 - acc: 0.0015\n",
            "Epoch 6/40\n",
            "670/670 [==============================] - 5s 7ms/step - loss: 0.1213 - mean_absolute_error: 0.3081 - acc: 0.3045\n",
            "Epoch 7/40\n",
            "670/670 [==============================] - 5s 7ms/step - loss: 0.1288 - mean_absolute_error: 0.2788 - acc: 0.4104\n",
            "Epoch 8/40\n",
            "670/670 [==============================] - 5s 7ms/step - loss: 0.0961 - mean_absolute_error: 0.2588 - acc: 0.4104\n",
            "Epoch 9/40\n",
            "670/670 [==============================] - 5s 7ms/step - loss: 0.0973 - mean_absolute_error: 0.2773 - acc: 0.3866\n",
            "Epoch 10/40\n",
            "670/670 [==============================] - 5s 7ms/step - loss: 0.0916 - mean_absolute_error: 0.2667 - acc: 0.3896\n",
            "Epoch 11/40\n",
            "670/670 [==============================] - 5s 7ms/step - loss: 0.0925 - mean_absolute_error: 0.2584 - acc: 0.4045\n",
            "Epoch 12/40\n",
            "670/670 [==============================] - 5s 7ms/step - loss: 0.0888 - mean_absolute_error: 0.2483 - acc: 0.4090\n",
            "Epoch 13/40\n",
            "670/670 [==============================] - 5s 7ms/step - loss: 0.0838 - mean_absolute_error: 0.2389 - acc: 0.4104\n",
            "Epoch 14/40\n",
            "670/670 [==============================] - 5s 7ms/step - loss: 0.0815 - mean_absolute_error: 0.2392 - acc: 0.4090\n",
            "Epoch 15/40\n",
            "670/670 [==============================] - 5s 7ms/step - loss: 0.0815 - mean_absolute_error: 0.2406 - acc: 0.4090\n",
            "Epoch 16/40\n",
            "670/670 [==============================] - 5s 7ms/step - loss: 0.0794 - mean_absolute_error: 0.2375 - acc: 0.4104\n",
            "Epoch 17/40\n",
            "670/670 [==============================] - 5s 7ms/step - loss: 0.0754 - mean_absolute_error: 0.2337 - acc: 0.4119\n",
            "Epoch 18/40\n",
            "670/670 [==============================] - 5s 7ms/step - loss: 0.0766 - mean_absolute_error: 0.2334 - acc: 0.4104\n",
            "Epoch 19/40\n",
            "670/670 [==============================] - 5s 7ms/step - loss: 0.0741 - mean_absolute_error: 0.2272 - acc: 0.4104\n",
            "Epoch 20/40\n",
            "670/670 [==============================] - 5s 7ms/step - loss: 0.0734 - mean_absolute_error: 0.2231 - acc: 0.4119\n",
            "Epoch 21/40\n",
            "670/670 [==============================] - 5s 7ms/step - loss: 0.0715 - mean_absolute_error: 0.2248 - acc: 0.4104\n",
            "Epoch 22/40\n",
            "670/670 [==============================] - 5s 7ms/step - loss: 0.0728 - mean_absolute_error: 0.2239 - acc: 0.4119\n",
            "Epoch 23/40\n",
            "670/670 [==============================] - 5s 7ms/step - loss: 0.0701 - mean_absolute_error: 0.2193 - acc: 0.4104\n",
            "Epoch 24/40\n",
            "670/670 [==============================] - 5s 7ms/step - loss: 0.0707 - mean_absolute_error: 0.2181 - acc: 0.4119\n",
            "Epoch 25/40\n",
            "670/670 [==============================] - 5s 7ms/step - loss: 0.0695 - mean_absolute_error: 0.2146 - acc: 0.4104\n",
            "Epoch 26/40\n",
            "670/670 [==============================] - 5s 7ms/step - loss: 0.0673 - mean_absolute_error: 0.2151 - acc: 0.4104\n",
            "Epoch 27/40\n",
            "670/670 [==============================] - 5s 7ms/step - loss: 0.0695 - mean_absolute_error: 0.2211 - acc: 0.4104\n",
            "Epoch 28/40\n",
            "670/670 [==============================] - 5s 7ms/step - loss: 0.0638 - mean_absolute_error: 0.2105 - acc: 0.4119\n",
            "Epoch 29/40\n",
            "670/670 [==============================] - 5s 7ms/step - loss: 0.0657 - mean_absolute_error: 0.2094 - acc: 0.4119\n",
            "Epoch 30/40\n",
            "670/670 [==============================] - 5s 7ms/step - loss: 0.0628 - mean_absolute_error: 0.2070 - acc: 0.4104\n",
            "Epoch 31/40\n",
            "670/670 [==============================] - 5s 7ms/step - loss: 0.0636 - mean_absolute_error: 0.2081 - acc: 0.4090\n",
            "Epoch 32/40\n",
            "670/670 [==============================] - 5s 7ms/step - loss: 0.0634 - mean_absolute_error: 0.2088 - acc: 0.4119\n",
            "Epoch 33/40\n",
            "670/670 [==============================] - 5s 7ms/step - loss: 0.0630 - mean_absolute_error: 0.2045 - acc: 0.4104\n",
            "Epoch 34/40\n",
            "670/670 [==============================] - 5s 7ms/step - loss: 0.0607 - mean_absolute_error: 0.2003 - acc: 0.4104\n",
            "Epoch 35/40\n",
            "670/670 [==============================] - 5s 7ms/step - loss: 0.0610 - mean_absolute_error: 0.2046 - acc: 0.4119\n",
            "Epoch 36/40\n",
            "670/670 [==============================] - 5s 7ms/step - loss: 0.0613 - mean_absolute_error: 0.2020 - acc: 0.4119\n",
            "Epoch 37/40\n",
            "670/670 [==============================] - 5s 7ms/step - loss: 0.0617 - mean_absolute_error: 0.2011 - acc: 0.4119\n",
            "Epoch 38/40\n",
            "670/670 [==============================] - 5s 7ms/step - loss: 0.0614 - mean_absolute_error: 0.2036 - acc: 0.4104\n",
            "Epoch 39/40\n",
            "670/670 [==============================] - 5s 7ms/step - loss: 0.0577 - mean_absolute_error: 0.1965 - acc: 0.4119\n",
            "Epoch 40/40\n",
            "670/670 [==============================] - 5s 7ms/step - loss: 0.0612 - mean_absolute_error: 0.2033 - acc: 0.4119\n"
          ],
          "name": "stdout"
        },
        {
          "output_type": "execute_result",
          "data": {
            "text/plain": [
              "<keras.callbacks.History at 0x7f633a17c7f0>"
            ]
          },
          "metadata": {
            "tags": []
          },
          "execution_count": 9
        }
      ]
    },
    {
      "cell_type": "code",
      "metadata": {
        "id": "jrydM4PBtj8G",
        "colab_type": "code",
        "colab": {}
      },
      "source": [
        "loss, mae, acc = model.evaluate(X_test, Y_test, verbose = 2, batch_size = batch_size)"
      ],
      "execution_count": 0,
      "outputs": []
    },
    {
      "cell_type": "code",
      "metadata": {
        "id": "KaiYU61jw0zj",
        "colab_type": "code",
        "outputId": "60f62f62-4445-415a-b112-382872d1a642",
        "colab": {
          "base_uri": "https://localhost:8080/",
          "height": 69
        }
      },
      "source": [
        "print(loss) #mse\n",
        "print(mae)\n",
        "print(acc)"
      ],
      "execution_count": 0,
      "outputs": [
        {
          "output_type": "stream",
          "text": [
            "0.07139029947645736\n",
            "0.21283352095069308\n",
            "0.3999999963875973\n"
          ],
          "name": "stdout"
        }
      ]
    },
    {
      "cell_type": "code",
      "metadata": {
        "id": "IhlxZi_StscF",
        "colab_type": "code",
        "colab": {}
      },
      "source": [
        "y_pred= model.predict(X_test)"
      ],
      "execution_count": 0,
      "outputs": []
    },
    {
      "cell_type": "code",
      "metadata": {
        "id": "fTmU_8kStwHt",
        "colab_type": "code",
        "outputId": "9844ac47-72b9-4519-c75c-df62630ddce7",
        "colab": {
          "base_uri": "https://localhost:8080/",
          "height": 104
        }
      },
      "source": [
        "y_pred[0:5]"
      ],
      "execution_count": 0,
      "outputs": [
        {
          "output_type": "execute_result",
          "data": {
            "text/plain": [
              "array([[0.5443308],\n",
              "       [0.7830462],\n",
              "       [0.8388883],\n",
              "       [0.7754902],\n",
              "       [0.8813996]], dtype=float32)"
            ]
          },
          "metadata": {
            "tags": []
          },
          "execution_count": 15
        }
      ]
    },
    {
      "cell_type": "code",
      "metadata": {
        "id": "fzJ1euyzxUtZ",
        "colab_type": "code",
        "outputId": "37e94f00-7c7b-4900-f334-316c895dceec",
        "colab": {
          "base_uri": "https://localhost:8080/",
          "height": 121
        }
      },
      "source": [
        "Y_test[0:5]"
      ],
      "execution_count": 0,
      "outputs": [
        {
          "output_type": "execute_result",
          "data": {
            "text/plain": [
              "521    0.6\n",
              "737    1.0\n",
              "740    1.0\n",
              "660    0.6\n",
              "411    1.0\n",
              "Name: stars, dtype: float64"
            ]
          },
          "metadata": {
            "tags": []
          },
          "execution_count": 14
        }
      ]
    },
    {
      "cell_type": "code",
      "metadata": {
        "id": "3IreN0qJ6LfO",
        "colab_type": "code",
        "outputId": "89b4cd6f-2b59-4823-cb03-7906e127b3cb",
        "colab": {
          "base_uri": "https://localhost:8080/",
          "height": 284
        }
      },
      "source": [
        "import matplotlib.pyplot as plt\n",
        "fig, ax = plt.subplots()\n",
        "ax.scatter(Y_test, y_pred)\n",
        "ax.plot([Y_test.min(), Y_test.max()], [Y_test.min(), Y_test.max()], 'k--', lw=4)\n",
        "ax.set_xlabel('Measured')\n",
        "ax.set_ylabel('Predicted')\n",
        "plt.show()"
      ],
      "execution_count": 0,
      "outputs": [
        {
          "output_type": "display_data",
          "data": {
            "image/png": "[encoded data removed]",
            "text/plain": [
              "<Figure size 432x288 with 1 Axes>"
            ]
          },
          "metadata": {
            "tags": []
          }
        }
      ]
    }
  ]
}