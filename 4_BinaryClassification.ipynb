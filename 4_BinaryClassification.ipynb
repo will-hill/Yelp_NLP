{
 "cells": [
  {
   "cell_type": "markdown",
   "metadata": {
    "colab_type": "text",
    "id": "view-in-github"
   },
   "source": [
    "<a href=\"https://colab.research.google.com/github/will-hill/Yelp_NLP/blob/master/3.Basic_Keras_DL_NLP.ipynb\" target=\"_parent\"><img src=\"https://colab.research.google.com/assets/colab-badge.svg\" alt=\"Open In Colab\"/></a>"
   ]
  },
  {
   "cell_type": "markdown",
   "metadata": {
    "colab_type": "text",
    "id": "69lloxhH4GbP"
   },
   "source": [
    "# Basic Keras Deep Learning NLP\n",
    "inspired from \n",
    "* https://www.kaggle.com/ngyptr/lstm-sentiment-analysis-keras\n",
    "* https://medium.com/datadriveninvestor/building-neural-network-using-keras-for-regression-ceee5a9eadff\n"
   ]
  },
  {
   "cell_type": "markdown",
   "metadata": {
    "colab_type": "text",
    "id": "klkILKLwM8Yp"
   },
   "source": [
    "### Will's Setup Code\n",
    "I created a couple subdirectories in my Google Drive"
   ]
  },
  {
   "cell_type": "code",
   "execution_count": 0,
   "metadata": {
    "colab": {},
    "colab_type": "code",
    "id": "lEy9KeJwKWgd"
   },
   "outputs": [],
   "source": [
    "# LAB\n",
    "# REVIEW_FILE_JSON = 'review.json' \n",
    "# COLAB\n",
    "# REVIEW_FILE_JSON = '/content/drive/My Drive/colab/yelp_nlp/review.json'"
   ]
  },
  {
   "cell_type": "markdown",
   "metadata": {
    "colab_type": "text",
    "id": "Z0vvU6ItKWgf"
   },
   "source": [
    "### Colab Setup"
   ]
  },
  {
   "cell_type": "code",
   "execution_count": 2,
   "metadata": {
    "colab": {
     "base_uri": "https://localhost:8080/",
     "height": 54
    },
    "colab_type": "code",
    "id": "Ar6urKZwM7mo",
    "outputId": "ad21fff0-5462-4dc4-8b30-ad8d5a24a537"
   },
   "outputs": [
    {
     "name": "stdout",
     "output_type": "stream",
     "text": [
      "Drive already mounted at /content/drive; to attempt to forcibly remount, call drive.mount(\"/content/drive\", force_remount=True).\n"
     ]
    }
   ],
   "source": [
    "from google.colab import drive\n",
    "drive.mount('/content/drive')"
   ]
  },
  {
   "cell_type": "markdown",
   "metadata": {
    "colab_type": "text",
    "id": "aCdvsb_h2Xjs"
   },
   "source": [
    "### Joanna Setup Code"
   ]
  },
  {
   "cell_type": "code",
   "execution_count": 3,
   "metadata": {
    "colab": {
     "base_uri": "https://localhost:8080/",
     "height": 89
    },
    "colab_type": "code",
    "id": "uxeRqXUTgpxF",
    "outputId": "afbd0c8b-b7cf-453c-ad8b-3714e3da0d64"
   },
   "outputs": [
    {
     "name": "stdout",
     "output_type": "stream",
     "text": [
      "Drive already mounted at /content/drive; to attempt to forcibly remount, call drive.mount(\"/content/drive\", force_remount=True).\n",
      "ln: failed to create symbolic link 'data/My Drive': Function not implemented\n",
      "data  drive  sample_data\n"
     ]
    }
   ],
   "source": [
    "from google.colab import drive #python code\n",
    "drive.mount('/content/drive') # python code <- follow the resulting directions\n",
    "!ln -s drive/My\\ Drive data # bash command\n",
    "!ls # you should \"see\" drive directory now.\n",
    "hd5_path='data/final_project_dl/reviews_100000.h5'\n",
    "#!pip install numpy==1.15.4"
   ]
  },
  {
   "cell_type": "code",
   "execution_count": 0,
   "metadata": {
    "colab": {},
    "colab_type": "code",
    "id": "Z6D8UM5zMFIS"
   },
   "outputs": [],
   "source": [
    "import pandas as pd\n",
    "df = pd.read_hdf(hd5_path)\n",
    "df=df[0:10000]"
   ]
  },
  {
   "cell_type": "markdown",
   "metadata": {
    "colab_type": "text",
    "id": "aQr7zAUgKWg1"
   },
   "source": [
    "### create word index"
   ]
  },
  {
   "cell_type": "code",
   "execution_count": 0,
   "metadata": {
    "colab": {},
    "colab_type": "code",
    "id": "HpqaEu3wIPXF"
   },
   "outputs": [],
   "source": [
    "import re\n",
    "from nltk.corpus import stopwords\n",
    "from nltk.stem import SnowballStemmer\n",
    "# From https://www.kaggle.com/lystdo/lstm-with-word2vec-embeddings\n",
    "def text_to_wordlist(text, remove_stopwords=False, stem_words=False):\n",
    "    # Clean the text, with the option to remove stopwords and to stem words.\n",
    "    \n",
    "    # Convert words to lower case and split them\n",
    "    text = text.lower().split()\n",
    "\n",
    "    # Optionally, remove stop words\n",
    "    if remove_stopwords:\n",
    "        stops = set(stopwords.words(\"english\"))\n",
    "        text = [w for w in text if not w in stops]\n",
    "    \n",
    "    text = \" \".join(text)\n",
    "\n",
    "    # Clean the text\n",
    "    text = re.sub(r\"[^A-Za-z0-9^,!.\\/'+-=]\", \" \", text)\n",
    "    text = re.sub(r\"what's\", \"what is \", text)\n",
    "    text = re.sub(r\"\\'s\", \" \", text)\n",
    "    text = re.sub(r\"\\'ve\", \" have \", text)\n",
    "    text = re.sub(r\"can't\", \"cannot \", text)\n",
    "    text = re.sub(r\"n't\", \" not \", text)\n",
    "    text = re.sub(r\"i'm\", \"i am \", text)\n",
    "    text = re.sub(r\"\\'re\", \" are \", text)\n",
    "    text = re.sub(r\"\\'d\", \" would \", text)\n",
    "    text = re.sub(r\"\\'ll\", \" will \", text)\n",
    "    text = re.sub(r\",\", \" \", text)\n",
    "    text = re.sub(r\"\\.\", \" \", text)\n",
    "    text = re.sub(r\"!\", \" ! \", text)\n",
    "    text = re.sub(r\"\\/\", \" \", text)\n",
    "    text = re.sub(r\"\\^\", \" ^ \", text)\n",
    "    text = re.sub(r\"\\+\", \" + \", text)\n",
    "    text = re.sub(r\"\\-\", \" - \", text)\n",
    "    text = re.sub(r\"\\=\", \" = \", text)\n",
    "    text = re.sub(r\"'\", \" \", text)\n",
    "    text = re.sub(r\"(\\d+)(k)\", r\"\\g<1>000\", text)\n",
    "    text = re.sub(r\":\", \" : \", text)\n",
    "    text = re.sub(r\" e g \", \" eg \", text)\n",
    "    text = re.sub(r\" b g \", \" bg \", text)\n",
    "    text = re.sub(r\" u s \", \" american \", text)\n",
    "    text = re.sub(r\"\\0s\", \"0\", text)\n",
    "    text = re.sub(r\" 9 11 \", \"911\", text)\n",
    "    text = re.sub(r\"e - mail\", \"email\", text)\n",
    "    text = re.sub(r\"j k\", \"jk\", text)\n",
    "    text = re.sub(r\"\\s{2,}\", \" \", text)\n",
    "    \n",
    "    # Optionally, shorten words to their stems\n",
    "    if stem_words:\n",
    "        text = text.split()\n",
    "        stemmer = SnowballStemmer('english')\n",
    "        stemmed_words = [stemmer.stem(word) for word in text]\n",
    "        text = \" \".join(stemmed_words)\n",
    "    \n",
    "    # Return a list of words\n",
    "    return(text)"
   ]
  },
  {
   "cell_type": "code",
   "execution_count": 0,
   "metadata": {
    "colab": {},
    "colab_type": "code",
    "id": "yby52oxAIYSl"
   },
   "outputs": [],
   "source": [
    "df['text']=df['text'].apply(text_to_wordlist)"
   ]
  },
  {
   "cell_type": "code",
   "execution_count": 7,
   "metadata": {
    "colab": {
     "base_uri": "https://localhost:8080/",
     "height": 121
    },
    "colab_type": "code",
    "id": "UdTV72ohKHW7",
    "outputId": "63a3c1c1-142d-44ab-c256-74a65e72928b"
   },
   "outputs": [
    {
     "data": {
      "text/plain": [
       "0    total bill for this horrible service over 8gs ...\n",
       "1    i adore travis at the hard rock new kelly card...\n",
       "2    i have to say that this office really has it t...\n",
       "3    went in for a lunch steak sandwich was delicio...\n",
       "4    today was my second out of three sessions i ha...\n",
       "Name: text, dtype: object"
      ]
     },
     "execution_count": 7,
     "metadata": {
      "tags": []
     },
     "output_type": "execute_result"
    }
   ],
   "source": [
    "df['text'].head()"
   ]
  },
  {
   "cell_type": "code",
   "execution_count": 8,
   "metadata": {
    "colab": {
     "base_uri": "https://localhost:8080/",
     "height": 34
    },
    "colab_type": "code",
    "id": "rJnwmmCgKWg1",
    "outputId": "789649c5-dc88-4c91-b20b-61f61c5dd734"
   },
   "outputs": [
    {
     "name": "stderr",
     "output_type": "stream",
     "text": [
      "Using TensorFlow backend.\n"
     ]
    }
   ],
   "source": [
    "from keras.preprocessing.text import Tokenizer\n",
    "tokenizer = Tokenizer()\n",
    "tokenizer.fit_on_texts(df['text'].values)\n",
    "VOCAB_SIZE = len(tokenizer.word_index) + 1\n",
    "del Tokenizer"
   ]
  },
  {
   "cell_type": "code",
   "execution_count": 9,
   "metadata": {
    "colab": {
     "base_uri": "https://localhost:8080/",
     "height": 34
    },
    "colab_type": "code",
    "id": "RgiCPmkoDTNt",
    "outputId": "e0612401-b316-48e8-9537-1a8750353a40"
   },
   "outputs": [
    {
     "data": {
      "text/plain": [
       "26201"
      ]
     },
     "execution_count": 9,
     "metadata": {
      "tags": []
     },
     "output_type": "execute_result"
    }
   ],
   "source": [
    "VOCAB_SIZE"
   ]
  },
  {
   "cell_type": "markdown",
   "metadata": {
    "colab_type": "text",
    "id": "CgDCAjWQKWg5"
   },
   "source": [
    "### convert words to indices"
   ]
  },
  {
   "cell_type": "code",
   "execution_count": 0,
   "metadata": {
    "colab": {},
    "colab_type": "code",
    "id": "NysNKg8tKWg5"
   },
   "outputs": [],
   "source": [
    "X = tokenizer.texts_to_sequences(df.text.values)\n",
    "del tokenizer"
   ]
  },
  {
   "cell_type": "markdown",
   "metadata": {
    "colab_type": "text",
    "id": "vvkHZysTKWg7"
   },
   "source": [
    "### add zeroes so all texts are same length"
   ]
  },
  {
   "cell_type": "code",
   "execution_count": 0,
   "metadata": {
    "colab": {},
    "colab_type": "code",
    "id": "UENYnb4kKWg8"
   },
   "outputs": [],
   "source": [
    "from keras.preprocessing.sequence import pad_sequences\n",
    "X = pad_sequences(X)\n",
    "del pad_sequences"
   ]
  },
  {
   "cell_type": "markdown",
   "metadata": {
    "colab_type": "text",
    "id": "SbykCibfQQ8V"
   },
   "source": [
    "# Y/N Useful"
   ]
  },
  {
   "cell_type": "code",
   "execution_count": 12,
   "metadata": {
    "colab": {
     "base_uri": "https://localhost:8080/",
     "height": 52
    },
    "colab_type": "code",
    "id": "K8dRegNPRgSr",
    "outputId": "f2031f4e-198e-415d-a9a8-7fa9b362be82"
   },
   "outputs": [
    {
     "name": "stdout",
     "output_type": "stream",
     "text": [
      "(6700, 963) (6700,)\n",
      "(3300, 963) (3300,)\n"
     ]
    }
   ],
   "source": [
    "# Mark as Useful if at least 1 \"Useful\" upvote. Else 0.\n",
    "Y_useful_binary = df.useful.apply(lambda x: 1 if x > 0 else 0)\n",
    "\n",
    "from sklearn.model_selection import train_test_split\n",
    "\n",
    "X_train_useful_binary, X_test_useful_binary, Y_train_useful_binary, Y_test_useful_binary = train_test_split(X,Y_useful_binary, test_size = 0.33, random_state = 42)\n",
    "print(X_train_useful_binary.shape,Y_train_useful_binary.shape)\n",
    "print(X_test_useful_binary.shape,Y_test_useful_binary.shape)\n",
    "\n",
    "del train_test_split"
   ]
  },
  {
   "cell_type": "code",
   "execution_count": 13,
   "metadata": {
    "colab": {
     "base_uri": "https://localhost:8080/",
     "height": 69
    },
    "colab_type": "code",
    "id": "UdTVRuzSYAcG",
    "outputId": "49dd9739-3aab-4852-8a05-6fdc30a501e8"
   },
   "outputs": [
    {
     "data": {
      "text/plain": [
       "0    5409\n",
       "1    4591\n",
       "Name: useful, dtype: int64"
      ]
     },
     "execution_count": 13,
     "metadata": {
      "tags": []
     },
     "output_type": "execute_result"
    }
   ],
   "source": [
    "Y_useful_binary.value_counts() # Positive and negative class are relatively even"
   ]
  },
  {
   "cell_type": "code",
   "execution_count": 14,
   "metadata": {
    "colab": {
     "base_uri": "https://localhost:8080/",
     "height": 748
    },
    "colab_type": "code",
    "id": "Os40B3MuQSKC",
    "outputId": "b3337125-b63b-43aa-b7c7-0f2119982281"
   },
   "outputs": [
    {
     "name": "stderr",
     "output_type": "stream",
     "text": [
      "WARNING: Logging before flag parsing goes to stderr.\n",
      "W0804 15:49:14.420320 140186473191296 deprecation_wrapper.py:119] From /usr/local/lib/python3.6/dist-packages/keras/backend/tensorflow_backend.py:74: The name tf.get_default_graph is deprecated. Please use tf.compat.v1.get_default_graph instead.\n",
      "\n",
      "W0804 15:49:14.438320 140186473191296 deprecation_wrapper.py:119] From /usr/local/lib/python3.6/dist-packages/keras/backend/tensorflow_backend.py:517: The name tf.placeholder is deprecated. Please use tf.compat.v1.placeholder instead.\n",
      "\n",
      "W0804 15:49:14.440652 140186473191296 deprecation_wrapper.py:119] From /usr/local/lib/python3.6/dist-packages/keras/backend/tensorflow_backend.py:4138: The name tf.random_uniform is deprecated. Please use tf.random.uniform instead.\n",
      "\n",
      "W0804 15:49:14.454950 140186473191296 deprecation_wrapper.py:119] From /usr/local/lib/python3.6/dist-packages/keras/backend/tensorflow_backend.py:133: The name tf.placeholder_with_default is deprecated. Please use tf.compat.v1.placeholder_with_default instead.\n",
      "\n",
      "W0804 15:49:14.464320 140186473191296 deprecation.py:506] From /usr/local/lib/python3.6/dist-packages/keras/backend/tensorflow_backend.py:3445: calling dropout (from tensorflow.python.ops.nn_ops) with keep_prob is deprecated and will be removed in a future version.\n",
      "Instructions for updating:\n",
      "Please use `rate` instead of `keep_prob`. Rate should be set to `rate = 1 - keep_prob`.\n",
      "W0804 15:49:14.809937 140186473191296 deprecation.py:323] From /usr/local/lib/python3.6/dist-packages/keras/backend/tensorflow_backend.py:2974: add_dispatch_support.<locals>.wrapper (from tensorflow.python.ops.array_ops) is deprecated and will be removed in a future version.\n",
      "Instructions for updating:\n",
      "Use tf.where in 2.0, which has the same broadcast rule as np.where\n",
      "W0804 15:49:15.341127 140186473191296 deprecation_wrapper.py:119] From /usr/local/lib/python3.6/dist-packages/keras/optimizers.py:790: The name tf.train.Optimizer is deprecated. Please use tf.compat.v1.train.Optimizer instead.\n",
      "\n",
      "W0804 15:49:15.360781 140186473191296 deprecation_wrapper.py:119] From /usr/local/lib/python3.6/dist-packages/keras/backend/tensorflow_backend.py:3376: The name tf.log is deprecated. Please use tf.math.log instead.\n",
      "\n"
     ]
    },
    {
     "name": "stdout",
     "output_type": "stream",
     "text": [
      "_________________________________________________________________\n",
      "Layer (type)                 Output Shape              Param #   \n",
      "=================================================================\n",
      "embedding_1 (Embedding)      (None, 963, 64)           1676864   \n",
      "_________________________________________________________________\n",
      "dropout_1 (Dropout)          (None, 963, 64)           0         \n",
      "_________________________________________________________________\n",
      "lstm_1 (LSTM)                (None, 963, 64)           33024     \n",
      "_________________________________________________________________\n",
      "lstm_2 (LSTM)                (None, 32)                12416     \n",
      "_________________________________________________________________\n",
      "dropout_2 (Dropout)          (None, 32)                0         \n",
      "_________________________________________________________________\n",
      "dense_1 (Dense)              (None, 8)                 264       \n",
      "_________________________________________________________________\n",
      "dense_2 (Dense)              (None, 1)                 9         \n",
      "=================================================================\n",
      "Total params: 1,722,577\n",
      "Trainable params: 1,722,577\n",
      "Non-trainable params: 0\n",
      "_________________________________________________________________\n",
      "None\n"
     ]
    }
   ],
   "source": [
    "from keras.models import Sequential\n",
    "from keras.layers import Dense, Embedding, LSTM, SpatialDropout1D, Dropout, Conv1D, MaxPooling1D\n",
    "from keras import regularizers \n",
    "\n",
    "OUTPUT_DIM = 64 #128\n",
    "LSTM_OUT = 64 #196\n",
    "\n",
    "model_useful_binary = Sequential()\n",
    "model_useful_binary.add(Embedding(VOCAB_SIZE, \n",
    "                    OUTPUT_DIM, \n",
    "                    mask_zero=True,\n",
    "                    input_length = X_train_useful_binary.shape[1]))\n",
    "\n",
    "model_useful_binary.add(Dropout(0.5))\n",
    "\n",
    "model_useful_binary.add(LSTM(LSTM_OUT,\n",
    "               dropout=0.4,\n",
    "               recurrent_dropout=0.4,\n",
    "               return_sequences=True,\n",
    "               kernel_regularizer=regularizers.l2(0.01)))\n",
    "\n",
    "model_useful_binary.add(LSTM(int(LSTM_OUT/2.0),\n",
    "               dropout=0.5,\n",
    "               recurrent_dropout=0.5,\n",
    "               return_sequences=False,\n",
    "               kernel_regularizer=regularizers.l2(0.01)))\n",
    "\n",
    "model_useful_binary.add(Dropout(0.5))\n",
    "\n",
    "model_useful_binary.add(Dense(8))\n",
    "model_useful_binary.add(Dense(1,activation='sigmoid'))\n",
    "\n",
    "model_useful_binary.compile(optimizer='adam', loss='binary_crossentropy',  metrics=['mse','accuracy'])\n",
    "print(model_useful_binary.summary())\n"
   ]
  },
  {
   "cell_type": "code",
   "execution_count": 15,
   "metadata": {
    "colab": {
     "base_uri": "https://localhost:8080/",
     "height": 436
    },
    "colab_type": "code",
    "id": "TAEAmXr0RhZy",
    "outputId": "0e77690e-7752-4024-b9f6-b02ea61a9bb5"
   },
   "outputs": [
    {
     "name": "stdout",
     "output_type": "stream",
     "text": [
      "Train on 4468 samples, validate on 2232 samples\n",
      "Epoch 1/10\n",
      " - 90s - loss: 2.2856 - mean_squared_error: 0.2485 - acc: 0.5372 - val_loss: 1.9871 - val_mean_squared_error: 0.2492 - val_acc: 0.5314\n",
      "Epoch 2/10\n",
      " - 87s - loss: 1.7795 - mean_squared_error: 0.2480 - acc: 0.5468 - val_loss: 1.5657 - val_mean_squared_error: 0.2492 - val_acc: 0.5314\n",
      "Epoch 3/10\n",
      " - 88s - loss: 1.4186 - mean_squared_error: 0.2475 - acc: 0.5468 - val_loss: 1.2718 - val_mean_squared_error: 0.2490 - val_acc: 0.5314\n",
      "Epoch 4/10\n",
      " - 88s - loss: 1.1705 - mean_squared_error: 0.2474 - acc: 0.5468 - val_loss: 1.0720 - val_mean_squared_error: 0.2490 - val_acc: 0.5314\n",
      "Epoch 5/10\n",
      " - 89s - loss: 1.0028 - mean_squared_error: 0.2474 - acc: 0.5468 - val_loss: 0.9377 - val_mean_squared_error: 0.2490 - val_acc: 0.5314\n",
      "Epoch 6/10\n",
      " - 89s - loss: 0.8902 - mean_squared_error: 0.2470 - acc: 0.5470 - val_loss: 0.8480 - val_mean_squared_error: 0.2483 - val_acc: 0.5314\n",
      "Epoch 7/10\n",
      " - 90s - loss: 0.8124 - mean_squared_error: 0.2446 - acc: 0.5667 - val_loss: 0.7912 - val_mean_squared_error: 0.2481 - val_acc: 0.5314\n",
      "Epoch 8/10\n",
      " - 90s - loss: 0.7667 - mean_squared_error: 0.2436 - acc: 0.5821 - val_loss: 0.7444 - val_mean_squared_error: 0.2409 - val_acc: 0.6026\n",
      "Epoch 9/10\n",
      " - 90s - loss: 0.7315 - mean_squared_error: 0.2390 - acc: 0.6041 - val_loss: 0.7070 - val_mean_squared_error: 0.2327 - val_acc: 0.6358\n",
      "Epoch 10/10\n",
      " - 90s - loss: 0.7023 - mean_squared_error: 0.2332 - acc: 0.6338 - val_loss: 0.7024 - val_mean_squared_error: 0.2366 - val_acc: 0.6156\n",
      "CPU times: user 22min 47s, sys: 2min 9s, total: 24min 56s\n",
      "Wall time: 14min 52s\n"
     ]
    }
   ],
   "source": [
    "%%time\n",
    "batch_size = 256\n",
    "epochs = 10\n",
    "history_useful_binary = model_useful_binary.fit(X_train_useful_binary, Y_train_useful_binary, validation_split=0.333, epochs = epochs, batch_size=batch_size, verbose = 2)"
   ]
  },
  {
   "cell_type": "code",
   "execution_count": 16,
   "metadata": {
    "colab": {
     "base_uri": "https://localhost:8080/",
     "height": 545
    },
    "colab_type": "code",
    "id": "GsVZONqnUlKU",
    "outputId": "e991f308-1b3e-43d1-a4bb-7b14faf95cd7"
   },
   "outputs": [
    {
     "data": {
      "image/png": "[encoded data removed]",
      "text/plain": [
       "<Figure size 432x288 with 1 Axes>"
      ]
     },
     "metadata": {
      "tags": []
     },
     "output_type": "display_data"
    },
    {
     "data": {
      "image/png": "[encoded data removed]",
      "text/plain": [
       "<Figure size 432x288 with 1 Axes>"
      ]
     },
     "metadata": {
      "tags": []
     },
     "output_type": "display_data"
    }
   ],
   "source": [
    "import matplotlib.pyplot as plt \n",
    "acc = history_useful_binary.history['acc']\n",
    "\n",
    "val_acc = history_useful_binary.history['val_acc']\n",
    "loss = history_useful_binary.history['loss']\n",
    "val_loss = history_useful_binary.history['val_loss']\n",
    "epochs = range(len(acc))\n",
    "\n",
    "plt.plot(epochs, acc, 'bo', label='Training acc')\n",
    "plt.plot(epochs, val_acc, 'b', label='Validation acc')\n",
    "plt.title('Training and validation accuracy')\n",
    "plt.legend()\n",
    "plt.figure()\n",
    "plt.plot(epochs, loss, 'bo', label='Training loss')\n",
    "plt.plot(epochs, val_loss, 'b', label='Validation loss')\n",
    "plt.title('Training and validation loss')\n",
    "plt.legend()\n",
    "plt.show()"
   ]
  },
  {
   "cell_type": "code",
   "execution_count": 0,
   "metadata": {
    "colab": {},
    "colab_type": "code",
    "id": "xulyOEYdzf7l"
   },
   "outputs": [],
   "source": [
    "loss_ub, mse_ub, acc_ub = model_useful_binary.evaluate(X_test_useful_binary, Y_test_useful_binary, verbose = 2, batch_size = batch_size)"
   ]
  },
  {
   "cell_type": "code",
   "execution_count": 18,
   "metadata": {
    "colab": {
     "base_uri": "https://localhost:8080/",
     "height": 69
    },
    "colab_type": "code",
    "id": "5TogprJzz5Ue",
    "outputId": "161d8796-6ff0-442c-e17a-489aca76c67d"
   },
   "outputs": [
    {
     "name": "stdout",
     "output_type": "stream",
     "text": [
      "0.7017408097874035\n",
      "0.2363265672055158\n",
      "0.6121212116877238\n"
     ]
    }
   ],
   "source": [
    "print(loss_ub) #binary cross entropy\n",
    "print(mse_ub)\n",
    "print(acc_ub)"
   ]
  },
  {
   "cell_type": "code",
   "execution_count": 19,
   "metadata": {
    "colab": {
     "base_uri": "https://localhost:8080/",
     "height": 296
    },
    "colab_type": "code",
    "id": "ebKhNmVR2yIk",
    "outputId": "7e4847cc-f716-401a-df75-0941e9f18f39"
   },
   "outputs": [
    {
     "data": {
      "image/png": "[encoded data removed]",
      "text/plain": [
       "<Figure size 432x288 with 1 Axes>"
      ]
     },
     "metadata": {
      "tags": []
     },
     "output_type": "display_data"
    }
   ],
   "source": [
    "import matplotlib.pyplot as plt\n",
    "\n",
    "plt.plot(history_useful_binary.history['acc'], '.-')\n",
    "plt.plot(history_useful_binary.history['val_acc'], '.-')\n",
    "plt.plot(history_useful_binary.history['loss'], '.-')\n",
    "plt.plot(history_useful_binary.history['val_loss'], '.-')\n",
    "\n",
    "plt.title('training')\n",
    "plt.xlabel('epoch')\n",
    "plt.legend(['acc','val_acc','loss','val_loss'], loc='best')\n",
    "\n",
    "del plt"
   ]
  },
  {
   "cell_type": "code",
   "execution_count": 0,
   "metadata": {
    "colab": {},
    "colab_type": "code",
    "id": "xf5P4LsJ3IYn"
   },
   "outputs": [],
   "source": [
    "y_pred = model_useful_binary.predict(X_test_useful_binary[0:200])\n"
   ]
  },
  {
   "cell_type": "code",
   "execution_count": 21,
   "metadata": {
    "colab": {
     "base_uri": "https://localhost:8080/",
     "height": 284
    },
    "colab_type": "code",
    "id": "RIfsQVDu3HWO",
    "outputId": "d1741ce8-59ac-4ac7-c410-e19584ac59b8"
   },
   "outputs": [
    {
     "data": {
      "image/png": "[encoded data removed]",
      "text/plain": [
       "<Figure size 432x288 with 1 Axes>"
      ]
     },
     "metadata": {
      "tags": []
     },
     "output_type": "display_data"
    }
   ],
   "source": [
    "import matplotlib.pyplot as plt\n",
    "fig, ax = plt.subplots()\n",
    "ax.scatter(Y_test_useful_binary[0:200], y_pred)\n",
    "ax.plot([Y_test_useful_binary[0:200].min(), Y_test_useful_binary[0:200].max()], [Y_test_useful_binary[0:200].min(), Y_test_useful_binary[0:200].max()], 'k--', lw=4)\n",
    "ax.set_xlabel('Measured')\n",
    "ax.set_ylabel('Predicted')\n",
    "plt.show()"
   ]
  },
  {
   "cell_type": "code",
   "execution_count": 0,
   "metadata": {
    "colab": {},
    "colab_type": "code",
    "id": "2tWXFpPGIDWK"
   },
   "outputs": [],
   "source": []
  }
 ],
 "metadata": {
  "accelerator": "GPU",
  "colab": {
   "collapsed_sections": [],
   "name": "4.BinaryClassification.ipynb",
   "provenance": [],
   "toc_visible": true,
   "version": "0.3.2"
  },
  "kernelspec": {
   "display_name": "Python 3",
   "language": "python",
   "name": "python3"
  },
  "language_info": {
   "codemirror_mode": {
    "name": "ipython",
    "version": 3
   },
   "file_extension": ".py",
   "mimetype": "text/x-python",
   "name": "python",
   "nbconvert_exporter": "python",
   "pygments_lexer": "ipython3",
   "version": "3.7.3"
  }
 },
 "nbformat": 4,
 "nbformat_minor": 1
}
