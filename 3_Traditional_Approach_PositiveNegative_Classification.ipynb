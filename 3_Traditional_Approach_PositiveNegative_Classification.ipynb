{
  "nbformat": 4,
  "nbformat_minor": 0,
  "metadata": {
    "accelerator": "GPU",
    "colab": {
      "name": "5_PositiveNegative_Classification.ipynb",
      "version": "0.3.2",
      "provenance": [],
      "collapsed_sections": []
    },
    "kernelspec": {
      "name": "python3",
      "display_name": "Python 3"
    },
    "language_info": {
      "codemirror_mode": {
        "name": "ipython",
        "version": 3
      },
      "file_extension": ".py",
      "mimetype": "text/x-python",
      "name": "python",
      "nbconvert_exporter": "python",
      "pygments_lexer": "ipython3",
      "version": "3.7.3"
    }
  },
  "cells": [
    {
      "cell_type": "markdown",
      "metadata": {
        "colab_type": "text",
        "id": "view-in-github"
      },
      "source": [
        "<a href=\"https://colab.research.google.com/github/will-hill/Yelp_NLP/blob/master/3.Basic_Keras_DL_NLP.ipynb\" target=\"_parent\"><img src=\"https://colab.research.google.com/assets/colab-badge.svg\" alt=\"Open In Colab\"/></a>"
      ]
    },
    {
      "cell_type": "markdown",
      "metadata": {
        "colab_type": "text",
        "id": "69lloxhH4GbP"
      },
      "source": [
        "# Basic Keras Deep Learning NLP\n",
        "inspired from \n",
        "* https://www.kaggle.com/ngyptr/lstm-sentiment-analysis-keras\n",
        "* https://medium.com/datadriveninvestor/building-neural-network-using-keras-for-regression-ceee5a9eadff\n"
      ]
    },
    {
      "cell_type": "markdown",
      "metadata": {
        "colab_type": "text",
        "id": "klkILKLwM8Yp"
      },
      "source": [
        "### Will's Setup Code\n",
        "I created a couple subdirectories in my Google Drive"
      ]
    },
    {
      "cell_type": "code",
      "metadata": {
        "id": "lEy9KeJwKWgd",
        "colab_type": "code",
        "colab": {}
      },
      "source": [
        "# LAB\n",
        "# REVIEW_FILE_JSON = 'review.json' \n",
        "# COLAB\n",
        "# REVIEW_FILE_JSON = '/content/drive/My Drive/colab/yelp_nlp/review.json'"
      ],
      "execution_count": 0,
      "outputs": []
    },
    {
      "cell_type": "markdown",
      "metadata": {
        "id": "Z0vvU6ItKWgf",
        "colab_type": "text"
      },
      "source": [
        "### Colab Setup"
      ]
    },
    {
      "cell_type": "code",
      "metadata": {
        "colab_type": "code",
        "id": "Ar6urKZwM7mo",
        "outputId": "e5273e1d-c78c-442c-ea83-d4787bbef6d6",
        "colab": {
          "base_uri": "https://localhost:8080/",
          "height": 54
        }
      },
      "source": [
        "from google.colab import drive\n",
        "drive.mount('/content/drive')"
      ],
      "execution_count": 2,
      "outputs": [
        {
          "output_type": "stream",
          "text": [
            "Drive already mounted at /content/drive; to attempt to forcibly remount, call drive.mount(\"/content/drive\", force_remount=True).\n"
          ],
          "name": "stdout"
        }
      ]
    },
    {
      "cell_type": "markdown",
      "metadata": {
        "colab_type": "text",
        "id": "aCdvsb_h2Xjs"
      },
      "source": [
        "### Joanna Setup Code"
      ]
    },
    {
      "cell_type": "code",
      "metadata": {
        "colab_type": "code",
        "id": "uxeRqXUTgpxF",
        "outputId": "801bb2e6-2fdf-400e-cc49-6c0c3cff448f",
        "colab": {
          "base_uri": "https://localhost:8080/",
          "height": 89
        }
      },
      "source": [
        "from google.colab import drive #python code\n",
        "drive.mount('/content/drive') # python code <- follow the resulting directions\n",
        "!ln -s drive/My\\ Drive data # bash command\n",
        "!ls # you should \"see\" drive directory now.\n",
        "hd5_path='data/final_project_dl/reviews_100000.h5'\n",
        "#!pip install numpy==1.15.4"
      ],
      "execution_count": 3,
      "outputs": [
        {
          "output_type": "stream",
          "text": [
            "Drive already mounted at /content/drive; to attempt to forcibly remount, call drive.mount(\"/content/drive\", force_remount=True).\n",
            "ln: failed to create symbolic link 'data/My Drive': Function not implemented\n",
            "data  drive  sample_data\n"
          ],
          "name": "stdout"
        }
      ]
    },
    {
      "cell_type": "code",
      "metadata": {
        "id": "Z6D8UM5zMFIS",
        "colab_type": "code",
        "colab": {}
      },
      "source": [
        "import pandas as pd\n",
        "df = pd.read_hdf(hd5_path)"
      ],
      "execution_count": 0,
      "outputs": []
    },
    {
      "cell_type": "markdown",
      "metadata": {
        "id": "SutmcyWay_9z",
        "colab_type": "text"
      },
      "source": [
        "## Balancing Dataset"
      ]
    },
    {
      "cell_type": "code",
      "metadata": {
        "id": "IyONfCaB2d2B",
        "colab_type": "code",
        "colab": {
          "base_uri": "https://localhost:8080/",
          "height": 104
        },
        "outputId": "864ecf2f-3139-4186-c3a6-00b974af4920"
      },
      "source": [
        "df=df[df.stars!=3]\n",
        "df.stars.value_counts()"
      ],
      "execution_count": 5,
      "outputs": [
        {
          "output_type": "execute_result",
          "data": {
            "text/plain": [
              "5.0    44367\n",
              "4.0    22103\n",
              "1.0    14585\n",
              "2.0     7975\n",
              "Name: stars, dtype: int64"
            ]
          },
          "metadata": {
            "tags": []
          },
          "execution_count": 5
        }
      ]
    },
    {
      "cell_type": "code",
      "metadata": {
        "id": "gnPAYHTGy8Js",
        "colab_type": "code",
        "colab": {
          "base_uri": "https://localhost:8080/",
          "height": 69
        },
        "outputId": "7df4fc47-fdb3-424a-aec5-ad9c40a5d356"
      },
      "source": [
        "df.stars = pd.cut(df.stars.fillna(0), bins=[0,2,max(df.stars)+1], labels=['Negative','Positive'])\n",
        "min_bucket=min(df.stars.value_counts())\n",
        "df.stars.value_counts()"
      ],
      "execution_count": 6,
      "outputs": [
        {
          "output_type": "execute_result",
          "data": {
            "text/plain": [
              "Positive    66470\n",
              "Negative    22560\n",
              "Name: stars, dtype: int64"
            ]
          },
          "metadata": {
            "tags": []
          },
          "execution_count": 6
        }
      ]
    },
    {
      "cell_type": "code",
      "metadata": {
        "id": "S8XE_K9czC-P",
        "colab_type": "code",
        "colab": {}
      },
      "source": [
        "import numpy as np\n",
        "\n",
        "final_indices = []\n",
        "for category in set(df.stars):\n",
        "  indices=df[df.stars == category].index\n",
        "  random_indices =  list(np.random.choice(indices,min_bucket,replace=False))\n",
        "  final_indices += random_indices\n",
        "  "
      ],
      "execution_count": 0,
      "outputs": []
    },
    {
      "cell_type": "code",
      "metadata": {
        "id": "cV4kOKBRzGtU",
        "colab_type": "code",
        "colab": {
          "base_uri": "https://localhost:8080/",
          "height": 69
        },
        "outputId": "e1ae13a1-8b1b-48d0-cca5-1fd8b7f6a62c"
      },
      "source": [
        "df = df.loc[final_indices]\n",
        "#df=df.sample(n=10000)\n",
        "df.stars.value_counts()\n"
      ],
      "execution_count": 8,
      "outputs": [
        {
          "output_type": "execute_result",
          "data": {
            "text/plain": [
              "Positive    22560\n",
              "Negative    22560\n",
              "Name: stars, dtype: int64"
            ]
          },
          "metadata": {
            "tags": []
          },
          "execution_count": 8
        }
      ]
    },
    {
      "cell_type": "markdown",
      "metadata": {
        "id": "aQr7zAUgKWg1",
        "colab_type": "text"
      },
      "source": [
        "### create word index"
      ]
    },
    {
      "cell_type": "code",
      "metadata": {
        "id": "HpqaEu3wIPXF",
        "colab_type": "code",
        "colab": {}
      },
      "source": [
        "import re\n",
        "from nltk.corpus import stopwords\n",
        "from nltk.stem import SnowballStemmer\n",
        "\n",
        "# From https://www.kaggle.com/lystdo/lstm-with-word2vec-embeddings\n",
        "def text_to_wordlist(text, remove_stopwords=False, stem_words=False):\n",
        "    # Clean the text, with the option to remove stopwords and to stem words.\n",
        "    \n",
        "    # Convert words to lower case and split them\n",
        "    text = text.lower().split()\n",
        "\n",
        "    # Optionally, remove stop words\n",
        "    if remove_stopwords:\n",
        "        stops = set(stopwords.words(\"english\"))\n",
        "        text = [w for w in text if not w in stops]\n",
        "    \n",
        "    text = \" \".join(text)\n",
        "\n",
        "    # Clean the text\n",
        "    text = re.sub(r\"[^A-Za-z0-9^,!.\\/'+-=]\", \" \", text)\n",
        "    text = re.sub(r\"what's\", \"what is \", text)\n",
        "    text = re.sub(r\"\\'s\", \" \", text)\n",
        "    text = re.sub(r\"\\'ve\", \" have \", text)\n",
        "    text = re.sub(r\"can't\", \"cannot \", text)\n",
        "    text = re.sub(r\"n't\", \" not \", text)\n",
        "    text = re.sub(r\"i'm\", \"i am \", text)\n",
        "    text = re.sub(r\"\\'re\", \" are \", text)\n",
        "    text = re.sub(r\"\\'d\", \" would \", text)\n",
        "    text = re.sub(r\"\\'ll\", \" will \", text)\n",
        "    text = re.sub(r\",\", \" \", text)\n",
        "    text = re.sub(r\"\\.\", \" \", text)\n",
        "    text = re.sub(r\"!\", \" ! \", text)\n",
        "    text = re.sub(r\"\\/\", \" \", text)\n",
        "    text = re.sub(r\"\\^\", \" ^ \", text)\n",
        "    text = re.sub(r\"\\+\", \" + \", text)\n",
        "    text = re.sub(r\"\\-\", \" - \", text)\n",
        "    text = re.sub(r\"\\=\", \" = \", text)\n",
        "    text = re.sub(r\"'\", \" \", text)\n",
        "    text = re.sub(r\"(\\d+)(k)\", r\"\\g<1>000\", text)\n",
        "    text = re.sub(r\":\", \" : \", text)\n",
        "    text = re.sub(r\" e g \", \" eg \", text)\n",
        "    text = re.sub(r\" b g \", \" bg \", text)\n",
        "    text = re.sub(r\" u s \", \" american \", text)\n",
        "    text = re.sub(r\"\\0s\", \"0\", text)\n",
        "    text = re.sub(r\" 9 11 \", \"911\", text)\n",
        "    text = re.sub(r\"e - mail\", \"email\", text)\n",
        "    text = re.sub(r\"j k\", \"jk\", text)\n",
        "    text = re.sub(r\"\\s{2,}\", \" \", text)\n",
        "    \n",
        "    # Optionally, shorten words to their stems\n",
        "    if stem_words:\n",
        "        text = text.split()\n",
        "        stemmer = SnowballStemmer('english')\n",
        "        stemmed_words = [stemmer.stem(word) for word in text]\n",
        "        text = \" \".join(stemmed_words)\n",
        "    \n",
        "    # Return a list of words\n",
        "    return(text)"
      ],
      "execution_count": 0,
      "outputs": []
    },
    {
      "cell_type": "code",
      "metadata": {
        "id": "yby52oxAIYSl",
        "colab_type": "code",
        "colab": {}
      },
      "source": [
        "df['text']=df['text'].apply(text_to_wordlist)"
      ],
      "execution_count": 0,
      "outputs": []
    },
    {
      "cell_type": "code",
      "metadata": {
        "id": "UdTV72ohKHW7",
        "colab_type": "code",
        "outputId": "9b4cf50d-5591-4e00-f466-33be0e7ba60f",
        "colab": {
          "base_uri": "https://localhost:8080/",
          "height": 121
        }
      },
      "source": [
        "df['text'].head()"
      ],
      "execution_count": 11,
      "outputs": [
        {
          "output_type": "execute_result",
          "data": {
            "text/plain": [
              "49776    island grocery and carribean restaurant is sma...\n",
              "2623     excellent customer service was able to schedul...\n",
              "28725    this is how i like to party loud dancey music ...\n",
              "28844    my boyfriend and i recently had a couples mass...\n",
              "17254    without a doubt i think i would have to say th...\n",
              "Name: text, dtype: object"
            ]
          },
          "metadata": {
            "tags": []
          },
          "execution_count": 11
        }
      ]
    },
    {
      "cell_type": "code",
      "metadata": {
        "id": "rJnwmmCgKWg1",
        "colab_type": "code",
        "outputId": "73d671fc-e8d5-4371-eec0-08c4da9a1ea7",
        "colab": {
          "base_uri": "https://localhost:8080/",
          "height": 34
        }
      },
      "source": [
        "from keras.preprocessing.text import Tokenizer\n",
        "tokenizer = Tokenizer()\n",
        "tokenizer.fit_on_texts(df['text'].values)\n",
        "VOCAB_SIZE = len(tokenizer.word_index) + 1\n",
        "del Tokenizer"
      ],
      "execution_count": 12,
      "outputs": [
        {
          "output_type": "stream",
          "text": [
            "Using TensorFlow backend.\n"
          ],
          "name": "stderr"
        }
      ]
    },
    {
      "cell_type": "code",
      "metadata": {
        "id": "RgiCPmkoDTNt",
        "colab_type": "code",
        "outputId": "eb0cb62b-7626-46b2-f937-36dff70495cb",
        "colab": {
          "base_uri": "https://localhost:8080/",
          "height": 34
        }
      },
      "source": [
        "VOCAB_SIZE"
      ],
      "execution_count": 13,
      "outputs": [
        {
          "output_type": "execute_result",
          "data": {
            "text/plain": [
              "53663"
            ]
          },
          "metadata": {
            "tags": []
          },
          "execution_count": 13
        }
      ]
    },
    {
      "cell_type": "markdown",
      "metadata": {
        "id": "CgDCAjWQKWg5",
        "colab_type": "text"
      },
      "source": [
        "### convert words to indices"
      ]
    },
    {
      "cell_type": "code",
      "metadata": {
        "id": "NysNKg8tKWg5",
        "colab_type": "code",
        "colab": {}
      },
      "source": [
        "X = tokenizer.texts_to_sequences(df.text.values)\n",
        "del tokenizer"
      ],
      "execution_count": 0,
      "outputs": []
    },
    {
      "cell_type": "markdown",
      "metadata": {
        "id": "vvkHZysTKWg7",
        "colab_type": "text"
      },
      "source": [
        "### add zeroes so all texts are same length"
      ]
    },
    {
      "cell_type": "code",
      "metadata": {
        "id": "UENYnb4kKWg8",
        "colab_type": "code",
        "colab": {}
      },
      "source": [
        "from keras.preprocessing.sequence import pad_sequences\n",
        "X = pad_sequences(X)\n",
        "del pad_sequences"
      ],
      "execution_count": 0,
      "outputs": []
    },
    {
      "cell_type": "markdown",
      "metadata": {
        "id": "SbykCibfQQ8V",
        "colab_type": "text"
      },
      "source": [
        "# Y/N Useful"
      ]
    },
    {
      "cell_type": "code",
      "metadata": {
        "id": "K8dRegNPRgSr",
        "colab_type": "code",
        "outputId": "7d705afc-e3e2-4362-88fb-f4c8e6f6d20a",
        "colab": {
          "base_uri": "https://localhost:8080/",
          "height": 52
        }
      },
      "source": [
        "# Mark as Useful if at least 1 \"Useful\" upvote. Else 0.\n",
        "#Y_useful_binary = df.stars\n",
        "Y_useful_binary = pd.get_dummies(df['stars']).values\n",
        "\n",
        "from sklearn.model_selection import train_test_split\n",
        "\n",
        "X_train_useful_binary, X_test_useful_binary, Y_train_useful_binary, Y_test_useful_binary = train_test_split(X,Y_useful_binary, test_size = 0.33, random_state = 42)\n",
        "print(X_train_useful_binary.shape,Y_train_useful_binary.shape)\n",
        "print(X_test_useful_binary.shape,Y_test_useful_binary.shape)\n",
        "\n",
        "del train_test_split"
      ],
      "execution_count": 16,
      "outputs": [
        {
          "output_type": "stream",
          "text": [
            "(30230, 1012) (30230, 2)\n",
            "(14890, 1012) (14890, 2)\n"
          ],
          "name": "stdout"
        }
      ]
    },
    {
      "cell_type": "code",
      "metadata": {
        "id": "Os40B3MuQSKC",
        "colab_type": "code",
        "outputId": "ea6840ab-46f1-4ca7-e73b-9bd4f9724395",
        "colab": {
          "base_uri": "https://localhost:8080/",
          "height": 748
        }
      },
      "source": [
        "from keras.models import Sequential\n",
        "from keras.layers import Dense, Embedding, LSTM, SpatialDropout1D, Dropout, Conv1D, MaxPooling1D\n",
        "from keras import regularizers \n",
        "\n",
        "OUTPUT_DIM = 64 \n",
        "LSTM_OUT = 64 \n",
        "\n",
        "model_useful_binary = Sequential()\n",
        "model_useful_binary.add(Embedding(VOCAB_SIZE, \n",
        "                    OUTPUT_DIM, \n",
        "                    mask_zero=True,\n",
        "                    input_length = X_train_useful_binary.shape[1]))\n",
        "\n",
        "model_useful_binary.add(Dropout(0.5))\n",
        "\n",
        "model_useful_binary.add(LSTM(LSTM_OUT,\n",
        "               dropout=0.4,\n",
        "               recurrent_dropout=0.4,\n",
        "               return_sequences=True,\n",
        "               kernel_regularizer=regularizers.l2(0.01)))\n",
        "\n",
        "model_useful_binary.add(LSTM(int(LSTM_OUT/2.0),\n",
        "               dropout=0.5,\n",
        "               recurrent_dropout=0.5,\n",
        "               return_sequences=False,\n",
        "               kernel_regularizer=regularizers.l2(0.01)))\n",
        "\n",
        "model_useful_binary.add(Dropout(0.5))\n",
        "\n",
        "model_useful_binary.add(Dense(8))\n",
        "model_useful_binary.add(Dense(2,activation='sigmoid'))\n",
        "\n",
        "model_useful_binary.compile(optimizer='adam', loss='binary_crossentropy',  metrics=['mse','accuracy'])\n",
        "print(model_useful_binary.summary())\n"
      ],
      "execution_count": 17,
      "outputs": [
        {
          "output_type": "stream",
          "text": [
            "WARNING: Logging before flag parsing goes to stderr.\n",
            "W0805 02:33:59.057010 140557951776640 deprecation_wrapper.py:119] From /usr/local/lib/python3.6/dist-packages/keras/backend/tensorflow_backend.py:74: The name tf.get_default_graph is deprecated. Please use tf.compat.v1.get_default_graph instead.\n",
            "\n",
            "W0805 02:33:59.091647 140557951776640 deprecation_wrapper.py:119] From /usr/local/lib/python3.6/dist-packages/keras/backend/tensorflow_backend.py:517: The name tf.placeholder is deprecated. Please use tf.compat.v1.placeholder instead.\n",
            "\n",
            "W0805 02:33:59.097200 140557951776640 deprecation_wrapper.py:119] From /usr/local/lib/python3.6/dist-packages/keras/backend/tensorflow_backend.py:4138: The name tf.random_uniform is deprecated. Please use tf.random.uniform instead.\n",
            "\n",
            "W0805 02:33:59.116124 140557951776640 deprecation_wrapper.py:119] From /usr/local/lib/python3.6/dist-packages/keras/backend/tensorflow_backend.py:133: The name tf.placeholder_with_default is deprecated. Please use tf.compat.v1.placeholder_with_default instead.\n",
            "\n",
            "W0805 02:33:59.127604 140557951776640 deprecation.py:506] From /usr/local/lib/python3.6/dist-packages/keras/backend/tensorflow_backend.py:3445: calling dropout (from tensorflow.python.ops.nn_ops) with keep_prob is deprecated and will be removed in a future version.\n",
            "Instructions for updating:\n",
            "Please use `rate` instead of `keep_prob`. Rate should be set to `rate = 1 - keep_prob`.\n",
            "W0805 02:33:59.619029 140557951776640 deprecation.py:323] From /usr/local/lib/python3.6/dist-packages/keras/backend/tensorflow_backend.py:2974: add_dispatch_support.<locals>.wrapper (from tensorflow.python.ops.array_ops) is deprecated and will be removed in a future version.\n",
            "Instructions for updating:\n",
            "Use tf.where in 2.0, which has the same broadcast rule as np.where\n",
            "W0805 02:34:00.052154 140557951776640 deprecation_wrapper.py:119] From /usr/local/lib/python3.6/dist-packages/keras/optimizers.py:790: The name tf.train.Optimizer is deprecated. Please use tf.compat.v1.train.Optimizer instead.\n",
            "\n",
            "W0805 02:34:00.074025 140557951776640 deprecation_wrapper.py:119] From /usr/local/lib/python3.6/dist-packages/keras/backend/tensorflow_backend.py:3376: The name tf.log is deprecated. Please use tf.math.log instead.\n",
            "\n"
          ],
          "name": "stderr"
        },
        {
          "output_type": "stream",
          "text": [
            "_________________________________________________________________\n",
            "Layer (type)                 Output Shape              Param #   \n",
            "=================================================================\n",
            "embedding_1 (Embedding)      (None, 1012, 64)          3434432   \n",
            "_________________________________________________________________\n",
            "dropout_1 (Dropout)          (None, 1012, 64)          0         \n",
            "_________________________________________________________________\n",
            "lstm_1 (LSTM)                (None, 1012, 64)          33024     \n",
            "_________________________________________________________________\n",
            "lstm_2 (LSTM)                (None, 32)                12416     \n",
            "_________________________________________________________________\n",
            "dropout_2 (Dropout)          (None, 32)                0         \n",
            "_________________________________________________________________\n",
            "dense_1 (Dense)              (None, 8)                 264       \n",
            "_________________________________________________________________\n",
            "dense_2 (Dense)              (None, 2)                 18        \n",
            "=================================================================\n",
            "Total params: 3,480,154\n",
            "Trainable params: 3,480,154\n",
            "Non-trainable params: 0\n",
            "_________________________________________________________________\n",
            "None\n"
          ],
          "name": "stdout"
        }
      ]
    },
    {
      "cell_type": "code",
      "metadata": {
        "id": "TAEAmXr0RhZy",
        "colab_type": "code",
        "outputId": "2b31f47c-4618-4e0c-8872-15353eb7fd99",
        "colab": {
          "base_uri": "https://localhost:8080/",
          "height": 436
        }
      },
      "source": [
        "%%time\n",
        "batch_size = 256\n",
        "epochs = 10\n",
        "history_useful_binary = model_useful_binary.fit(X_train_useful_binary, Y_train_useful_binary, validation_split=0.333, epochs = epochs, batch_size=batch_size, verbose = 2)"
      ],
      "execution_count": 18,
      "outputs": [
        {
          "output_type": "stream",
          "text": [
            "Train on 20163 samples, validate on 10067 samples\n",
            "Epoch 1/10\n",
            " - 405s - loss: 1.6017 - mean_squared_error: 0.2401 - acc: 0.5760 - val_loss: 0.8567 - val_mean_squared_error: 0.1654 - val_acc: 0.8232\n",
            "Epoch 2/10\n",
            " - 400s - loss: 0.6495 - mean_squared_error: 0.1414 - acc: 0.8338 - val_loss: 0.3813 - val_mean_squared_error: 0.0785 - val_acc: 0.9035\n",
            "Epoch 3/10\n",
            " - 403s - loss: 0.4162 - mean_squared_error: 0.0953 - acc: 0.8875 - val_loss: 0.3040 - val_mean_squared_error: 0.0671 - val_acc: 0.9155\n",
            "Epoch 4/10\n",
            " - 403s - loss: 0.3481 - mean_squared_error: 0.0787 - acc: 0.9078 - val_loss: 0.2892 - val_mean_squared_error: 0.0654 - val_acc: 0.9165\n",
            "Epoch 5/10\n",
            " - 404s - loss: 0.2869 - mean_squared_error: 0.0626 - acc: 0.9256 - val_loss: 0.2819 - val_mean_squared_error: 0.0684 - val_acc: 0.9076\n",
            "Epoch 6/10\n",
            " - 411s - loss: 0.2638 - mean_squared_error: 0.0577 - acc: 0.9304 - val_loss: 0.2977 - val_mean_squared_error: 0.0728 - val_acc: 0.9024\n",
            "Epoch 7/10\n",
            " - 392s - loss: 0.2579 - mean_squared_error: 0.0557 - acc: 0.9312 - val_loss: 0.2892 - val_mean_squared_error: 0.0698 - val_acc: 0.9089\n",
            "Epoch 8/10\n",
            " - 385s - loss: 0.2284 - mean_squared_error: 0.0468 - acc: 0.9440 - val_loss: 0.2980 - val_mean_squared_error: 0.0745 - val_acc: 0.9013\n",
            "Epoch 9/10\n",
            " - 383s - loss: 0.1978 - mean_squared_error: 0.0403 - acc: 0.9507 - val_loss: 0.2880 - val_mean_squared_error: 0.0704 - val_acc: 0.9078\n",
            "Epoch 10/10\n",
            " - 387s - loss: 0.1928 - mean_squared_error: 0.0386 - acc: 0.9531 - val_loss: 0.2982 - val_mean_squared_error: 0.0758 - val_acc: 0.8981\n",
            "CPU times: user 1h 42min 26s, sys: 9min 55s, total: 1h 52min 21s\n",
            "Wall time: 1h 6min 14s\n"
          ],
          "name": "stdout"
        }
      ]
    },
    {
      "cell_type": "code",
      "metadata": {
        "id": "GsVZONqnUlKU",
        "colab_type": "code",
        "outputId": "de5377ec-6bff-4a9d-b71c-5a33e1993dd4",
        "colab": {
          "base_uri": "https://localhost:8080/",
          "height": 545
        }
      },
      "source": [
        "import matplotlib.pyplot as plt \n",
        "acc = history_useful_binary.history['acc']\n",
        "\n",
        "val_acc = history_useful_binary.history['val_acc']\n",
        "loss = history_useful_binary.history['loss']\n",
        "val_loss = history_useful_binary.history['val_loss']\n",
        "epochs = range(len(acc))\n",
        "\n",
        "plt.plot(epochs, acc, 'bo', label='Training acc')\n",
        "plt.plot(epochs, val_acc, 'b', label='Validation acc')\n",
        "plt.title('Training and validation accuracy')\n",
        "plt.legend()\n",
        "plt.figure()\n",
        "plt.plot(epochs, loss, 'bo', label='Training loss')\n",
        "plt.plot(epochs, val_loss, 'b', label='Validation loss')\n",
        "plt.title('Training and validation loss')\n",
        "plt.legend()\n",
        "plt.show()"
      ],
      "execution_count": 19,
      "outputs": [
        {
          "output_type": "display_data",
          "data": {
            "image/png": "[encoded data removed]",
            "text/plain": [
              "<Figure size 432x288 with 1 Axes>"
            ]
          },
          "metadata": {
            "tags": []
          }
        },
        {
          "output_type": "display_data",
          "data": {
            "image/png": "[encoded data removed]",
            "text/plain": [
              "<Figure size 432x288 with 1 Axes>"
            ]
          },
          "metadata": {
            "tags": []
          }
        }
      ]
    },
    {
      "cell_type": "code",
      "metadata": {
        "id": "xulyOEYdzf7l",
        "colab_type": "code",
        "colab": {}
      },
      "source": [
        "loss_ub, mse_ub, acc_ub = model_useful_binary.evaluate(X_test_useful_binary, Y_test_useful_binary, verbose = 2, batch_size = batch_size)"
      ],
      "execution_count": 0,
      "outputs": []
    },
    {
      "cell_type": "code",
      "metadata": {
        "id": "5TogprJzz5Ue",
        "colab_type": "code",
        "outputId": "733d95e2-9880-49e2-c6f0-016d92ea41cc",
        "colab": {
          "base_uri": "https://localhost:8080/",
          "height": 69
        }
      },
      "source": [
        "print(loss_ub) #binary cross entropy\n",
        "print(mse_ub)\n",
        "print(acc_ub)"
      ],
      "execution_count": 21,
      "outputs": [
        {
          "output_type": "stream",
          "text": [
            "0.28468006854092537\n",
            "0.07187130984601917\n",
            "0.9035594358069533\n"
          ],
          "name": "stdout"
        }
      ]
    },
    {
      "cell_type": "code",
      "metadata": {
        "id": "ebKhNmVR2yIk",
        "colab_type": "code",
        "outputId": "894a4c81-8eb9-4bbc-fb0b-bb60d190345c",
        "colab": {
          "base_uri": "https://localhost:8080/",
          "height": 296
        }
      },
      "source": [
        "import matplotlib.pyplot as plt\n",
        "\n",
        "plt.plot(history_useful_binary.history['acc'], '.-')\n",
        "plt.plot(history_useful_binary.history['val_acc'], '.-')\n",
        "plt.plot(history_useful_binary.history['loss'], '.-')\n",
        "plt.plot(history_useful_binary.history['val_loss'], '.-')\n",
        "\n",
        "plt.title('training')\n",
        "plt.xlabel('epoch')\n",
        "plt.legend(['acc','val_acc','loss','val_loss'], loc='best')\n",
        "\n",
        "del plt"
      ],
      "execution_count": 22,
      "outputs": [
        {
          "output_type": "display_data",
          "data": {
            "image/png": "[encoded data removed]",
            "text/plain": [
              "<Figure size 432x288 with 1 Axes>"
            ]
          },
          "metadata": {
            "tags": []
          }
        }
      ]
    },
    {
      "cell_type": "code",
      "metadata": {
        "id": "xf5P4LsJ3IYn",
        "colab_type": "code",
        "colab": {}
      },
      "source": [
        "y_pred = model_useful_binary.predict(X_test_useful_binary[0:200])\n"
      ],
      "execution_count": 0,
      "outputs": []
    },
    {
      "cell_type": "code",
      "metadata": {
        "id": "RIfsQVDu3HWO",
        "colab_type": "code",
        "outputId": "7d426ea9-ff17-4073-edec-1d1fad49a578",
        "colab": {
          "base_uri": "https://localhost:8080/",
          "height": 284
        }
      },
      "source": [
        "import matplotlib.pyplot as plt\n",
        "fig, ax = plt.subplots()\n",
        "ax.scatter(Y_test_useful_binary[0:200], y_pred)\n",
        "ax.plot([Y_test_useful_binary[0:200].min(), Y_test_useful_binary[0:200].max()], [Y_test_useful_binary[0:200].min(), Y_test_useful_binary[0:200].max()], 'k--', lw=4)\n",
        "ax.set_xlabel('Measured')\n",
        "ax.set_ylabel('Predicted')\n",
        "plt.show()"
      ],
      "execution_count": 24,
      "outputs": [
        {
          "output_type": "display_data",
          "data": {
            "image/png": "[encoded data removed]",
            "text/plain": [
              "<Figure size 432x288 with 1 Axes>"
            ]
          },
          "metadata": {
            "tags": []
          }
        }
      ]
    },
    {
      "cell_type": "code",
      "metadata": {
        "id": "2tWXFpPGIDWK",
        "colab_type": "code",
        "colab": {}
      },
      "source": [
        ""
      ],
      "execution_count": 0,
      "outputs": []
    }
  ]
}