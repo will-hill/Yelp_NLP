{
 "cells": [
  {
   "cell_type": "code",
   "execution_count": 1,
   "metadata": {
    "scrolled": true
   },
   "outputs": [
    {
     "name": "stdout",
     "output_type": "stream",
     "text": [
      "Interactive namespace is empty.\n"
     ]
    }
   ],
   "source": [
    "%who"
   ]
  },
  {
   "cell_type": "markdown",
   "metadata": {},
   "source": [
    "# Data Prep"
   ]
  },
  {
   "cell_type": "code",
   "execution_count": 2,
   "metadata": {},
   "outputs": [
    {
     "name": "stdout",
     "output_type": "stream",
     "text": [
      "total 24502744\r\n",
      "-rw-r--r--  1 Bhill  staff  5347475638 Nov 15  2018 review.json\r\n",
      "-rw-r--r--@ 1 Bhill  staff  3852588272 Jul 10 22:24 BAK.yelp_dataset.tar\r\n",
      "-rw-r--r--  1 Bhill  staff  2485747393 Nov 15  2018 user.json\r\n",
      "-rw-r--r--  1 Bhill  staff   408807658 Nov 15  2018 checkin.json\r\n",
      "-rw-r--r--  1 Bhill  staff   244535478 Nov 15  2018 tip.json\r\n",
      "-rw-r--r--  1 Bhill  staff   138279749 Nov 15  2018 business.json\r\n",
      "-rw-r--r--  1 Bhill  staff    25661152 Jan 11  2019 photo.json\r\n",
      "-rw-r--r--@ 1 Bhill  staff      111822 Jan 14  2019 Yelp_Dataset_Challenge_Round_13.pdf\r\n",
      "-rw-r--r--@ 1 Bhill  staff      101186 Jan 14  2019 Dataset_Challenge_Dataset_Agreement.pdf\r\n",
      "-rw-r--r--  1 Bhill  staff       53270 Aug  2 21:58 1.Data_Preparation.ipynb\r\n",
      "-rw-r--r--  1 Bhill  staff        3280 Aug  2 21:00 0.Code_Plan_for_Yelp-NLP.ipynb\r\n"
     ]
    }
   ],
   "source": [
    "!ls -lS "
   ]
  },
  {
   "cell_type": "markdown",
   "metadata": {},
   "source": [
    "# reviews\n",
    "4 seconds"
   ]
  },
  {
   "cell_type": "code",
   "execution_count": 4,
   "metadata": {},
   "outputs": [
    {
     "name": "stdout",
     "output_type": "stream",
     "text": [
      " 6685900 review.json\n",
      "CPU times: user 33.2 ms, sys: 13.2 ms, total: 46.4 ms\n",
      "Wall time: 3.79 s\n"
     ]
    }
   ],
   "source": [
    "%time !wc -l review.json"
   ]
  },
  {
   "cell_type": "markdown",
   "metadata": {},
   "source": [
    "### test if each line is a view: confirmed \n",
    "6 seconds"
   ]
  },
  {
   "cell_type": "code",
   "execution_count": 5,
   "metadata": {},
   "outputs": [
    {
     "name": "stdout",
     "output_type": "stream",
     "text": [
      "0\n",
      "CPU times: user 4.42 s, sys: 887 ms, total: 5.3 s\n",
      "Wall time: 5.3 s\n"
     ]
    }
   ],
   "source": [
    "%%time \n",
    "\n",
    "count = 0\n",
    "with open('review.json', 'r') as review:\n",
    "    for line in review:\n",
    "        if not line.startswith('{'):\n",
    "            count += 1\n",
    "print(count)\n",
    "del count"
   ]
  },
  {
   "cell_type": "markdown",
   "metadata": {},
   "source": [
    "### try importing a few lines into pandas"
   ]
  },
  {
   "cell_type": "code",
   "execution_count": 1,
   "metadata": {},
   "outputs": [],
   "source": [
    "data_list = list()\n",
    "columns = ['review_id', 'user_id', 'business_id', 'stars', 'useful', 'funny', 'cool', 'text', 'date']"
   ]
  },
  {
   "cell_type": "markdown",
   "metadata": {},
   "source": [
    "10 seconds"
   ]
  },
  {
   "cell_type": "code",
   "execution_count": 3,
   "metadata": {},
   "outputs": [
    {
     "name": "stdout",
     "output_type": "stream",
     "text": [
      "CPU times: user 7.5 s, sys: 465 ms, total: 7.96 s\n",
      "Wall time: 7.96 s\n"
     ]
    }
   ],
   "source": [
    "%%time\n",
    "# inspired by https://thedatafrog.com/text-mining-pandas-yelp/\n",
    "with open('review.json') as reviews:   \n",
    "    import json\n",
    "    REVIEWS_TO_INGEST = 1000000\n",
    "    for i, line in enumerate(reviews):\n",
    "    \n",
    "        if i==REVIEWS_TO_INGEST:\n",
    "            break    \n",
    "        \n",
    "        # convert json line to di t\n",
    "        data = json.loads(line)\n",
    "        data_list.append([data['review_id'], \n",
    "                          data['user_id'], \n",
    "                          data['business_id'], \n",
    "                          data['stars'], \n",
    "                          data['useful'], \n",
    "                          data['funny'], \n",
    "                          data['cool'], \n",
    "                          data['text'], \n",
    "                          data['date']])"
   ]
  },
  {
   "cell_type": "code",
   "execution_count": 4,
   "metadata": {},
   "outputs": [
    {
     "name": "stdout",
     "output_type": "stream",
     "text": [
      "REVIEWS_TO_INGEST\t columns\t data\t data_list\t i\t json\t line\t reviews\t \n"
     ]
    }
   ],
   "source": [
    "%who"
   ]
  },
  {
   "cell_type": "code",
   "execution_count": 32,
   "metadata": {},
   "outputs": [
    {
     "name": "stdout",
     "output_type": "stream",
     "text": [
      "REVIEWS_TO_INGEST\t async_\t business_id\t code_obj\t cool\t data\t date\t df\t funny\t \n",
      "i\t json\t line\t old_excepthook\t outflag\t result\t review_id\t reviews\t self\t \n",
      "stars\t text\t useful\t user_id\t \n"
     ]
    }
   ],
   "source": [
    "import pandas        \n",
    "df = pandas.DataFrame(data_list, columns=columns)        \n",
    "del data_list, columns, pandas\n",
    "%who"
   ]
  },
  {
   "cell_type": "code",
   "execution_count": 33,
   "metadata": {},
   "outputs": [
    {
     "name": "stdout",
     "output_type": "stream",
     "text": [
      "REVIEWS_TO_INGEST\t async_\t business_id\t code_obj\t cool\t data\t date\t df\t funny\t \n",
      "i\t json\t line\t old_excepthook\t outflag\t result\t review_id\t reviews\t self\t \n",
      "stars\t text\t useful\t user_id\t \n"
     ]
    }
   ],
   "source": [
    "%who"
   ]
  },
  {
   "cell_type": "code",
   "execution_count": 25,
   "metadata": {},
   "outputs": [
    {
     "data": {
      "text/html": [
       "<div>\n",
       "<style scoped>\n",
       "    .dataframe tbody tr th:only-of-type {\n",
       "        vertical-align: middle;\n",
       "    }\n",
       "\n",
       "    .dataframe tbody tr th {\n",
       "        vertical-align: top;\n",
       "    }\n",
       "\n",
       "    .dataframe thead th {\n",
       "        text-align: right;\n",
       "    }\n",
       "</style>\n",
       "<table border=\"1\" class=\"dataframe\">\n",
       "  <thead>\n",
       "    <tr style=\"text-align: right;\">\n",
       "      <th></th>\n",
       "      <th>review_id</th>\n",
       "      <th>user_id</th>\n",
       "      <th>business_id</th>\n",
       "      <th>stars</th>\n",
       "      <th>useful</th>\n",
       "      <th>funny</th>\n",
       "      <th>cool</th>\n",
       "      <th>text</th>\n",
       "      <th>date</th>\n",
       "    </tr>\n",
       "  </thead>\n",
       "  <tbody>\n",
       "  </tbody>\n",
       "</table>\n",
       "</div>"
      ],
      "text/plain": [
       "Empty DataFrame\n",
       "Columns: [review_id, user_id, business_id, stars, useful, funny, cool, text, date]\n",
       "Index: []"
      ]
     },
     "execution_count": 25,
     "metadata": {},
     "output_type": "execute_result"
    }
   ],
   "source": [
    "df.head(3)"
   ]
  },
  {
   "cell_type": "code",
   "execution_count": 65,
   "metadata": {},
   "outputs": [
    {
     "data": {
      "text/html": [
       "<div>\n",
       "<style scoped>\n",
       "    .dataframe tbody tr th:only-of-type {\n",
       "        vertical-align: middle;\n",
       "    }\n",
       "\n",
       "    .dataframe tbody tr th {\n",
       "        vertical-align: top;\n",
       "    }\n",
       "\n",
       "    .dataframe thead th {\n",
       "        text-align: right;\n",
       "    }\n",
       "</style>\n",
       "<table border=\"1\" class=\"dataframe\">\n",
       "  <thead>\n",
       "    <tr style=\"text-align: right;\">\n",
       "      <th></th>\n",
       "      <th>review_id</th>\n",
       "      <th>user_id</th>\n",
       "      <th>business_id</th>\n",
       "      <th>stars</th>\n",
       "      <th>useful</th>\n",
       "      <th>funny</th>\n",
       "      <th>cool</th>\n",
       "      <th>text</th>\n",
       "      <th>date</th>\n",
       "    </tr>\n",
       "  </thead>\n",
       "  <tbody>\n",
       "    <tr>\n",
       "      <th>0</th>\n",
       "      <td>Q1sbwvVQXV2734tPgoKj4Q</td>\n",
       "      <td>hG7b0MtEbXx5QzbzE6C_VA</td>\n",
       "      <td>ujmEBvifdJM6h6RLv4wQIg</td>\n",
       "      <td>1.0</td>\n",
       "      <td>6</td>\n",
       "      <td>1</td>\n",
       "      <td>0</td>\n",
       "      <td>Total bill for this horrible service? Over $8G...</td>\n",
       "      <td>2013-05-07 04:34:36</td>\n",
       "    </tr>\n",
       "    <tr>\n",
       "      <th>1</th>\n",
       "      <td>GJXCdrto3ASJOqKeVWPi6Q</td>\n",
       "      <td>yXQM5uF2jS6es16SJzNHfg</td>\n",
       "      <td>NZnhc2sEQy3RmzKTZnqtwQ</td>\n",
       "      <td>5.0</td>\n",
       "      <td>0</td>\n",
       "      <td>0</td>\n",
       "      <td>0</td>\n",
       "      <td>I *adore* Travis at the Hard Rock's new Kelly ...</td>\n",
       "      <td>2017-01-14 21:30:33</td>\n",
       "    </tr>\n",
       "    <tr>\n",
       "      <th>2</th>\n",
       "      <td>2TzJjDVDEuAW6MR5Vuc1ug</td>\n",
       "      <td>n6-Gk65cPZL6Uz8qRm3NYw</td>\n",
       "      <td>WTqjgwHlXbSFevF32_DJVw</td>\n",
       "      <td>5.0</td>\n",
       "      <td>3</td>\n",
       "      <td>0</td>\n",
       "      <td>0</td>\n",
       "      <td>I have to say that this office really has it t...</td>\n",
       "      <td>2016-11-09 20:09:03</td>\n",
       "    </tr>\n",
       "  </tbody>\n",
       "</table>\n",
       "</div>"
      ],
      "text/plain": [
       "                review_id                 user_id             business_id  \\\n",
       "0  Q1sbwvVQXV2734tPgoKj4Q  hG7b0MtEbXx5QzbzE6C_VA  ujmEBvifdJM6h6RLv4wQIg   \n",
       "1  GJXCdrto3ASJOqKeVWPi6Q  yXQM5uF2jS6es16SJzNHfg  NZnhc2sEQy3RmzKTZnqtwQ   \n",
       "2  2TzJjDVDEuAW6MR5Vuc1ug  n6-Gk65cPZL6Uz8qRm3NYw  WTqjgwHlXbSFevF32_DJVw   \n",
       "\n",
       "   stars  useful  funny  cool  \\\n",
       "0    1.0       6      1     0   \n",
       "1    5.0       0      0     0   \n",
       "2    5.0       3      0     0   \n",
       "\n",
       "                                                text                 date  \n",
       "0  Total bill for this horrible service? Over $8G...  2013-05-07 04:34:36  \n",
       "1  I *adore* Travis at the Hard Rock's new Kelly ...  2017-01-14 21:30:33  \n",
       "2  I have to say that this office really has it t...  2016-11-09 20:09:03  "
      ]
     },
     "execution_count": 65,
     "metadata": {},
     "output_type": "execute_result"
    }
   ],
   "source": [
    "# create the DataFrame\n",
    "# df.to_hdf('revie20ws.h5','reviews')\n",
    "reviews.close()    \n",
    "df.head(3)"
   ]
  },
  {
   "cell_type": "markdown",
   "metadata": {},
   "source": [
    "### univariate stats"
   ]
  },
  {
   "cell_type": "code",
   "execution_count": 63,
   "metadata": {},
   "outputs": [
    {
     "data": {
      "text/html": [
       "<div>\n",
       "<style scoped>\n",
       "    .dataframe tbody tr th:only-of-type {\n",
       "        vertical-align: middle;\n",
       "    }\n",
       "\n",
       "    .dataframe tbody tr th {\n",
       "        vertical-align: top;\n",
       "    }\n",
       "\n",
       "    .dataframe thead th {\n",
       "        text-align: right;\n",
       "    }\n",
       "</style>\n",
       "<table border=\"1\" class=\"dataframe\">\n",
       "  <thead>\n",
       "    <tr style=\"text-align: right;\">\n",
       "      <th></th>\n",
       "      <th>stars</th>\n",
       "      <th>useful</th>\n",
       "      <th>funny</th>\n",
       "      <th>cool</th>\n",
       "    </tr>\n",
       "  </thead>\n",
       "  <tbody>\n",
       "    <tr>\n",
       "      <th>count</th>\n",
       "      <td>100.000000</td>\n",
       "      <td>100.000000</td>\n",
       "      <td>100.000000</td>\n",
       "      <td>100.00000</td>\n",
       "    </tr>\n",
       "    <tr>\n",
       "      <th>mean</th>\n",
       "      <td>3.360000</td>\n",
       "      <td>1.260000</td>\n",
       "      <td>0.620000</td>\n",
       "      <td>0.60000</td>\n",
       "    </tr>\n",
       "    <tr>\n",
       "      <th>std</th>\n",
       "      <td>1.605043</td>\n",
       "      <td>2.195588</td>\n",
       "      <td>1.932079</td>\n",
       "      <td>1.68175</td>\n",
       "    </tr>\n",
       "    <tr>\n",
       "      <th>min</th>\n",
       "      <td>1.000000</td>\n",
       "      <td>0.000000</td>\n",
       "      <td>0.000000</td>\n",
       "      <td>0.00000</td>\n",
       "    </tr>\n",
       "    <tr>\n",
       "      <th>25%</th>\n",
       "      <td>1.750000</td>\n",
       "      <td>0.000000</td>\n",
       "      <td>0.000000</td>\n",
       "      <td>0.00000</td>\n",
       "    </tr>\n",
       "    <tr>\n",
       "      <th>50%</th>\n",
       "      <td>4.000000</td>\n",
       "      <td>0.000000</td>\n",
       "      <td>0.000000</td>\n",
       "      <td>0.00000</td>\n",
       "    </tr>\n",
       "    <tr>\n",
       "      <th>75%</th>\n",
       "      <td>5.000000</td>\n",
       "      <td>1.000000</td>\n",
       "      <td>0.000000</td>\n",
       "      <td>1.00000</td>\n",
       "    </tr>\n",
       "    <tr>\n",
       "      <th>max</th>\n",
       "      <td>5.000000</td>\n",
       "      <td>11.000000</td>\n",
       "      <td>14.000000</td>\n",
       "      <td>11.00000</td>\n",
       "    </tr>\n",
       "  </tbody>\n",
       "</table>\n",
       "</div>"
      ],
      "text/plain": [
       "            stars      useful       funny       cool\n",
       "count  100.000000  100.000000  100.000000  100.00000\n",
       "mean     3.360000    1.260000    0.620000    0.60000\n",
       "std      1.605043    2.195588    1.932079    1.68175\n",
       "min      1.000000    0.000000    0.000000    0.00000\n",
       "25%      1.750000    0.000000    0.000000    0.00000\n",
       "50%      4.000000    0.000000    0.000000    0.00000\n",
       "75%      5.000000    1.000000    0.000000    1.00000\n",
       "max      5.000000   11.000000   14.000000   11.00000"
      ]
     },
     "execution_count": 63,
     "metadata": {},
     "output_type": "execute_result"
    }
   ],
   "source": [
    "df.describe()"
   ]
  },
  {
   "cell_type": "markdown",
   "metadata": {},
   "source": [
    "### meta data"
   ]
  },
  {
   "cell_type": "code",
   "execution_count": 64,
   "metadata": {},
   "outputs": [
    {
     "name": "stdout",
     "output_type": "stream",
     "text": [
      "<class 'pandas.core.frame.DataFrame'>\n",
      "RangeIndex: 100 entries, 0 to 99\n",
      "Data columns (total 9 columns):\n",
      "review_id      100 non-null object\n",
      "user_id        100 non-null object\n",
      "business_id    100 non-null object\n",
      "stars          100 non-null float64\n",
      "useful         100 non-null int64\n",
      "funny          100 non-null int64\n",
      "cool           100 non-null int64\n",
      "text           100 non-null object\n",
      "date           100 non-null object\n",
      "dtypes: float64(1), int64(3), object(5)\n",
      "memory usage: 7.1+ KB\n"
     ]
    }
   ],
   "source": [
    "df.info()"
   ]
  },
  {
   "cell_type": "code",
   "execution_count": 9,
   "metadata": {},
   "outputs": [
    {
     "name": "stdout",
     "output_type": "stream",
     "text": [
      "{\"caption\": \"\", \"photo_id\": \"MllA1nNpcp1kDteVg6OGUw\", \"business_id\": \"rcaPajgKOJC2vo_l3xa42A\", \"label\": \"inside\"}\r\n",
      "{\"caption\": \"\", \"photo_id\": \"YjxBE88Bf6CmTEF2LP1UNA\", \"business_id\": \"Kn23LDd740SBVJ7mum0fwg\", \"label\": \"inside\"}\r\n",
      "{\"caption\": \"\", \"photo_id\": \"1f7izSjM0WjkDRIVbPy1yw\", \"business_id\": \"ZkGDCVKSdf8m76cnnalL-A\", \"label\": \"food\"}\r\n",
      "{\"caption\": \"\", \"photo_id\": \"NcSlcDTEEeOaixotOPk-rA\", \"business_id\": \"bF8gv7k_rwZtiDLP2ZB04w\", \"label\": \"inside\"}\r\n",
      "{\"caption\": \"\", \"photo_id\": \"5IiIo5UKEW0lWqZ6sWrY_A\", \"business_id\": \"50Anorn0DJXFhBr9a9_gHQ\", \"label\": \"inside\"}\r\n"
     ]
    }
   ],
   "source": [
    "!head -5 yelp_dataset/photo.json"
   ]
  },
  {
   "cell_type": "code",
   "execution_count": 11,
   "metadata": {},
   "outputs": [
    {
     "name": "stdout",
     "output_type": "stream",
     "text": [
      "{\"business_id\":\"1SWheh84yJXfytovILXOAQ\",\"name\":\"Arizona Biltmore Golf Club\",\"address\":\"2818 E Camino Acequia Drive\",\"city\":\"Phoenix\",\"state\":\"AZ\",\"postal_code\":\"85016\",\"latitude\":33.5221425,\"longitude\":-112.0184807,\"stars\":3.0,\"review_count\":5,\"is_open\":0,\"attributes\":{\"GoodForKids\":\"False\"},\"categories\":\"Golf, Active Life\",\"hours\":null}\r\n",
      "{\"business_id\":\"QXAEGFB4oINsVuTFxEYKFQ\",\"name\":\"Emerald Chinese Restaurant\",\"address\":\"30 Eglinton Avenue W\",\"city\":\"Mississauga\",\"state\":\"ON\",\"postal_code\":\"L5R 3E7\",\"latitude\":43.6054989743,\"longitude\":-79.652288909,\"stars\":2.5,\"review_count\":128,\"is_open\":1,\"attributes\":{\"RestaurantsReservations\":\"True\",\"GoodForMeal\":\"{'dessert': False, 'latenight': False, 'lunch': True, 'dinner': True, 'brunch': False, 'breakfast': False}\",\"BusinessParking\":\"{'garage': False, 'street': False, 'validated': False, 'lot': True, 'valet': False}\",\"Caters\":\"True\",\"NoiseLevel\":\"u'loud'\",\"RestaurantsTableService\":\"True\",\"RestaurantsTakeOut\":\"True\",\"RestaurantsPriceRange2\":\"2\",\"OutdoorSeating\":\"False\",\"BikeParking\":\"False\",\"Ambience\":\"{'romantic': False, 'intimate': False, 'classy': False, 'hipster': False, 'divey': False, 'touristy': False, 'trendy': False, 'upscale': False, 'casual': True}\",\"HasTV\":\"False\",\"WiFi\":\"u'no'\",\"GoodForKids\":\"True\",\"Alcohol\":\"u'full_bar'\",\"RestaurantsAttire\":\"u'casual'\",\"RestaurantsGoodForGroups\":\"True\",\"RestaurantsDelivery\":\"False\"},\"categories\":\"Specialty Food, Restaurants, Dim Sum, Imported Food, Food, Chinese, Ethnic Food, Seafood\",\"hours\":{\"Monday\":\"9:0-0:0\",\"Tuesday\":\"9:0-0:0\",\"Wednesday\":\"9:0-0:0\",\"Thursday\":\"9:0-0:0\",\"Friday\":\"9:0-1:0\",\"Saturday\":\"9:0-1:0\",\"Sunday\":\"9:0-0:0\"}}\r\n"
     ]
    }
   ],
   "source": [
    "!head -2 yelp_dataset/business.json"
   ]
  },
  {
   "cell_type": "code",
   "execution_count": 14,
   "metadata": {},
   "outputs": [
    {
     "name": "stdout",
     "output_type": "stream",
     "text": [
      "{\"user_id\":\"UPw5DWs_b-e2JRBS-t37Ag\",\"business_id\":\"VaKXUpmWTTWDKbpJ3aQdMw\",\"text\":\"Great for watching games, ufc, and whatever else tickles yer fancy\",\"date\":\"2014-03-27 03:51:24\",\"compliment_count\":0}\r\n",
      "{\"user_id\":\"Ocha4kZBHb4JK0lOWvE0sg\",\"business_id\":\"OPiPeoJiv92rENwbq76orA\",\"text\":\"Happy Hour 2-4 daily with 1\\/2 price drinks and slushes AND after 8 half price shakes.  They actually have a peanut butter and bacon shake.\",\"date\":\"2013-05-25 06:00:56\",\"compliment_count\":0}\r\n",
      "{\"user_id\":\"jRyO2V1pA4CdVVqCIOPc1Q\",\"business_id\":\"5KheTjYPu1HcQzQFtm4_vw\",\"text\":\"Good chips and salsa. Loud at times. Good service. Bathrooms AWFUL. So that tanks my view on this place.\",\"date\":\"2011-12-26 01:46:17\",\"compliment_count\":0}\r\n"
     ]
    }
   ],
   "source": [
    "!head -3 yelp_dataset/tip.json"
   ]
  },
  {
   "cell_type": "code",
   "execution_count": 15,
   "metadata": {},
   "outputs": [
    {
     "name": "stdout",
     "output_type": "stream",
     "text": [
      "{\"business_id\":\"--1UhMGODdWsrMastO9DZw\",\"date\":\"2016-04-26 19:49:16, 2016-08-30 18:36:57, 2016-10-15 02:45:18, 2016-11-18 01:54:50, 2017-04-20 18:39:06, 2017-05-03 17:58:02\"}\r\n",
      "{\"business_id\":\"--6MefnULPED_I942VcFNA\",\"date\":\"2011-06-04 18:22:23, 2011-07-23 23:51:33, 2012-04-15 01:07:50, 2012-05-06 23:08:42, 2012-06-08 22:43:12, 2012-08-06 23:20:52, 2012-08-19 18:30:44, 2013-01-27 23:49:51, 2013-03-01 01:22:29, 2013-03-23 21:53:47, 2013-03-24 01:11:51, 2013-05-20 00:12:25, 2013-06-29 22:50:57, 2013-07-01 15:58:04, 2013-07-01 22:35:42, 2013-07-28 21:46:49, 2013-08-02 22:06:03, 2013-08-11 18:42:03, 2013-08-23 01:29:56, 2013-09-17 17:40:36, 2013-09-20 23:36:30, 2013-09-24 23:50:18, 2013-10-12 23:11:13, 2013-11-24 18:40:15, 2013-12-12 02:52:54, 2013-12-26 17:33:17, 2013-12-30 00:27:37, 2014-03-28 23:38:23, 2014-04-25 22:48:11, 2014-04-28 22:56:07, 2014-05-03 01:02:47, 2014-05-19 17:08:37, 2014-06-16 00:04:51, 2014-06-22 17:21:27, 2014-07-04 19:13:34, 2014-07-11 15:46:29, 2014-07-25 20:55:48, 2014-08-23 22:27:42, 2014-08-31 01:43:10, 2014-09-06 16:29:55, 2014-09-13 23:34:42, 2014-10-11 23:20:09, 2014-11-19 19:05:56, 2014-11-30 23:27:15, 2015-01-04 01:06:47, 2015-01-04 01:08:08, 2015-01-11 00:16:13, 2015-01-17 23:42:09, 2015-01-17 23:46:42, 2015-01-26 00:05:15, 2015-02-18 17:21:01, 2015-03-22 22:26:09, 2015-03-28 22:47:50, 2015-04-03 21:49:35, 2015-04-05 18:52:21, 2015-04-11 22:59:11, 2015-04-12 22:52:29, 2015-04-24 00:02:22, 2015-05-09 21:45:34, 2015-05-16 22:53:44, 2015-06-07 17:54:51, 2015-07-01 16:24:54, 2015-07-10 22:13:09, 2015-07-11 22:16:37, 2015-07-18 00:27:00, 2015-08-29 23:51:50, 2015-09-07 22:57:51, 2015-09-27 23:54:33, 2015-10-11 22:03:40, 2015-10-12 15:08:23, 2015-10-23 01:34:21, 2015-10-25 00:36:12, 2015-11-09 18:55:17, 2015-11-15 00:01:47, 2015-12-16 19:59:00, 2015-12-27 01:00:59, 2016-01-23 19:05:37, 2016-01-30 23:54:10, 2016-02-07 03:19:01, 2016-02-13 17:49:41, 2016-02-16 00:16:10, 2016-03-27 21:14:50, 2016-04-02 16:29:16, 2016-04-02 17:17:50, 2016-04-16 22:27:48, 2016-04-27 23:54:21, 2016-05-07 21:52:13, 2016-05-21 22:14:00, 2016-06-04 23:06:32, 2016-06-11 22:23:48, 2016-07-01 02:59:31, 2016-07-02 23:01:47, 2016-07-06 22:27:12, 2016-07-08 00:49:30, 2016-07-16 23:53:17, 2016-07-26 17:15:19, 2016-08-01 22:46:32, 2016-08-02 00:14:10, 2016-08-18 03:19:16, 2016-08-20 12:47:15, 2016-08-21 12:24:31, 2016-09-15 20:31:53, 2016-10-03 01:04:15, 2016-10-03 01:04:25, 2016-11-26 00:48:51, 2016-12-24 17:56:29, 2016-12-31 18:29:26, 2017-01-09 01:07:12, 2017-01-15 03:53:00, 2017-01-15 17:30:16, 2017-01-28 00:44:48, 2017-02-10 20:18:01, 2017-02-18 23:13:18, 2017-02-19 00:30:24, 2017-02-20 02:04:48, 2017-04-16 22:46:55, 2017-04-27 04:38:34, 2017-05-13 22:51:49, 2017-05-19 23:03:19, 2017-05-31 22:46:11, 2017-05-31 22:46:33, 2017-07-28 23:38:19, 2017-08-13 23:42:59, 2017-08-17 23:27:33, 2017-09-03 17:30:25, 2017-09-03 22:59:25, 2017-09-16 21:12:41, 2017-09-18 00:36:34, 2017-09-28 23:28:02, 2017-10-01 13:02:01, 2017-10-08 00:00:05, 2017-10-08 15:07:36, 2017-10-09 00:44:22, 2017-10-15 22:31:47, 2017-10-17 23:31:26, 2017-10-17 23:32:10, 2017-11-04 22:48:12, 2017-11-10 20:50:25, 2017-12-17 23:02:32, 2017-12-21 00:55:13, 2017-12-29 01:53:12, 2017-12-29 01:53:52, 2018-01-26 00:47:30, 2018-03-30 16:49:10, 2018-04-07 16:27:21, 2018-04-24 23:45:19, 2018-05-05 18:27:12, 2018-05-05 22:27:18, 2018-05-14 23:47:27, 2018-05-20 23:49:45, 2018-05-25 16:39:21, 2018-06-04 21:40:47, 2018-06-04 21:40:58, 2018-06-12 22:27:30, 2018-06-20 22:53:27, 2018-07-05 16:15:18, 2018-07-08 18:40:13, 2018-07-08 20:41:46, 2018-07-18 20:58:49, 2018-07-24 23:35:44, 2018-08-09 00:08:56, 2018-08-20 22:29:00, 2018-08-31 17:47:54, 2018-09-13 23:08:09, 2018-09-15 22:16:51, 2018-10-21 18:09:02, 2018-10-21 22:58:14\"}\r\n"
     ]
    }
   ],
   "source": [
    "!head -2 yelp_dataset/checkin.json"
   ]
  },
  {
   "cell_type": "code",
   "execution_count": 16,
   "metadata": {},
   "outputs": [
    {
     "name": "stdout",
     "output_type": "stream",
     "text": [
      "{\"user_id\":\"l6BmjZMeQD3rDxWUbiAiow\",\"name\":\"Rashmi\",\"review_count\":95,\"yelping_since\":\"2013-10-08 23:11:33\",\"useful\":84,\"funny\":17,\"cool\":25,\"elite\":\"2015,2016,2017\",\"friends\":\"c78V-rj8NQcQjOI8KP3UEA, alRMgPcngYSCJ5naFRBz5g, ajcnq75Z5xxkvUSmmJ1bCg, BSMAmp2-wMzCkhTfq9ToNg, jka10dk9ygX76hJG0gfPZQ, dut0e4xvme7QSlesOycHQA, l4l5lBnK356zBua7B-UJ6Q, 0HicMOOs-M_gl2eO-zES4Q, _uI57wL2fLyftrcSFpfSGQ, T4_Qd0YWbC3co6WSMw4vxg, iBRoLWPtWmsI1kdbE9ORSA, xjrUcid6Ymq0DoTJELkYyw, GqadWVzJ6At-vgLzK_SKgA, DvB13VJBmSnbFXBVBsKmDA, vRP9nQkYTeNioDjtxZlVhg, gT0A1iN3eeQ8EMAjJhwQtw, 6yCWjFPtp_AD4x93WAwmnw, 1dKzpNnib-JlViKv8_Gt5g, 3Bv4_JxHXq-gVLOxYMQX0Q, ikQyfu1iViYh8T0us7wiFQ, f1GGltNaB7K5DR1jf3dOmg, tgeFUChlh7v8bZFVl2-hjQ, -9-9oyXlqsMG2he5xIWdLQ, Adj9fBPVJad8vSs-mIP7gw, Ce49RY8CKXVsTifxRYFTsw, M1_7TLi8CbdA89nFLlH4iw, wFsNv-hqbW_F5-IRqfBN6g, 0Q1L7zXHocaUZ2gsG2XJeg, cBFgmOCBdhYa0xoFEAzp_g, VrD_AgiFvzqtlR15vir3SQ, cpE-7HK514Sr5vpSen9CEQ, F1UYelhPFB-zIKlt0ygIZg, CQAL1hvsLMCzuJf9AglsXw, 1KnY1wr15WfEWIRLB9IS6g, QWFQ-kXBiLbid-lm5Jr3dQ, nymT8liFugCrM16lTy0ZfQ, qj69bdd885heDvUPCyHd2Q, DySCZZcgbdrlHgEovk5y9w, lZMJIDuvhT9Dy4KyquLXyA, b_9Gn7wS93AoPZPR0dIJqQ, N07g1IaLh0_6sUjtiSRe4w, YdfPX_7DxSnKvvdCJ57iOw, 8GYryZPD22W7WgQ8kvMkEQ, cpQmAgOWatghp14h1pn1dQ, EnchhymLYMqftCRjqvVWmw, -JdfKhFktE7Zs9BMDFcPeQ, uWhC9eof98zPkvsalgaqJw, eyTlNDDaiPatfe6mheIZ0g, VfHq0o73aKsODvfAhwAQtg, kvD5tICngLAaQDujSFWupA, dXacwEhqi9-3_XT6JeH0Og, NfU0zDaTMEQ4-X9dbQWd9A, cTHWBdjSKbctSUIvWsgFxw, 3IEtCbSDF5t7RkZ20T6s9A, HJJXTrp6UybYyPdQ9DA0JA, JaXogQFVjzGRAeBvzamBHg, NUonfKkjS1iVqnNITtgXZg, D5vaJAYp0sOrGfsj9qvsMA, H27Ecbwwu4FGAlLgICourw, S8HrLmMiE4u8FWYWkNEoTw, Io36Y3xWQcIX9rYvPcYfXQ, J5mcqh8KxYpqjaLBNlwcig, -nTB3_08g06fD0GT8AtDBQ, wMpFA46lihK8oFns_5p65A, RZGFJHeomGJCWp3xcL3ejA, ZoQSzzXoSP1RxOD4Amv9Bg, qzM0EB0SkuuGIFv0adjQAQ, HuM6vvuveken-fPZ7d4olA, H3oukHpGpn9n_mJwSDSQyQ, PkmsJsQ8FIZe8eh8c_u96g, wSByVbwME4MzgkJaFyfvNg, YEVqknoDmrHAoUbHX0nPnA, li3vsK1XAPmeJYAUTYflHQ, MKc8yXi0glbPYt0Qb4PECw, fQPH6W9fksi27gkuUPnFaA, amrCMrDsoRetYFg2kwwdFA, 84dVQ6n6r2ezNaTuc7RkKA, yW9QjWY0olv5-uRKv3t_Kw, 5XJDj7c3eoidfQ3jW18Zgw, txSc6a6pIDctvwyBeu7Aqg, HFbbDCyyqP9xPkUlcxeIdg, hTUv5oh2do6Z3OppPuuiJA, gSqonG9J4fNM-fl_fE71AA, pd9mgTFpBTg5F9x-MsczNg, j3VE22V2GcHiH8UZxfFLfw, NYXlMW-T-3V4Jqr4r-i0Wg, btxgAZedxX8IWhMifA7Xkg, -Hp5mPLiRJNFnyeX5Ygzag, P6-DwVg6-t2JuQwIUEk0iQ, OI2TvxYvZrAodBG_RF53Xw, bHxf_VPKmZur1Bier-6A2A, Et_Sb39cVm81_Xe9HDM8ZQ, 5HwGl2UyYbaRq8aD6YC-fA, ZK228WMcCKLo5thcjD7rdw, iTf8wojwfm0NOi7dOiz3Nw, btYRxQYNJjpecflNHtFH0A, Kgo42FzpW_dXFgDKoewbtg, MNk_1Q_dqOY3xxHZKeO8VQ, AlwD504T9k0m5lkg3k5g6Q\",\"fans\":5,\"average_stars\":4.03,\"compliment_hot\":2,\"compliment_more\":0,\"compliment_profile\":0,\"compliment_cute\":0,\"compliment_list\":0,\"compliment_note\":1,\"compliment_plain\":1,\"compliment_cool\":1,\"compliment_funny\":1,\"compliment_writer\":2,\"compliment_photos\":0}\r\n",
      "{\"user_id\":\"4XChL029mKr5hydo79Ljxg\",\"name\":\"Jenna\",\"review_count\":33,\"yelping_since\":\"2013-02-21 22:29:06\",\"useful\":48,\"funny\":22,\"cool\":16,\"elite\":\"\",\"friends\":\"kEBTgDvFX754S68FllfCaA, aB2DynOxNOJK9st2ZeGTPg, h_n5JP28sI3u7ye8og7JvQ, TMSrplMAaTf3QOw4zMH9Wg, cquG1TemWd-ES12WmQlOBg, _d9mCuLwfI-jkpgEzpb9lg, nvUnHK6_spIRETGCHmEDRg, T02ESCnWJuC8MMRTm3Cjkw, sf0aoHUvmLlZ3Uy11qLzmg, ReTaT_3nR-xWRNv1BsbSig, minoBfKXlJHMkLbUf4gDpQ, 8AhUSMpSJ3N6mm2OE55R_A, 4c1apzIgLFeECL5OAYHMdQ, 2Hqgm0_BIgWCJuL0Pt-lPw, Mh4HOEuYQYJLFCNP0Jk8XQ, fBfIZE1fGaM6R5Fsm1EvgA, hJPyOFkW2F1uBmGyy_aldw, Q3zRIcJEwy0Md1d4Es6e5w, 0yiXAr1zP1MiZPfLdi04kA, aH4rppBlzUDgQYFK0osZfA, t92HiTeguIeWSnDm3c_xlA, MfzBe06SHpISbhT9J3xB1g, IRWukUy1hGs9DkAda2jn4g, gftOmXOamgf25uO6yj5Enw, 7e48D-hzcjBlLHc8wfL1-A, Ftckarhm7wgITnNMUTGOew, nlT_aq3y9KLep0RFMPG5NA, mtPTsKlkvM90g0ZsXczyuA, MDBtNsoBcdn2dU2vbSx4jg, TdSeeuT8QMQ7Q1XltdRNzQ, Rq7kpSGk75p6RUQTl44-CA, dt2jH-CRxeJxNSzb8OswTg, jO4VPrEi9ogCvpuuQwF0aQ, Ty7a1RlbVu-vvBa_bH30EA, x6LpbRWLY7uHtcHG-hT-4w, lyi8G3UuGOD-uVnJwxm7dA, wf9jFs-RMzkAnAlOSdyKdQ, -tduy5TTRYvb3gc6ROXURg, 85FBnbDwjXMk6ZN0ZXFUYQ, wzWEVFhHs479Q_5hfO_PWQ, s3JCFghhpb7EWHBIquvLyw, lEAbeyen7wyEKTXtPwrNRg, m3OuFlnQe3CTLBoNj392GA, jLBSdhVSMaCX6YUIoXqeew, tEmgJLx7755HW2_6BIdf2Q, M82F41vxz6oSNsrMcVFg4Q, KIqoF-TJJq6zzZLzKhQO-Q, A679WGj38oPUzskpsm0msg, udbtMXNc6f0fTBCbI9ijmw, iX6ddmkYJgkKO8pQfD-N6A, mjDl7zaRT4iNF5ljykLCTQ, BKDM3-WZ0RNcZNxVk0ZXhw, 3TVAZ2qnHArzy1XStN4yAg, RawdIlNlrUmJ9d5YNDp7Ig, ARCoW6ybDh0qxLnoFLIhTg, 4GdFacgv5QwX38SW4tUN4A, _PLQtuSdp8_YfaZeKJoz-g, hqTaJA0NytMrSmjWXBh2Dg, VwaaZoTWhPS4Yg3u6BukSA, yOrYV8bqCn6CMdAAcfyKcA, MRgCtioPk2Ds-nLqraf4KA, ENknPTCEynKX39gvTZNYMw, kh9XGcpBwYTOpM6Jk9r0iQ, 2irDpo60JRpyImsLXBP46w, hIl8XCzzXcGvUP3CcwWIcA, qG-y23KlK3LgMmlAiUYU9A, VDb3rdXMJYYNhFvD3Uwhyw, L6KCNfYlQgzx84uv6wg5EA, 3JkGdd93Ji6-1yrIe12Y8A, 9M_Qa6iAKLrJiQcU1YS10A, zR3OiwwsSpaUSszdGBaYaA, 3Gg9-4WbwKPgVT6gCIIoMw, LNe3i4aVoZnCuoSFfsKF0A, kW2_3hbYc4XsOd66dsOM9g, oCAjBmdqwGXe3075r-L9Hw, -RExIGngSY5whUYJwcg8fQ, mqsnS8fqoanUHzkndvSI5w, wB6TJ5PTwuuUg1RHzltbGA, S8I3-2arLbNmPdIso3Mxmg, FhMbsaGyU8vdSwEJ75paKQ, 8amY_cV52Sik5VV3zJyzLA, ZvyJWkkq7DqYzl8Wzpupqw, zOI9CNm6aYOGrUTGyqUAWg, CACIooteXzwr9Z0CPsEs6Q, uoBvxSkl4m8SWsysZF2nXA, 4RLwkSaevztWJ2Xg2DLKXQ, aiRRxiL-cMAi0uXO6HaskA, B3WvNqNDS9BH9s3S0e_nhQ, H3FBNyXFHgi-tB9LBWxIXg, 6_dqfAij74b-Wn-9n7ZpwA, -8KyX-3VrqGuHeQWKDJxxg, th5km-Q1Yzm3sp078_I3ng, zX8wKxADT-05T2eISXN2Ig, IoP3utbhFjGBuyXmZ8D3EQ, odr9nAtFPYyFa-aNiv-ndQ, s9Mr__AU799aAQ95Au3uQg, AzhP6wwftNzFqVOc2uD6IQ, jmMG-sdOoxpAk-vM3uPHRQ, KpXQz5-LftUyJo4Vu40a5A, vi4tmsZ0wJ8aVWpdlXEUWw, _d6mrVOFwFO4lieo8PNzvA, hwtsj4A8yRH7yRit3pptMg, Xw0temDWAb1pPMQCqWN4pQ, bKGrtbn7oZRzduCDstwLTw, sKSG0CAr3pkvbzKI1hwAbg, OWJ-4cZ-zjyQCjcEaVJFfA, BqThEfcqQD_N-FWoVRyGiA, YIVZkkCSBOGaSQXzD89Fsw, 5LYMUn1BGyO5j6nACSHnXQ, SyiSpMeiwnA0ueLifBoz-Q, mrh4ZGCplZvqVAnqHyKj_A, zZRI3UNHE4_nhjUIHUrW8A, NIgEZ0fXK3X4k0GcbLpmnQ, mc7Fdn-teXNsnymLWC7liQ, RDuwkMwGjGEomTSIgYLPBw, U-AczowQjcz89iHzRKfCeQ, paWY3XSnc0ArmYPmxxgO7g, sPrdeJi8hbTfyV055QywBg, MIEevkRXnjDlNZ3t08iZjA, AIrgkT1oxrj6bHoigYCqAg, eDqJKOCbnTf3D5HtgUq1uA, scupY8kmksjVdKWBWU7aEg, yFe7QYpMzpRp7ST-XxXQBg, uJTEn40MZuwQSwziAJxOSg, 1pw0dWTqLZ1AAOtTL2dCGg, UIVWsA9ZRpj1NcgrF2FDKg, J7_OJmRuuRWuTUdBO_FexA, V5XkdJHBYVzc26qeTgaydQ, C5ylp_RgbPTR9wRzv7wLCg, zyUtwf1_JjDOL3yiYjmgHw, L1at3JTRr-_E5o9WOnIB9Q, IiL_hKx1fybWFm2ww3O_rA, YtXbx0C27mJQE9mAjqvhXw, 09owAly0xUSt_JlDVLuNJg, kNilPRjWYtri56sNe7b0Eg, 8ovJN9Xxosc0iwAy0-AQWA, _bprdkMvo47ujn-mx_Nmeg, PyMWgvjBNkpvn5BjtK0DxA, gE2t3anX6CAJPeua1tk1-g, crVKTU-rCjaVUVllv0Dqtw, 7bMJApc_Qsyr3r5y8s4_tA, 1uZdr0tLT0fxY0r44jn5jA, 2O8IaQPw6oA-hlNM6Yn8SQ, l9ltx9im0yZsLP12YGr7OQ, g8eEiS-V7oAJao8z4smNcA, SmH1XfVrx3z-vo2veVX_bA, JcPHmtzQzJDuwGFNoPTwsA, 4YgMnWObhdU9SWqepx8Zfw, YM_i61CqjJtyK-3GgVH7Kg, 3NZLhMqYBFILJlyClBPYLw, VVDCpOlVCXpe4lPFKEdU1Q, MAD0zv992V4m99ZUeSZjvg, JXEHyyDjkp4VQmjwR_CXZQ, WKa_EeQr52OZVBTRYy0AYQ, JdhNaUxRGlgeJ1vyS0zmyg, NISmorIo6QK1nWCe2yW9mw, YAKdi1-OKxrXH9pcduCr9w, 2hcS2eXDFVF43CAkqjTuaw, g-YOzV9YIPmo6vZBHQuuUg, rp-tzGPbOJRinKR4cGPsTw, AtOfPgaLlDLYR4eqzaHFDA, cciesIn4pgxxkL0BuLoPZw, 1G9RhbX4VEjnFTSuPW8kGQ, O9KNlar5ZCCYGTLtZh5SbQ, 8uKB9s5fgsMuk5lhHEdXyg, 4qOK2IlHQCVAHtbo5rnFJA, GbUeOs3m0cqBf3IeGOD5BQ, koIU9-9Cb_EMCvO8wbGymg, bBZ9OwGPhEoLw867Fu_UrA, GpwqDbNnAAFdIWx-p1O_zw, D9z0yMim1hkUGIjzvqHsxw, pQpQCBaYYGNwBnqt-0nqvA, ak0mKdAelBnP8CkMQStJdA, RMmkVJ8hSLZ9VpHK9T5G9g, XYvO3DzB-XQo3Hgky9NQjg, 2CiSL3F4_5QoYHqtAHdZbg, 3IDmt_9K52J7fTzVBesPtQ, D5DPzkEl04hDdDS6ne6IOg, vI1cCBeIObQ9B22-_blUJA, GgyhW8ezhFMW-29Sjx7IDA, UOjGUjpirviyTvlyTAyFVA, nUg4p1QFtKO-bFTyhLhuVw, -pDOcjn4bELfviSTo-VChQ, ngzCEtok-e6epGW6XX-Ygg, 0Tw4HFuaXt_hd9BqmAr69A, ADCveK8XEK9C9cCgCT7kgw, 8oHEBa6INETiLvavIj_vyA, NlOdF7ryBY-Ca8Y_rtZ9dQ, ow61i9ErfKk10Jhu5Gxgww, tV7-IKzEkzk8jxdignw2-A, NeGg3ifxk2xu9jxFl2KAug, GNaBZj77fl_2CdQT_3ytEw, dx8UVML8AoMqpVenevTpEQ, 8nVDkP0ROFZ5VR53qFXP5w, 0dTsC6jBOoohb2QyLNBA4g, ap-axwmVbJ8Ir9as30NKTQ, e1IdnjjmxVKU4pZFWZWx1g, x01zamM65P8k4y-sP9ZqaA, 8kXITUUF96a0fy41yfvR_A, q3lv7obAox0Flfv7DRIS0g, tk-3uOFQ0eKw2gGZdPJERg, MgOwrF9OInPQXe7dVBtxYA, ieUxHmLzZ8JhGJZJTu70yA, JaYdmeOezhSevBMWltyN7Q, u-WrcI7dEnn8jIBIJmaI5A, 2T_iOv6YPIIkruYBBU5_rQ, 4STsHYWd8Q7P0UW7c39PSQ, Igza55ONYQW0E_EaJaAA1g, apn34ppCfJNX5H87XxvQFA, c7TVFhtlehU7qRJJpOa0yw, rY50774mq1bgZvFcu9j-zw, lpyUFrOBmet0zBpIZY84_w, 3n2xOk_zrOBF2mj9fDdMfQ, Npyg4Tx0lrmRxbqZffTBXA, GcvRaT8PK0ygexi36ciT1g, 6d8ydYyBZMUwgSB3ylKk_A, 1l700PRHjJAgqlm85sBQ9A, QbB9I_E6w20aMO08ZEVjRA, q_NNphepg-VdBFpZRdDuqg, yBdgmfxqt2RfZIkk24Z6jA, T4VvD2cJRUSb_p4t1Ku5zQ, wCGu-6vf16unNxRVcGyl_g, VpurA5Jpx4NxPzlbJ7mJdQ, D6czx6FPplktgf-Fkk9o9Q, W8qefxpuBOIubbsVGSHJwg, bO4-QsniYAzxEcQuuOV35Q, EU2LI2435_EgaCmtKG9bhw, uZ145guG0fudy7SX6omuTA, 6u69HcOtYqY-u2YsxtaRwg, JP5KcNlNVg00xAekMTAGrA, ik6_h82NQVE_TqgrqXZ-iA, vG2gRxdB3_2F7iXsJmS6eg, 76Ds03KYd-BaDnLxYUhzJQ, utcxe6uwxCOOwqRKLQNx3w, nO_beVN-aj5JUD-bI-FUYA, BJx6frFEcn-vR05RDpd_2Q, CbLq35Fxw5b0tPGNRPFu2w, uIlura9uWmrRQaUYjxh8bw, ewEJMnoWVKNcMM9U4CcqXQ, GKxuYZUBQE6pRgTgIBgshA, SLZVK-jB7Bt_GvBDRxccEg, YNJOCCINifNlJJScIzb6Hw, EKwimU5YQt0ePRgG6jR8MA, 9jTB-Zpj1etDnGHVjrl8aA, hAekHnRX_BTmttGwMqMwAQ, rysgvLyyaMOmPGyxBVlSyw, i28kp8Mx3KAgGYHe8TlsAA, 4HCDI2PYAvbVEa1qFjnmEg, 7YQbLHEB_uRvlPm7ccePaA, tnhxLMQgY_43xxEzmsXqXw, aW1pRVXQIg6omhCOtNIKuw, aITgyxHw8X-kn11AgflbWg, qkkLUjL25ZqpVd91UG1kqA, wyXsuenqW9RJAdBBkAQEVw, 3gn1tgwQ8PTdjXt0oBAV5w, xz762kpjXUwPajeZCEXbxQ, EzUYBHVDte8g-PN4S8Vh6Q, O1VHvqlizdsV-fo9tR6t0g, 5XCFEa1ovoQcZrUZ9xXcKQ, TAKTkPkHE-Duv9aCBDE6VQ, I6aOo-kGSw32MFza4-N7Xg, RcGnmfvpaBuajU-1Anf4lg, rwgZLiAAiERYyFtK7yYeDw, fNq7IPc4eTdlQUoEP9ZYTQ, BQDnpGFgnrRtWWlR7vJRbw, cdONkkKcXxHBpmvDq0C3Kg, PPTyE-shrJj785I4CrW8Dg, mSEoQv6yjl80EHX-brzn2g, KKR-dAD31msPjtqt64SagA, 5pi1FowYGwnAGNJQH5ORxQ, 6J-s3S6njmZGzTIJIDGt1Q, lQSpUq6nnCB-rgEKTEEIXQ, 0SkumAL-PvYJOQx7cGp-Cw, nPtg6wFLg-bGSYTG1mJRrw, g8knU3D8ctmJSoyNSSzzBA, v4Ev11XocGwHTn6p0t1-4A, -nuKSqlNyZv7AVuV6m8iVQ, p0CBjhua6ktRahKDXM36Dg, 8pRfh9jS_miaTFs26HnGtA, V8h79qqocgnxneKrJVHvdg, sMKkFWYmgCjPoxYmjdbr6g, sYD5Fc4xQlYZbhqMr6oJKg, 9Ast9Cl_P06W-IniZ_pF3w, pJPLYy3vmQ_BF9ffTEKZcQ, VPvJplXMuTPUkLu3z_TQrQ, evGeOv6zB5BysUfwQjaeiw, BBPFY-RH-2zD-MKQZqBfQw, b5lIv5UvrlI8X1rwe-lCpA, fCtx94tBLgGbzZtQT71nqg, yOKtL9r53ekeh_xNMep6iA, tGO1II_8OU19O7VHmnLn0Q, 1RqfGHGEriWxWDkrRuM7Fg, Tnaxm0KWsOr7eHgzsmudjA, 5PP_A_ggukz--ZlAy0_CMQ, Bz2NQPOCy4AdjPR-TACoOQ, _xmtNVrdJcz_I_dqarOueQ, _QGiutlKI0gM0AlHzTkwaQ, cDhJAfMWhvzRgj_2QgHOiA, gGjOPt2FrfCxlp9SuZtAAw, fDrpByFD47HxjZKrbu9Jiw, lfKsMXVnXz66zYkigjMh_g, vluh7iowUBrg49-IpvbAPA, rqyQA2_Et1x0IhQHFV3xMw, 2k_hiNqSBjEQ0PeO3OIlRA, jkajpE2j8_GbHELAqbpJlA, ROuIDO1qSDFdQPi07RmhRA, dA4y-KHDwVXYVJvKCZi2sg, qcL6gbl1Kg13I7KnmhZ8_Q, MEewm6T2ibAtZBnjlytkEw, km4G2uBmegYYv5wBvT0uTw, biHK4loNhHCtD47tWY36pw, SlH0V8EPUkuEodvL3a7SOQ, iZtmRbUBBQyHx3-yLMZWzw, LosQkEsomMpb4wFWQgQwXw, Oqx-8vHYrdz7On5o8jNgRA, a_KWXx5h327mZlF3uhbElQ, dFicq3EUkE2ezq0ilzUczg, WKoFoXM0FuGF0EOXQnqRFA, Y6wP4FqC_XIPhVfiJ-GCLw, GQ9ES3_NiJ7hGkwPqdfLoA, eJSEJKu5d5_K5Qd9sTfVUA, c8mvlkk6206Wk8x2d2UN4Q, X26kgDvuvb-9N5D5tXmY0Q, -3Iyka2UFxWR__LaXIVYXA, hJkzBq3LXzkn-oU6_YtrZQ, -4za9jdK75j4iZlCWQ4-jw, Qe1BfcuLSZbLZC8ekN-J8w, 3vMxdUJCSZ17ltIFYrJn9Q, sRpqhtsu9q30yFEq-hON8A, g-TWTtrj8CzL1NZ__JspXg, vXhmXv3lls_gQHoZJ5hwTQ, gU6jfeJAMLbEED4L7x75kA, r3z5IrlCaGE0vpuu0Jjqxg, Bn_WABJX4uoCNHKTf16yVQ, fja6__yKl66lReq4xkAP-A, YtSEVxUsDx-FxvPMuV9Fvw, NHkpH9of_DiRap0lK46rYA, qURUdKtZm8tNZJEcoPJhWg, LpK_aHZ-DGa8SWbcSbxdYQ, Rik9TyuHSNETLU_ItHsQIg, XSZWLyjRcWPDjRH1mytBPA, jmhUXkNUgfcg-1FPR_q86w, J-uouuVNSCAGUgQf4fFZYA, OYJ5mortKRk99rzmb-Ckbg, 3ZBvuC9thVylL8B33COrGA, YMAFrc5MByw2oyCboN-rUg, Z9J2vnba4fCIyYhi8dbDqA, dENy54aY-uIn8OBkAwUIAg, vP9WIejTgCJdJsO1RUxoaQ, 1Xb_JW5OPlb5WYn8YxF1RA, zAZTB5Vdguhr9DN_f53ssA, wvIG5qVAj8VeNfkJzs5mAw, Wd4MZZwQQEXeq30E18HuJw, 95TBLgrJX7AUIxd91bKUHg, LYmhIfIk0TdPlCcOXV42SA, jbkcJ1bGd4L0iNGmxvqI6A, nB0tpu6uRRZzoPyyQVp_Kw, d1pWQANEScR3mpBHXe8e2A, i32RuxEBw4iAPsHpjT3P8w, nlFX8wCSNh-N8gUl9d1jvA, U567_-ojyhuHWbN870PaLg, QXaJkls-huzLx7JhgZSAfA, zf_q-HZ5anG7VEhPABicjA, tmYCV82a1hnuPFI5WZMUYg, RC1HBYlhZRcHKpriclozGA, 3gbDGba5Qc5StkLVr6hGBw, gNqnylvod40VJj0bbJ6muQ, v7_jz3spopJVvID4YqSyAg, iZqYWZW2E1NvDtuIT6WsWg, 5dl7ghbJqR0mIY3mdFElCw, SCFF_Y75ustLVMu8LVIxmg, ZuYoefi07xhMuYoKaocRqQ, aQ4um1r7lRAXL22UjW-THQ, QcT4I7n9oQo9CrAEKTIcWQ, 0us__0wBxtbysFiscn94Bw, xpy-wDC0pmMX5Ih9ch2BHQ, sIDBi07eE94uLhlO19PlVQ, htMn0MPpdEOumTEWEvh-Ww, g3eekj1MFWBLwSamS7XIdQ, lKMrae1z-ms1_T_6GzRGUw, miBy-e65ATtLmk3N2OTH2A, UCBfVhyOmbLif1nGUn3LTw, _xbluxjw8hkOSBqcZigNHg, GA1JGHXAY57wT2O2hMZe8Q, g5Y27mXqOTFyWk-EO9pDGQ, yOlowdCROton9Br_SNmVWA, cy6GT5FVd4cIzWCNehqpGg, JxjYvqG6XbNgAQqw2qCfiQ, EmXvtHloF31oHf0yoMrBmA, 2NnbvRnvFYjK86NOP-lo-g, Pnj2nPjr5rWKKcBXiHVYnw, PbVIIHPEH6sK1vLRVrJ85Q, BgaDRyAwM20UQeBvZy1RBw, S7kpYioETIq6vsZbgFCJhw, zz25_Dsf99KnwTpdl4-PDQ, 6BKYRhqwmQhwuXSzyvV7sQ, EyQPQxkg4m3jUVcXs61dgg, Roc3MiULommj3LCpTj6VMw, OGf4VJBOGU3hR8_ZaKWD1g, nZV_X76RluGxtqXxx-YHTg, SgtKSHdJTli-YBAuaPJ6fQ, Yv-0osG-aIpC65ymDe0fYw, hecpSJiy15oPmRSba-JqbA, 44VH4QJ17hzECszvJSJjYA, JuurT_xh59kIZzuxNvwI_A, b8CxwsVQla152Z5AalyA3g, lZsSGpJVFmw4REP3jbB2Og, UqqsHGpDdCPFMD7rSfuo4Q, I98vGFUMqIkIUA7yjIP_Kw, ImVifHDINvqZLiuP-0O2RA, IIysnQI98SNHpX7VBEJimg, s3Rs4SLt0X4ct0_8OKJ1Og, 44v2F8FBzhTBr-IyCPoPng, j5zftMTaWzrjO9IP1M4qbQ, Aib8oSwg5XkPb8W4km_A1g, ViHKFdf6RY7APaz0JxqtIA, WsZ014NuuSEGL7R0nDU-cA, rV2KvM5JBI2SVkbZVIJWxQ, pEUtsTMuXRTRJ7QWtGdLLA, QxdtIAVXxKnMbkrAjlNa0w, tFHVotK86rt1cHlvnvNl7A, KuZNK1mYJ2BMWiVo9n-mFA, aWANiXYZA4SJM7gCn-1_tA, Aymrbe6Qy50khSZCMTL-Rw, zWSTRj-bXWuM-O4Z0n7__A, tMKzRPtyqLCKs1rrfceHsw, 4BIUErNy8FqsMPtlWPONhQ, QQ-mGTOv7Fyo5IVlcKf3tQ, sBzarw1DQJxDgohbpEqeJw, EvOQkly4sx-C4adKFJW_QQ, 4HQnbMSRauW8gW9p6TRI2A, jG9LOvR5gd9YlQ3en-YQaw, KYpjAFafpYQGQFpOS9PL2Q, Pik4Y82Mv_Tec-4JuufZRQ, yDRie1k-boCji8M1XbbW6Q, WiX-z39HRThSQmfQBW-UQA, b3ciU4zRipSZs5EKpBiTSw, K6xEhPLvDBGXOXwRuIrvvw, O_GWZZfQx7qv-n-CN7hsIA, GSm13Rq7MyUCZ2n9Vx5GPg, CJkvmS6zLEUozHKIVSkx6g, bdfH-iNU1Hv70dqsvpdc3w, BgrH8ypzPaPHecIDIQ4vyQ, teRIJBsrU25dWW9I3FjMHg, cEq2HuKVG6wUzquHaf2vZg, S9IY_qoG_iKcDygIWGR7tg, Xw82eRvw9YEMXOXjWQKBwg, zvJ5qvAYkfM1Vwi5FglyPQ, PP0iS6Fod0EY5DJWm0RTGg, o-mtqjNai2zuqYDgKrEcRQ, VOOATaXHsLWzIIiG-m1yWw, kjA6hyldMBKqxEmFp8hZ1A, UeunnmmwHMde2l7q-o9pOg, qMBPG9GxijcR3jcgTp5j4A, Tp_MES_f9dVbX3FLAUYF7Q, dRLqHBA0Z-jnlTvWJ4aoZQ, LGDWFnDpXFqcXf0FIL1Thw, S4VDBlH9qA_WCUHZF5vPFw, KExeV8zYLOgLzyZTzZa0YA, -RJUddlc_x3T1HN5vOsuaQ, _ky2-YPw3-MQZixGtFoZRA, FaIijOIoIev-iGtPVk45Qw, FMBCCUo6LovhNOLHVzQG3Q, np2cEu_LDw4R8Xg7sZK3zQ, 8Ln_NbulcqhWK1qNkA4A5w, V7JodjxcN1l8DQLgtp_sJA, Cj4XKWx-OgUZMbRkL3tw1Q, 6gX3ot5Js4jlPDgNukLlOg, spywj41gGg9Wt6PJtZJqJQ, TeP1CYCLiGDiZ0SplCWJFg, JlkGyG-n0m4ODHphNSdikA, k7LoM5EH35QbkA08d2jI-w, b12699E7czC-piLp07_xjw, jMAMm3K1nmW43tFbRVRzHw, H4jTJQCUU8vSR0yQtQEYCg, FfAVk1YJ5kuor8d7HXgufQ, md3lGYGpQNyRCDnMAy642A, d3FX6mPRsEgZFikhEA1ACA, Ed1L7ikOgl0uTkNNa_qS_w, Zvm3n9qm3g4B6d5M3OLBrg, odUqb1H1vjk9NN9gyhVpgw, jA9Io2FJCaqVCLN4NKCI_A, XoHD7WMNjfyx6P2uPjiz-Q, Wz92FVIfCPgtFU3qE2zWOA, kyNmcjf7er-SgS-58M-fig, CDghBccnk15gfi6uPhxSLg, BWoHVAl_LxoVaft06aVR5A, GKo5aIfUKv8e1AguD5qnvg, CgDn8YNxQfucw_wbyTOm5Q, fmoWMr3x32bDiduf3ADj7A, HRZz904VlbN8ZEq_Mq02xw, xCMNR3zoE7amPOGb5VxbSw, jK85qCt3IOtqyIDoCePRyQ, IXI6onl2E1q35NSzqCV4Yw, vJiA6TCIH87nO1TjjjTLjg, pKOFFr59PTY03cICQPlayQ, G2LXGADr2Il7wWUMMnEA9A, sZTllsS8Enaxl7_-igH9Dw, XyWwKP48_P8V7nn9SVIpvQ, sowxt6HlSRDfGTdQBErnCQ, VKuBSrpUU_5hhsVfLJhlJw, LLB-AX2QaOU3MzDmKwZJRA, b4SJ-N3b6C_AVd72a8Y32Q, hAlM6ml9rDKGGsDFXUG2sw, v33wPBg6rHDllmz7iRx5XQ, lanSEAUoCAblYod3l6ROew, pEZXkSxvPk1uES8Hgz79PA, c3P39IMT_IEf3Zrjd6Gq8g, d7ehaHB0Mk3Rn02BhOhPkw, KlRRcKpjEdH14yG10zZWPQ, YT-e5LoHXiEU4wQkpzCtvA, kdEzaLv2vquZh-5UEzir5A, N2-Gsn1Rw2jnBG8MExjGLQ, Raxyghpfm6929KRdPgOYmA, kpxjUxq8yZtWFXfdOj2A9Q, qQrZeCfCsY30v1JGAsjlfg, sMpyRkC9RLF9-cCd1BGGpg, wH0zgZVPnYU_Gjt23gWLQw, GDVDWlJAneHlpr5zbwshCQ, s1nVFZQfvu5Qu-ihzomaLg, 8gOnXNQpVkLlo7gTZeVsRQ, VCX_0RWTzPotklTjGsaTQw, M3F9casUL8rqZx3UYLeSJQ, UjdcbTAbe_tLYe52MFJzeg, ssL4hNnsl-6a_JWg7_4N3g, QZ9n9wSuub6PfrL8c-ggMQ, hMPb3nPKBS4CM4K-qg2BOw, ttsHVBbuFZa-TwPeHkA6tw, w31zZPx-qmUAcuZiqREEXQ, WV-Qldu4reTVwfo5WFOqrw, cumn7yK7pBCNqZfRbutohQ, J4Lf5Po9HXyxO3jiJ3F0QA, BIfW_NP1lFp7u0NhlkhN0A, 18eiRMlxPXm_zQ4G2QmdgQ, 2mQ8zh4BDsyB4Hzr5xdr1Q, wB9zyKs8BNFhnlrA7_6RBw, 0b7jS3YEDcYM6Qf3asQIUg, yi9BEjPzxdJGyGrFb4C4tQ, ixZGvWX5rxk4ZRqrzKQtGg, wCyDjalHRAbILn90mvZ9RA, mx7pTaCNVXRwpYrpd_sARA, 4p3H8-gRzB5HsEqKCZhKFA, KT-Dgl0RitvYmOz4ND-lEw, xbdPgKeDLiA6YyX4XowYiw, UwrHVng1PGNAuZAUG58n3g, D84gq9LEu7O9mCcyssUlIA, OFwv2yzwNts2eV18dH8oHA, Q2vc8uTsmGlZ2MGsbJjGuQ, DDnJq3P6UTOTh46-SFqlYQ, TKdpgfXfxJ6QSZu2KJpVhw, 49aPpRLoG2rdZ1Gi5YHwng, O3YtA0yx1Eltm9Qm0vvZkg, RLvuyQBgdWy9Uj6IlFiV_g, _LrWB1QgY7rRdCDUJEemKg, 4Jsw-cZTxWN605Ep4q2wOQ, KOYiD4hnWXytUA9e4yAFcQ, fB2DGY2wJRGFPr9wpk0sgg, h_P-y-KhLcpru3jjXZD5aQ, 24vc1YgFvOZd6x9T9m64aw, ZNKtqpTRPmheANk4iS2FLA, gXkwRwwoCl894uO9DWybMQ, c3Csuy2HyoOOBkytZDItFA, 5dzTZ1DXsj6F6mlBOpzLLA, c_Qsl-xcamKhyMsefTzjuA, fbAMsUwmtZvNO2534BOtgA, U3eI2oM4MF-ksvvebpxt1w, dZZ9jISk8hXq4wla-mv8kw, ha7GMmd6r_CXIY_ch1nwOw, AZDVn7Mziog5Surq5MdoIQ, TujAfcDoCxOHu3ftYEbA5w, H2FsG4nCv4Bnu90LNm8V_w, 6jeLJpk0TG6nut4BeNHpPw, NzoSa0GDXfZxsVMh54B-Ng, TdecWDf5doyw7TaSAIKfhw, yHsG7oA-hoZ341g76v75ng, 4vtvIGvyeQLRh0OsaPyncg, EjCTMM0sVvmeTthiFWwZmA, z2PjOs2Etx-azigGxMy7HQ, 4piHFFJI30FhacD8ejbDvA, 7aISYxL-JfDrTepIA3PTkg, t8Vjy7SaBIq4mtYn8JlOUQ, Ql0Z43_cX9Y9EYb5MV3cpA, zLa7E1z3Er_Zozj3OiFvrg, 1dL9Y01Tc9C1sUP7hSdZ-Q, 1A5JN4xK9wFf7cezU-1p0Q, jnl-IILTguohaB6GALzZIw, YLdyPNtOwBv8sxE8abvh3w, 9Rcm7pL2u5zfFAxIGG1GAw, sSfoV_z_qJp3j73dWHi3aA, Z507-UU61IJtCjdrqee1Wg, YQMtBAQ-KJxeo276P4xCJw, QbTUfmk5lmus3NCGLgN7sw, GzJ7ww5sT5z6wn6pDUZD5A, WHbIYay24Pkcq213s8LWaA, dB3z7oHvZulcYugvw1QOCQ, wR_vvNdDggkZasIXg0M5pA, L3Z-WvSvYXvTf-lzSTnxfg, hU_OSASK-XfpIxoZbj6B2Q, l8mfs4NUhFBOcdiX4E2C1g, JUN13j9GJ6ccKTunMrXHnA, 6gonBRDQG1D_Sg4MuCLcXg, CKHkbGrc1MGUjWkoK8mt-A, SZRoSJVTKTsJmqBmyXnZYw, 72uVhKECjjMkk0vC4xQDKw, jNR9rQ2bcBy_AChxyhBVNQ, xA0-wO9qiSquzw_hVDyDiQ, imfGFZWKP2rdTh4Kx0mEJA, SMGTlXHdu-I5b32E2D6wRg, Iv_6Z497ej35Y_7EN7QYUA, B3lthjmMleoXx2OqhShbaQ, 2pxJOAzGfGeV_8oPc6gGLg, Z18xWAU7vLqMavj9p1FRFw, Zb-50M_QfWwkoah9flzSiw, qUOeYYh39rb8Z4bbI6N9nw, Pz9NdQhnirwFizQKLHQiwg, s1-JH6iMv6mSN61XeMNB4Q, zzI1af-b9LDDRTz3hoekoA, L4_9BzDTBTIFUKmsN31nNA, cWEHD_idBtQKg5uU_XV3JA, G5U9sXKLHQ52UMPtXM8aeg, -vYcDfEpxLkLDZfy5U_9Uw, FzOpGYGyjMcJ8P0DXBa2gw, CLNC5iqNdIpgTSdmBl92nw, a7QK6ar-j-5-rrJVehLRmQ, _Z-FPdYps41wAZqanpR_mw, Gez0Zg2tF8K8J648jXETdQ, v4C2NjTkq4A6G4eazmHa9w, KiHvkOnJLPxOSLKu_prxqg, SdoIzqQNzith5n_OjQocJQ, kxajFGH142TorY6WQ2biig, Ik5-OcunM6LfnNwa5jqiEQ, CvRzyI67-tF2sqVtwMfdMg, 5xr2ZSwjdQQbnnG0RDd_QQ, XRWqkR7Gdb84nWNNEUr66Q, OxYXdo5tEY3pUWwkhc75cw, pDuH8EJPRYCXgvVQs6bPYQ, 1OEWOfAsPCaEuHohLV11Bw, -7Ph0p0vRszjQjyuU1P-_Q, lacC4Sd3FdI2NyQduUQ9oA, f5ozu2XOe1QvG91PXTuSeA, O4J_3miejcxa6mqMC9vT4Q, 2edha2AQSvghDja8w_UOhw, W0cpeT5FKRUWhhpQKiyfDA, y3RdPBhtMvxwXKsEp7OFHw, 1IJCsmxte3PkGXtfqX8-qw, xLSTszQHVefHmgVKD0hStg, wT-I9uuq4x6cw6dWhYv2OA, 8TMmHah1V1uDMaK9CLYIag, ngecKAxAGIW0NA9t-Bnn0Q, iDkwRT_ly6tzmmNwUt5jzg, shpGWHKeLBLwlvQ_Gz0SSw, kbstx26ZoJeTubxAifp_cA, QWiXKDLcHcjo3qZr3u2_eA, SpWsEHLIwgO5VlMf7W3VKw, apewshan52Ihx_LHuxudmQ, FWdyz0jg-MeSHZII5RCUrA, 1yQ4XFiy6CgwaDEtnTC1Dg, mtrnYOK4M5GOCc2e0N79Tg, pbth0eZn2f6TINuS-jYvRw, _OPsYgH84N_a2MApL_Oj5g, IAh7fmfbplNw5okW20zekA, C9o3uRt0Xu9S4u_JJR3imQ, Goo3I2h9RHyzGAidNRO-bg, WZE2msrVAdxGNKi4h2hS-w, Ghu5kL5n9n8vfxjzPJOzNQ, ibkbCBXY-iBI_uoTkoDUXg, jUnYuq_c-d9lbcB3N0CpoQ, Io_WLeZ6dqGwYBbVntMwug, k9lMWz23L8oeADzdCNAaYA, YPWxid733UhoaPw_zjOyOQ, 6K3w7LZYl0b2ARAvRMiHYw, EaaJHgw6gGyzMj2UZlsqtg, PnZQYKK487jH7niHxQiC8Q, nhRLajzK5oJ01U4qRxE_uw, _c9BD0ijFRTcsghqsUWTLQ, 1Le_2aHTtjnmzsLPH6SbQA, GTpGm-szeg7KGQ5YN5_1kg, TJn50imZdRx1Hs2bklaOwA, H24rnWh8MUjUj9xnCcPKrQ, 1eNvc5iH5SDlcs659WajNw, 4Lp8-TqWnpiSb-HFoufQDw, qsVblse2olvoa2uSmaXiYg, _x1H6SC86MVb6O_vrZuKaw, iYAu6VjwvgvMRZTvb8cV6w, IK9Q8apsB89D6RRJSvKBQw, YXmu2cfd_4I_wg5ZjnByFA, gaPLkwQYLVJ9lVL-RGPH4w, JecVwE013vUjG35edSNzxA, Xlbtsg47mfb8adi-XtviVQ, lGf2GtqzJRjdb3lHFj5Itw, ne2c7we2oqffFVDSMDAwRw, zaHFNatPHsfaz4Vr6EAbEQ, ayh2vkFHCWEzsRBrfyNfxA, GHZANpRDypsIm_TM37aHzw, pO-mOWMlW0EfrpV8FmjSJg, -XuVjwj4MpIsTZ-kiFj6rg, U8Su76TH9FCkzkVx44BBnw, BlyseEhJGP4UjJiN-f1FzA, lPvrJYNW9LSurQHGre_h4w, 3jZUEH617iv6R5NpE30IfQ, cVU9Hc0SrVB2QnVoE-BU0w, DeZxY5uEGSHAihF6H7g47w, rRbm8dpVDkMhwE7OjnzGig, XXq4No9jCaRsT_FOiByjEw, VJTg86Kfln4W6OtDqaJWnQ, DCNmlODgXu6ULUKYUkXLjA, 2PteLNhhpTaT_0Np-1tjrw, 3VmyyLGaVsLgTfCKZAshvg, Y6jd2OiSs0AvZyerdQ07gA, DEj4M-y5h17v6IsiBACsBQ, NH_FKMvhoxCL-4JV8GCVZQ, 7fHmEe2V87xvN6MAEhFHJA, G3K4BDOK9CVdnTpzzEUVrQ, QhL0pdGV5WNF-qkWFFfMuA, jUYr2vu0TaLUrgtNCcSmSA, cC-4Md2fRo9RSYb7LC7cBA, 60_lsQJ8JEGfZeXcTgKn8Q, aGX_snz2Jp_ooCME75_Xjg, TcfTWgMGiKsl3CflDmhp3g, _AvCyYrJ2TESqRkEOwkM-A, 70I6nYpVkarHnwWld0Q5MQ, gy4OVsZKGI66OO7w-pCKeg, Z6hZ9mXCg1QraSNxGAclJw, WiOYXYGZywSdD4qdq6mhsQ, xh9VekYUo5CgVBxySQ70Tw, sS2ZjMnB8jK77Ekx5Pc_bQ, nxGbJN9FfljWpoC6WBJeCA, cVyvYQLDECs6QTAA1NGiLw, AUm4TJo3D9RifBaJf3gMYw, BpYWuSQVDyUG2oq2JwjjAA, 6-suoyp3-HHfd5pMv-aOKA, IhYWUL5MT7WXBmctJmdYJQ, xTwLH0fGqRBRxkZGqLlfiA, w8bYA2dl4jKWRhK99ul0KQ, rP-g8OD1JKxJKjLv_fhkXQ, EaQAO5RB1r2UbpuvfxfaHA, UnJ9uV-rplhd3l9itdNz0Q, V0lG1pTRxR3e5BXag91fxg, 5Ju0H8Yb1dEsn991_TRyfA, gakhurT9xcjCdPCBY541Gg, XD_feAaK9rJLiAljCnMjVw, XmrwqeUxRlo7NQ95pIqI-g, 8JePGxmNZ8bbLIeGaLdFcA, 3LKKDwp_-Hpa4Bo12cDv1A, H9-MQjeN18p4IeOWA7ityA, V0UogOlCz-0g7P-Ws0w0XA, 0FCDwqtZOx8rFROI57TI7A, 2jBLL_1GO0g0I_WmoSuRdw, pDUwh8V1ziANb7k18sw-mw, 1l_O3VEl9TV_JjKAzzyz0Q, I0IUP9-uJn_mV8yApFa8ZQ, 5No6RE1h4XtuxVQedBRccw, qdbf0RUC2qrKSVNw5mMI9w, AzviXpewBVTAnTzB_zeIRA, Bfxt9Nw3sUwZkx1TTECRKQ, M7715GYSbcCEKqd43sUBMA, 7El6c9CseWpsgCOyk2JrXw, KXvl71UcLtBluUFAZqBK2A, dz8GR6_uG5vA0kDUcsyy5Q, oI-jlAAalINqUKN79NtgNg, FhAWa-Yyy2y421tgyhavNg, t3BcO0lhKxnJRRxZ9MwkoQ, sMuwReojnAwdllgc9pqXKw, i1a3ZtJWh1-WaVf1w1dIbg, IBJupluZzI4WWL3efJC1Eg, MLEkLguPur-PztAvxxJzww, DL_nOGpYKw4mNV03LYMHGQ, _ZlbtWouDqReZ6T77Zla8w, W0YKbc2Sw5vUSadGJVq48Q, Q_Q-o7CyH1mkkiVQum-yuA, BP4C1pyUJBCEFsxMMgA_CA, hjfyJTnoIqCm9iTBE9a3Ow, CJQ1ZGdZXBdPY0ElFfaOkQ, Xyjbts6lL_MSXF-cHl2kHg, oFAk8sWAowanzUjMqBHL7w, raUhAcab24t0W0u7n9Q6UA, BulvdRpv3Dy9KoCZpM2fGA, sYlhxlEhbXaHnYqTbL2uBQ, ca6poircjhkRUSfws83V8A, upr758SixuVug2eSNqECvg, m0q2kPtlrzzojYnCR_YSZQ, wGOsR6k6WOVizOBxIGjpRg, Jd-LIHWY0kTdi2u8F3sSUA, osj48EFVyZI_6mjePNxhDQ, dJiZZX5jsP1vmk6eOSM_hQ, oI57_Ko8EB5JH0Rqxm5UFA, OfdOiCFgSj_pXSsIZGR4tQ, Tty91RqcBwg93fnCr0BaHA, 0Tc4ov7O5RMH9FsYnKLBIg, SGIEjgqHAHnVf5sm8aQ3YA, uY8PKLlV-On_l2PYvPcITQ, OWBAGqeoPKAk5tq3g4wjFA, VvOm1HN7GN1xej2jUWP8-A, OnKxpcYgaxTaWJacj4CZsg, YADJMp2xuuJgN-n_5UFwTg, 9Xjr8eR2TGLtSWjqf1Tuyg, M0ivYnFv7_a0c-UTxNbG6g, GxL4lE5vcGqjAni5i3BkNg, h6BL_G4u_VNExbI9W0OLBQ, I8gpxbxfWy1ovpFa_iT8lQ, reVR1GVQPC1mZ5zoFGIlpA, RBZ_kMjowV0t6_nv2UKaDQ, aSQqm77TA8jDIf_XQEyQpA, ICT-fgVQ35xi5JXkRH2sPg, wm2KFrrP_rmKZGRcFGsatA, jq920V-A0fGTaOqMS4dRTA, RqaHhzwjioKYtTaktw9UGg, _QRrtVT_CQHeF13q1AKRGg, gaUsD6k8szg64EdEDWJuKA, Y_VxHnGDxG57d9uftAvgmg, 7zhNM7ZDd-pMOYmL8HPaSw, ZP6ugxWG4iLRiiF68GxxZw, wdDGJnDwNgjbMdwMDwyd6g, mPyjooT4uOSWRS-g8J9pAw, tlUElw8FnuixbLZx4AuvdQ, sXsytHYGDKgNfQ_cNPbYcQ, jlH7b1-6bPrQUHeWm-jjiA, gg4BI-IhJ-pCSyhfvassrA, 5zDis0wpO7Q2kig82jG-TQ, bYa-uAJLfjqHzXwwy54FNQ, fwwOvXs3Va-_UHxfyYdGXQ, HhViF60aQ8-5q22ehTD-Gg, DrK4T7J108xzQWZ8eO9XKw, tr5Zi2iqIfq9RBYp2OhkbQ, izMPjuvQOFKBQDTlh2lthg, mThC34BdOtmK7Y4JopiRrg, GFljw0rHF9PK7ZZfFehCJA, XcaVfOrnICv3ZiXQJyKW4A, maOjEdwrMT-wgsTbjWHDLA, ayys19sRAqOr0pjQrAUJXw, 4G44cm9Sq9PKj6SVpwT5Mg, v-Ufhnf44lUyoLwKjVHZew, o8Z38uYAkA5IyPQ6yT-oRA, b-g5RssxMltxeYRlWiNbCQ, F8iw_vmKJLCbSa59jGXSHQ, JWL_U9HvLf-He2Iwnund0A, bECZ5ZXC_tGyZ_r7tUeNbQ, K6Hecm-0TYGOU53rss6Tfg, c50iCmbhmXynNA33utCODw, IZXWwGMcDztTISW1ps9kUQ, ayajKii9BOZ6n_CO6n-lMw, WUYF62cpmIkWflAanjdM1Q, SXKJ8TPqBmLvnS81npThAA, hMqcYV2Oxn9jYPEz0LCJhA, vKhTKjYyBQqqUFjitOgpew, MnAtqEoSkx2vu59E7PviMg, OZhuoCD5zp2eyPD1aEiXLw, -TwGXHf8W0_7k2oo36fJ4A, x9nRKlGk46WWobweGpy4kA, YV-CdFUxC4_U3d8-158IhA, RmdlCmb85A5yWFh1uiVrnA, G-B1dtqi4kVWg9U8MUFhoQ, NGgN30DPJ10ym5w04167xg, 1jCrIIHNYHCGBV_ldnKYYg, eK70w5rsRwIldq9PQGxXGA, ZjVUzMVzES-RMiv_hgX7pA, 06j7NQ0jouTZ5VQOelgWRA, hx7MjvakDmZgLXJzeH4HNw, hXODmDfZK3e9r5sFkVMxKA, XNEGxzi-4S3oyjrrGPpJcw, XZIsH1jmI252St9gpJJRxQ, OF4GyIXBH0XAWfRx4SRCvw, szLUeRd39W3FNtY3xMzdEw, 98mXrJS3EoXWJ-y285EgUw, 7-itBCjkzoCZg74P7jwahQ, VGM3-nSXfSoFlxWjjO6qSg, zLiuWsvpP2rwCHX2SIWFgg, XcIOnrGaQxj4tUN3HwXc7Q, 0fLU7z8uuGr2owjwPRBwIg, xwOddwjv1HkHO5Z_gWeFxA, 9F1dcKKR5_N-JTpWU5ifyg, 6O-94xkhWfF5VmqY-0_Ntw, GaDx_Fy90_0o7M9w1XFqvQ, OvNzNMHj7sdqhCveAnAPSw, LXIltZUCj3OudSihPLu63A, koWDUqsAJyqWVh56rswIKQ, 5WxCFzajK3BMvLn0Xpmv4A, 4lgIOZErxKRvos4RKQE4UA, qQpgFrKV90MIBHhg1btxpw, CEpTejUOan7pbYScm-eZlQ, DoECv0nqf091Ml9bTsfb6Q, N2ElF60e_cdxq5hGWtxPJg, w_BLYBC_aZgyHfqzDCwr1g, HbEbLR7lDjp3l1qVgeUVHw, 1jU5f1U-voZh4IlQTgvWhQ, j0Eku7I5e6GB6JaKk939_Q, 6hN12wk32SdUhWmWE1EgNw, RqAT_IwEh3qV7Df-58xqMw, ddpE26kj2ssPXZySQCNJOw, r1fVsFPhX56X40_7o-3PlA, PZWRZG1WlPKNh5JNIdvYfg, -yLbf59RYvFLHTFlThJ0UA, wtE8T7WKLkW5U_3d1KYYtg, Przbqmy0lKOvd6fnykLMWw, txgHT8JbKQfmAj5y4xH41g, DJ78qlFOJPax8mrAgPh1IQ, tSi04ED3QY5cMhS4I_3j-w, afbBrv8hlpxmpak5cZgppQ, 17jLJoeMg6pyh5Nwq68lKQ, uyWuptScyO3nSKHv4xHW5g, Up-pCV2WtbZHOZ83Fh1A0g, jfF6_F9JGu-zK6fMLVUjJw, AgqabTcp0IkQr9-KtrCGgA, SS6OwC-34Zl2Fh06UuTPOw, P_hf-okOnfUh9vOr7dluXg, -Zg6xEtD_xqzrw2qtSsHKg, jxpUy1_mNQus66h1xk1Rnw, AgBRWcKLkJijIpG8D2FJpw, Dt_GtiBdBwTX7tBj7tItqA, kCFSV__nFEc3ZUDHsUAsCQ, 0DP4a3Duiaslp-k0HiSODQ, cNE0ST98RSMmvDoAAF8UBQ, duXLj6q7HiOlLo2bnLk26A, _cTKrvL79heIQv_MouYDlw, CnjuD7YQglMnYNt2b6aD_g, -BSENVNYH6xcWPmKn_v2Xw, P5ItnEez2XWSgOVd7JnW6w, 14GlR7ZjiqcK3-5IIBDCtg, 4CBE2qRfyXvksI03Q2biZw, 8N5TFTssjvGOklDASqDPGA, vQNu6bOB6hJVIK-LwTa92g, KKMhdk20_1S_3PA4FfMSaA, uRW2cAkCDsvFCq9TYX8ZSA, PDZs2VfvX7dn14GfZAv1xw, _lhBcZ4AL6B5Sz8Mk5AXsA, x1rM6dcMGA7qWdhnNl45_g, E60Gkdsyvm6K6CsJTryemQ, Z64hRl3u2qBO5X2JXNjIXg, 66gRvEXrOuenukMKkqgWdQ, UEDHUi4UGDlD2m5-lake_g, gx4HkNeeo4bCO0aLEkcvOw, rNboNxcGlY1NPWA04ZcoxQ, 8g1EytRfDXOv804MN1ps9w, qr5dPLTgXjC7AYLJqh06iA, 72hxyvs-l7WJrDy_mQnNKw, IoowRxv6ks7mXAHAuIVxzg, vbeCoknWRJZJ6VXFCThxmQ, yr0nvk40qo7z0kI5TgrDRA, iOhNbyiiqGnLNhxEb2leVw, v-XYGBb6rFFB0L_rxWs6Gw, RtCJJjCBSmjeBDgPOFtpTA, tb2uMEDz2sGX3UcbEBUkQg, 99SBbboUG6wPBF9ZlQcZaQ, KofOTtFcJR2ixrB0ckqasw, TkpD2kKJOX93L09Tltf9bA, 5srRmfM8C7Snm9_2bzbukQ, T87xfIkO9jH4qWEVmSYlaw, 2R2NfJ8xt-2896cx-7tSaQ, cFykhUajA9EqNZrOSpWVxA, cMKxx723BTuohxruTDpr0w, A0kZ85OM1V2hYX6qCf4uuw, qHmpkr4ykafDs1iRYmhK8A, wX45acyEswX193_d13fJuA, lo1xfc-_Ulkr0VjmrUinuQ, 1nGrp4vy-UYOV1MojjvL5w, 09jvfjeq1-eFR6LL_VmWqw, NXIVjn5ybTlhRPr5lwUvTQ, 5TnEGWL5oSTA2mexmUye8Q, ukw5NOOShzDAiYdWroVSYQ, G8j8EBmy6IDGM79ZK3Z3Ow, v6oQDb10VQ0t2H4GTvD2Dg, V9PDFmUVuTvfBmk88Dn_DQ, C8YxjX2PvPLB0zXecoz0YQ, GkIAsIJZGlCBI5IogfrqqQ, cZKFToWoqqAITD3G-DrgPA, Bx3EYqSAwDThcjQ2oNf9XA, ezl8UTuUur9cDyOOCEYbhQ, YnF0CjuryxzyXsqf_6mVBw, yswpZa3f8UzuLTo_pgjdPw, CWYfWZsgChaR0xNB2p7CuA, 13uQ1Zmvoz57oKCTwPBmog, pgR-phKC1Ot8nb36rqg91A, oZpHlxkQRSoZM7qXdrS3Wg, WvRS_T_eKgaf8YsE5S2dCg, 8YALFk3vCPX_7hShXXMj5Q, TEbgu_2OhbXK_rSJ3RIFCw, 6SUyxacP0zjRqThEdqnwVQ, vSNEowiCGGUNH0DMlsuwGg, T-Pk5eg8HXFl3Gi1_EGEcQ, Iz-j9Z9zEOkhYnMhVPBEzw, gKH7cQSB0XyXu4gIWrmk8A, imT3_OJqhIUmb72_eusx2A, ZmLWkJ4R4zAatQwcxYDw6A, AogmoE0XE47_QJnVW6Lz-w, SFRB-TRXMxVlISdTycULIw, 0nLuuFKZkuaj2HNZ1rphiQ, qKggYhbG_rSQto2Dzq1cXA, 5IXG53FZ358Nc7mYh2Exjg, frImPZ_BxF5-bpAa3nO0Sw, pSF-V0hAL4mYo0-hFAEbVg, xIvg-bublUfX0YPA3C9lkw, tLjVUZ5wGb9DZ_qaetWIEA, u2xhcrevhODDyhJnUTE4Gg, wicTHS0tsspxHMhRtVVZuQ, J8HW6QTGRubPigu4dRxdAQ, GF2-AP5TU8xS1OxON2FaGQ, nohGLNZuqI02JhO3yA-Rbg, zJr3ti1AZltFI-SOpAELwA, EKiWhS7JwmDMkQeP20Gy6g, V5qB1JMkZRG7bMNOeS73Xg, 4YEmQBBKu4vY6ImtlRYKKQ, Yd5LCLEtGUSk46uHK2hlaA, -oBNtEz0aI5haD4BBjL8Ow, XLRaXH7y7FS4huGXjNPrdA, vfiKyuODd78u-xxnOeE6uw, UQMQ9kbpZAcE1a_Uskb5qw, eVLv9fP7oq6E1R9d5RonLg, 0s40YswmtyPRlfIMDjbgcw, GEDTjy1r7Nj8xQTE-bsfnA, qzOTjv-s4ob6RirsIgQdLg, AWWC7SdkUJ-1OxNJ9RhPlQ, o1yOL0bmuNEflrnSyw1TSQ, kzRJX5Vl2X-TetG3IJHffA, GiFW7LIfujbHAQlk9zpS7Q, 8CirzBzpd2DOhk8GW1ozXA, Yzjy4jdnxbaZG8LkZZM8vQ, tNoLZfA4GKN9I8Qm16zvuw, wbG3m0Lk4cXS1VKS9xV8IA, cpzKSK2Yg2ZkxOTg4XNHjw, 0hhFodYrR0AtkMgIrgVjPg, enc4Atm6HfDxv9zsrJSh1g, nluWyvWskSVika-Fd_x8DQ, 5kGnx1csB88tbNqrWdvVDg, E7RCfwlnPjry3TvfR2jaUw, BJ5FJVYGfrfG4IZSHinuXw, n8qqDa5PaFtq5LVoR_rLow, 1CTS9-ROPvDjLZ4BHBRI7Q, WTZuyCmKThRNGy4kAGehRw, yJNBUbd1CzSoYc9IpBksxw, HW-BtRNhfgU7EiGADkA_LA, 7q8Ju3V_EcoosUZ6Zk_jfw, ZyHxwUHSZVkM-uU2XUrSsQ, YFVYF7SRg3Gwa2w0eb2gBg, UNDiUIRP63rP3p6nw-6vHQ, gW_JPhXEPAej1dbFMfVhyQ, pFNGnbi74y9d_Nh7qKE8AQ, flZEJlmwUQYYEPplF5mSJA, qVRhcdk2PssbywkNz-NksA, 5x5ZHlWe_4Gd3NW-OTn8hg, rNDjy3ExGBZQpb0HSUhdsg, UX1V42jXkZXxBzKnBb8MYQ, pERjYWcL3_FXbIRXAnkbJQ, lWJIMRmCxyhuqifOHC0NNQ, TdaTLrXLtRgx5noIPT9ZUA, S79dDqa5Ww7k3ZS7Z76XcA, ReCisI08_ODJJxV4UoPbnQ, 6lTzawLYGha2kU2U_i_EaQ, L331cgEMeiBtuRGy7a_TvA, zUJjoqdJESOeNqVlPxYcsQ, sw3cwzSinmZReMJhvJCxYw, RQvPWs6KVd6q7BQUN3-ETw, daJnf-rohzix6p2QJ_X-AA, BXyFs8inzjgfvsR2QGA0SA, _0R069Ziv10uhNPrIO-xlA, pkhHBV06LWjJG8LXVUN0SA, 0eXgd_CDOFCTvNDBOSR1wQ, d0ZmHldxJuaqo3iqqTuTew, frJFmCt11Iex2EjX58BYqw, fA2P7R-7LJbnC6bSchaIkg, t2X6f8NnBizj6MopYLivTQ, xHIbfLEz-r8-RUkcjoUUzg, 6o7VdjYb0FyDesOIK1baqQ, dk1LTKfY03qDB-SWKVWCkg, IRGIdIJIOEGauosQJAZPeA, KuulMtmS5jHGUVKTvsOJMw, WuHzNFo0FI9tIg1L9NimuQ, C8rDSmIp_E8rMMCxL5DTzw, Ift42HF7jeM5QvXkbNLFyA, ErmfLGgKizY5HLpuuA13Vw, 8T_UEa9ycNrfqEMp3qYp6A, YYLPYukyZHiY0iMEMdutvQ, _ZUe4iJP7gZQY7t2tp7BUw, mxy3-jHqIHCgRMfAohQn7w, m_yhtI3sAo7X1nGeHOhVDw, 30QIDo-qeyqNtSrW8lc2pw, sTb0erbKyHvViWzxN4yOxg, OhlPrjREP5GT-IUzd4p32Q, fMKom6pxUL__MHSvB-G8pw, 4HVC3Xb4Sksw9hsGU_yoHw, bmy86wFNy0XnRaskgzCsCw, 4BoE5bwPqVoV10X8hoIhJQ, 2aSt9M54bVm4h7EMMIhAAw, WTKGJoUI_oRsCps3WXu50w, rCgrcC-RPQ_rB4SbNuYM0Q, Q_qh4YC25sLUT8ah508eqw, ph_iRO_Yf_ucy3SPW-HYog, YrKpGphRP2_jDbRW2sCyPQ, DnKLeBQuL8TdOf6VmBamGg, 2sK8sapyXF9FXQif6pWjzg, 6xbwnCuFUHWobRI5P-byEw, AayMkCuPT7N3LDkjCr93KQ, oBfgBcjAQLYTGWO1w4tdjQ, _N29WPjfRhfIZu4Pt2X_6g, 0_rVWyo_2q2L_6ISPYQZ_w, DHXySsgR1756kmfWUIq5xw, xLJVKsBzaYAjjWabrPyvZw, DCEEvGu50r-wNM4ydC4uRw, V7NFbgkmQkzcKTnktYIgBA, Yjduy18MFUoOO7TK2JKTwg, hXmalSoY3TiUUhZ3lCRJ9A, Pufrkl8nkiqmV3n9Qo4l3A, vwRMqdNg9WrX73Job5AbJA, LqWI1xBGtxmOwuCvHU2wcA, 5PzXa4X0iEp5oaigyIlPRA, RmFFeOLEAPWROgMv2axT7g, 2AoIXN7A2sV8mLhS81EVqw, cQ2sOV00rjIXz-8CBawnaw, k8uLP8DGafdjZzK9EP2ksQ, p_J-BS5fPfnzj1s1xZVamw, tL8MMOZBzkwv3XvPM2Dslg, zYAcVY7s9wiVe0zWaHUpqw, 4HerY8RyTPCtF9xccL21IA, GrAw_KtUdy2U-X5L2Q20PA, WCXUT8yJzJRhAblC766rLw, zdSuaVngp68RLNyVKR8CYA, Ji1knSWYbCgWvlg630WCCA, xgd8q2obC06CNVwfeBNoOQ, 8sDZdE9ix05Ir-3HvRLP5Q, uJEb02j5JpNvsVOOQqhMbg, GOsKMICiMPuMZE_q_PWpBQ, 9uMtXA0ry2F08Hp9LlI_Sw, erATqsx49ZWokZTWsqeMdQ, k5l1kK9qXjHRzKJjRV1Zig, Deh9UfeccW6-ZPpfoRqqEw, 8LAmeihdqxmv4HM0pevFNA, S-Yz865jFmdrjtL9fCpNGw, LD1DOKoTGeh6CD6HZPEqWQ, WLKvaEpGFtwG7ORGW7SRYQ, iMShEjkJ8N7iUZ3rHny5dg, Sna-v7VZAnlndia9KELFUw, V927Poxk6V0MSCLYEO1MCg, tPxfJb6duBfrXGG9I6b5wA, N5yMn_8ORhlxL2y3PGw52A, K2JN5OkIppeFiuPEi03SxQ, SAAbHZa8s4oueGbKeCHO-A, Yem3CVRwt0aHDO8Eopsi_A, UpOuHhBM36ND0SNFh-jLBg, b8i8tCxGp8ByREcx5gjT1w, t61qMdbJI-V_MPRrP_FHUQ, zDeMj3MpQYYGDYIHMa9k2Q, Qf5_RC-K7nB5SpBud3WQWQ, i1Qh3Ogmu7luUGASeDQLmA, pqMVEj3h40sIuv_B9ycmtw, MXEtkfm-aTQGXpzhWrWEdQ, 5fOlpAE__ZugOSowIkOnvw, 0LeUvOLuzU0Pdi8yrVsdFw, DFiAS--jiFmnXXHut1jyPg, ioqRCUtrzZi6Ou5b70JUrg, vIsEJsMbPGOVsSp04cc6EQ, loRojkU6DPq5E7A-rHLtAQ, _l3m6-BkMY1NTqMZsiRsqg, B1C4Eohkv6syASDvuBUI9g\",\"fans\":4,\"average_stars\":3.63,\"compliment_hot\":1,\"compliment_more\":0,\"compliment_profile\":0,\"compliment_cute\":0,\"compliment_list\":0,\"compliment_note\":0,\"compliment_plain\":0,\"compliment_cool\":1,\"compliment_funny\":1,\"compliment_writer\":0,\"compliment_photos\":0}\r\n"
     ]
    }
   ],
   "source": [
    "!head -2 yelp_dataset/user.json"
   ]
  },
  {
   "cell_type": "code",
   "execution_count": null,
   "metadata": {},
   "outputs": [],
   "source": []
  }
 ],
 "metadata": {
  "kernelspec": {
   "display_name": "Python 3",
   "language": "python",
   "name": "python3"
  },
  "language_info": {
   "codemirror_mode": {
    "name": "ipython",
    "version": 3
   },
   "file_extension": ".py",
   "mimetype": "text/x-python",
   "name": "python",
   "nbconvert_exporter": "python",
   "pygments_lexer": "ipython3",
   "version": "3.7.3"
  }
 },
 "nbformat": 4,
 "nbformat_minor": 2
}
