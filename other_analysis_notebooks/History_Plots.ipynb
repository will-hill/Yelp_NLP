{
 "cells": [
  {
   "cell_type": "markdown",
   "metadata": {},
   "source": [
    "# Test if we can plot saved histories"
   ]
  },
  {
   "cell_type": "code",
   "execution_count": 25,
   "metadata": {},
   "outputs": [
    {
     "name": "stdout",
     "output_type": "stream",
     "text": [
      "-rw-r--r-- 1 will sudo 220 Aug  5 02:37 models/193f7b3826e14f659e2da44d6a0334d2.history.json\r\n",
      "-rw-r--r-- 1 will sudo 220 Aug  5 02:27 models/fe393e856ce6409eae786452578aa9f9.history.json\r\n",
      "-rw-r--r-- 1 will sudo 220 Aug  5 02:04 models/8b9b2628b4f6402fbabf0664b3d30ab9.history.json\r\n",
      "-rw-r--r-- 1 will sudo 220 Aug  5 01:56 models/bfe0ded485ed4927bbc827f4d0bdaa21.history.json\r\n",
      "-rw-r--r-- 1 will sudo 465 Aug  5 01:00 models/3c422470a97040a689063e9d957eaed2.history.json\r\n",
      "-rw-r--r-- 1 will sudo 220 Aug  5 00:49 models/2ff141c69f6d4e9aaa7b4851c5b04c14.history.json\r\n",
      "-rw-r--r-- 1 will sudo 236 Aug  5 00:11 models/72fafe19b7d3410188e5a6987dc55726.history.json\r\n",
      "-rw-r--r-- 1 will sudo 236 Aug  4 23:56 models/62a7b63b1a744419a99287e5ce10e99c.history.json\r\n",
      "-rw-r--r-- 1 will sudo 238 Aug  4 23:38 models/b59fee58f5334820b68f7be7ffee83aa.history.json\r\n",
      "-rw-r--r-- 1 will sudo 237 Aug  4 22:51 models/42e568301c0b4a7e96b47188ffee05b3.history.json\r\n"
     ]
    }
   ],
   "source": [
    "!ls -lt models/*.history.json"
   ]
  },
  {
   "cell_type": "code",
   "execution_count": 26,
   "metadata": {},
   "outputs": [
    {
     "name": "stdout",
     "output_type": "stream",
     "text": [
      "{\"val_loss\": [NaN, NaN, NaN, NaN], \"val_mean_absolute_error\": [NaN, NaN, NaN, NaN], \"val_acc\": [0.0, 0.0, 0.0, 0.0], \"loss\": [NaN, NaN, NaN, NaN], \"mean_absolute_error\": [NaN, NaN, NaN, NaN], \"acc\": [0.0, 0.0, 0.0, 0.0]}\r\n",
      "\r\n",
      "{\"val_loss\": [NaN, NaN, NaN, NaN], \"val_mean_absolute_error\": [NaN, NaN, NaN, NaN], \"val_acc\": [0.0, 0.0, 0.0, 0.0], \"loss\": [NaN, NaN, NaN, NaN], \"mean_absolute_error\": [NaN, NaN, NaN, NaN], \"acc\": [0.0, 0.0, 0.0, 0.0]}\r\n",
      "\r\n",
      "{\"val_loss\": [6.994215901824887, 1.2030871573703947, 0.07762909446322125, 0.04072077429839826], \"val_mean_absolute_error\": [0.7898634786169643, 0.18860447838933453, 0.15640889681302583, 0.19050451629870646], \"val_acc\": [0.0, 0.0, 0.0, 0.0], \"loss\": [12.857325871635798, 1.9061390668482048, 0.5712481756356655, 0.1417585538440304], \"mean_absolute_error\": [2.1974576249044038, 0.8665334789335233, 0.4159839923269118, 0.22625727467032516], \"acc\": [0.0, 0.0, 0.0, 0.0]}\r\n",
      "\r\n",
      "{\"val_loss\": [NaN, NaN, NaN, NaN], \"val_mean_absolute_error\": [NaN, NaN, NaN, NaN], \"val_acc\": [0.0, 0.0, 0.0, 0.0], \"loss\": [NaN, NaN, NaN, NaN], \"mean_absolute_error\": [NaN, NaN, NaN, NaN], \"acc\": [0.014100268381441823, 0.0, 0.0, 0.0]}\r\n",
      "\r\n",
      "{\"val_loss\": [NaN, NaN, NaN, NaN], \"val_mean_absolute_error\": [NaN, NaN, NaN, NaN], \"val_acc\": [0.0, 0.0, 0.0, 0.0], \"loss\": [NaN, NaN, NaN, NaN], \"mean_absolute_error\": [NaN, NaN, NaN, NaN], \"acc\": [0.07184422593447067, 0.0, 0.0, 0.0]}\r\n",
      "\r\n",
      "{\"val_loss\": [NaN, NaN, NaN, NaN], \"val_mean_absolute_error\": [NaN, NaN, NaN, NaN], \"val_acc\": [0.0, 0.0, 0.0, 0.0], \"loss\": [NaN, NaN, NaN, NaN], \"mean_absolute_error\": [NaN, NaN, NaN, NaN], \"acc\": [0.04230080478413626, 0.0, 0.0, 0.0]}\r\n",
      "\r\n",
      "{\"val_loss\": [NaN, NaN, NaN, NaN], \"val_mean_absolute_error\": [NaN, NaN, NaN, NaN], \"val_acc\": [0.0, 0.0, 0.0, 0.0], \"loss\": [NaN, NaN, NaN, NaN], \"mean_absolute_error\": [NaN, NaN, NaN, NaN], \"acc\": [0.0, 0.0, 0.0, 0.0]}\r\n",
      "\r\n",
      "{\"val_loss\": [NaN, NaN, NaN, NaN], \"val_mean_absolute_error\": [NaN, NaN, NaN, NaN], \"val_acc\": [0.0, 0.0, 0.0, 0.0], \"loss\": [NaN, NaN, NaN, NaN], \"mean_absolute_error\": [NaN, NaN, NaN, NaN], \"acc\": [0.0006714413774632511, 0.0, 0.0, 0.0]}\r\n",
      "\r\n",
      "{\"val_loss\": [NaN, NaN, NaN, NaN], \"val_mean_absolute_error\": [NaN, NaN, NaN, NaN], \"val_acc\": [0.0, 0.0, 0.0, 0.0], \"loss\": [NaN, NaN, NaN, NaN], \"mean_absolute_error\": [NaN, NaN, NaN, NaN], \"acc\": [0.0, 0.0, 0.0, 0.0]}\r\n",
      "\r\n",
      "{\"val_loss\": [NaN, NaN, NaN, NaN], \"val_mean_absolute_error\": [NaN, NaN, NaN, NaN], \"val_acc\": [0.0, 0.0, 0.0, 0.0], \"loss\": [NaN, NaN, NaN, NaN], \"mean_absolute_error\": [NaN, NaN, NaN, NaN], \"acc\": [0.0, 0.0, 0.0, 0.0]}\r\n",
      "\r\n"
     ]
    }
   ],
   "source": [
    "!for i in `ls models/*.history.json`; do  cat $i ; echo '\\n'; done"
   ]
  },
  {
   "cell_type": "markdown",
   "metadata": {},
   "source": [
    ": ("
   ]
  },
  {
   "cell_type": "markdown",
   "metadata": {},
   "source": [
    ": ("
   ]
  },
  {
   "cell_type": "markdown",
   "metadata": {},
   "source": [
    ": ("
   ]
  },
  {
   "cell_type": "markdown",
   "metadata": {},
   "source": [
    ": ("
   ]
  },
  {
   "cell_type": "markdown",
   "metadata": {},
   "source": [
    "Nothing worth plotting yet"
   ]
  },
  {
   "cell_type": "code",
   "execution_count": null,
   "metadata": {},
   "outputs": [],
   "source": []
  }
 ],
 "metadata": {
  "kernelspec": {
   "display_name": "Python 3",
   "language": "python",
   "name": "python3"
  },
  "language_info": {
   "codemirror_mode": {
    "name": "ipython",
    "version": 3
   },
   "file_extension": ".py",
   "mimetype": "text/x-python",
   "name": "python",
   "nbconvert_exporter": "python",
   "pygments_lexer": "ipython3",
   "version": "3.7.3"
  }
 },
 "nbformat": 4,
 "nbformat_minor": 2
}
